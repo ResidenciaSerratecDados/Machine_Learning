{
 "cells": [
  {
   "cell_type": "code",
   "execution_count": 1,
   "id": "d1e26e94-5128-4b57-b0a8-5ca0e0a69c48",
   "metadata": {},
   "outputs": [],
   "source": [
    "#importações das bibliotecas\n",
    "import pandas as pd\n",
    "import numpy as np\n",
    "import matplotlib.pyplot as plt\n",
    "from sklearn.preprocessing import StandardScaler\n",
    "from sklearn.impute import SimpleImputer\n",
    "from sklearn.ensemble import RandomForestRegressor\n",
    "from scipy import stats\n",
    "import json"
   ]
  },
  {
   "cell_type": "code",
   "execution_count": 2,
   "id": "a186968c-844b-46c5-b63e-d19bc05cf447",
   "metadata": {},
   "outputs": [],
   "source": [
    "#importação das planilhas csv para serem dataframes\n",
    "df1000 = pd.read_csv(\"dataset_sudeste_relacionados_outliers_1K.csv\")"
   ]
  },
  {
   "cell_type": "code",
   "execution_count": 3,
   "id": "6c81361e-c0e6-4112-94e0-5149e337ae9e",
   "metadata": {},
   "outputs": [
    {
     "data": {
      "text/plain": [
       "['id', 'idade', 'renda', 'cidade', 'categoria', 'nota', 'feedback']"
      ]
     },
     "execution_count": 3,
     "metadata": {},
     "output_type": "execute_result"
    }
   ],
   "source": [
    "df1000.columns.tolist() #listar colunas de tabela de 1000 linhas"
   ]
  },
  {
   "cell_type": "code",
   "execution_count": 4,
   "id": "704fead7-6833-449f-9cf1-7e2edf1a3d53",
   "metadata": {},
   "outputs": [],
   "source": [
    "# Tratamento de NaN(nulos) - converter para 0 - tabela de 100 linhas\n",
    "df1000['idade'] = df1000['idade'].fillna(0)\n",
    "df1000['renda'] = df1000['renda'].fillna(0)\n",
    "df1000['cidade'] = df1000['cidade'].fillna(0)\n",
    "df1000['categoria'] = df1000['categoria'].fillna(0)\n",
    "df1000['nota'] = df1000['nota'].fillna(0)\n",
    "df1000['feedback'] = df1000['feedback'].fillna(0)"
   ]
  },
  {
   "cell_type": "code",
   "execution_count": 5,
   "id": "61bfa068-5cf0-452d-9fea-899a79a29f60",
   "metadata": {},
   "outputs": [
    {
     "data": {
      "text/html": [
       "<div>\n",
       "<style scoped>\n",
       "    .dataframe tbody tr th:only-of-type {\n",
       "        vertical-align: middle;\n",
       "    }\n",
       "\n",
       "    .dataframe tbody tr th {\n",
       "        vertical-align: top;\n",
       "    }\n",
       "\n",
       "    .dataframe thead th {\n",
       "        text-align: right;\n",
       "    }\n",
       "</style>\n",
       "<table border=\"1\" class=\"dataframe\">\n",
       "  <thead>\n",
       "    <tr style=\"text-align: right;\">\n",
       "      <th></th>\n",
       "      <th>id</th>\n",
       "      <th>idade</th>\n",
       "      <th>renda</th>\n",
       "      <th>cidade</th>\n",
       "      <th>categoria</th>\n",
       "      <th>nota</th>\n",
       "      <th>feedback</th>\n",
       "    </tr>\n",
       "  </thead>\n",
       "  <tbody>\n",
       "    <tr>\n",
       "      <th>0</th>\n",
       "      <td>1</td>\n",
       "      <td>58</td>\n",
       "      <td>8170.89</td>\n",
       "      <td>São Paulo</td>\n",
       "      <td>A</td>\n",
       "      <td>8.4</td>\n",
       "      <td>Bom</td>\n",
       "    </tr>\n",
       "    <tr>\n",
       "      <th>1</th>\n",
       "      <td>2</td>\n",
       "      <td>41</td>\n",
       "      <td>1574.11</td>\n",
       "      <td>São Paulo</td>\n",
       "      <td>B</td>\n",
       "      <td>6.7</td>\n",
       "      <td>Bom</td>\n",
       "    </tr>\n",
       "    <tr>\n",
       "      <th>2</th>\n",
       "      <td>3</td>\n",
       "      <td>79</td>\n",
       "      <td>16745.92</td>\n",
       "      <td>São Paulo</td>\n",
       "      <td>A</td>\n",
       "      <td>6.8</td>\n",
       "      <td>Bom</td>\n",
       "    </tr>\n",
       "    <tr>\n",
       "      <th>3</th>\n",
       "      <td>4</td>\n",
       "      <td>79</td>\n",
       "      <td>30742.92</td>\n",
       "      <td>Vitória</td>\n",
       "      <td>A</td>\n",
       "      <td>7.4</td>\n",
       "      <td>Bom</td>\n",
       "    </tr>\n",
       "    <tr>\n",
       "      <th>4</th>\n",
       "      <td>5</td>\n",
       "      <td>60</td>\n",
       "      <td>27694.04</td>\n",
       "      <td>Vitória</td>\n",
       "      <td>A</td>\n",
       "      <td>7.1</td>\n",
       "      <td>Bom</td>\n",
       "    </tr>\n",
       "    <tr>\n",
       "      <th>...</th>\n",
       "      <td>...</td>\n",
       "      <td>...</td>\n",
       "      <td>...</td>\n",
       "      <td>...</td>\n",
       "      <td>...</td>\n",
       "      <td>...</td>\n",
       "      <td>...</td>\n",
       "    </tr>\n",
       "    <tr>\n",
       "      <th>995</th>\n",
       "      <td>996</td>\n",
       "      <td>38</td>\n",
       "      <td>44862.28</td>\n",
       "      <td>Belo Horizonte</td>\n",
       "      <td>A</td>\n",
       "      <td>7.7</td>\n",
       "      <td>Bom</td>\n",
       "    </tr>\n",
       "    <tr>\n",
       "      <th>996</th>\n",
       "      <td>997</td>\n",
       "      <td>56</td>\n",
       "      <td>34306.80</td>\n",
       "      <td>Belo Horizonte</td>\n",
       "      <td>B</td>\n",
       "      <td>9.1</td>\n",
       "      <td>Bom</td>\n",
       "    </tr>\n",
       "    <tr>\n",
       "      <th>997</th>\n",
       "      <td>998</td>\n",
       "      <td>30</td>\n",
       "      <td>32088.55</td>\n",
       "      <td>Belo Horizonte</td>\n",
       "      <td>B</td>\n",
       "      <td>7.2</td>\n",
       "      <td>Bom</td>\n",
       "    </tr>\n",
       "    <tr>\n",
       "      <th>998</th>\n",
       "      <td>999</td>\n",
       "      <td>80</td>\n",
       "      <td>10832.60</td>\n",
       "      <td>Belo Horizonte</td>\n",
       "      <td>A</td>\n",
       "      <td>5.5</td>\n",
       "      <td>Bom</td>\n",
       "    </tr>\n",
       "    <tr>\n",
       "      <th>999</th>\n",
       "      <td>1000</td>\n",
       "      <td>18</td>\n",
       "      <td>36529.59</td>\n",
       "      <td>Belo Horizonte</td>\n",
       "      <td>B</td>\n",
       "      <td>9.2</td>\n",
       "      <td>Bom</td>\n",
       "    </tr>\n",
       "  </tbody>\n",
       "</table>\n",
       "<p>1000 rows × 7 columns</p>\n",
       "</div>"
      ],
      "text/plain": [
       "       id  idade     renda          cidade categoria  nota feedback\n",
       "0       1     58   8170.89       São Paulo         A   8.4      Bom\n",
       "1       2     41   1574.11       São Paulo         B   6.7      Bom\n",
       "2       3     79  16745.92       São Paulo         A   6.8      Bom\n",
       "3       4     79  30742.92         Vitória         A   7.4      Bom\n",
       "4       5     60  27694.04         Vitória         A   7.1      Bom\n",
       "..    ...    ...       ...             ...       ...   ...      ...\n",
       "995   996     38  44862.28  Belo Horizonte         A   7.7      Bom\n",
       "996   997     56  34306.80  Belo Horizonte         B   9.1      Bom\n",
       "997   998     30  32088.55  Belo Horizonte         B   7.2      Bom\n",
       "998   999     80  10832.60  Belo Horizonte         A   5.5      Bom\n",
       "999  1000     18  36529.59  Belo Horizonte         B   9.2      Bom\n",
       "\n",
       "[1000 rows x 7 columns]"
      ]
     },
     "metadata": {},
     "output_type": "display_data"
    }
   ],
   "source": [
    "#feedbackisualização de tabela tratada de 1000 linhas\n",
    "display(df1000.head(1000))"
   ]
  },
  {
   "cell_type": "code",
   "execution_count": 6,
   "id": "6022f6be-baf4-4f3f-b55f-01f4bf25239a",
   "metadata": {},
   "outputs": [
    {
     "name": "stdout",
     "output_type": "stream",
     "text": [
      "\n",
      "### Descrição Estatística 1000###\n",
      "                id        idade         renda         nota\n",
      "count  1000.000000  1000.000000   1000.000000  1000.000000\n",
      "mean    500.500000    49.573000  24060.805410     7.406600\n",
      "std     288.819436    19.385987  13867.493592     1.564149\n",
      "min       1.000000     8.000000   1025.710000     0.200000\n",
      "25%     250.750000    33.000000  12293.352500     6.100000\n",
      "50%     500.500000    50.000000  23762.440000     7.400000\n",
      "75%     750.250000    66.000000  35709.882500     8.700000\n",
      "max    1000.000000   114.000000  91421.570000    10.000000\n"
     ]
    }
   ],
   "source": [
    "# Média, mínimo, máximo, quartis, margem de erro, contagem\n",
    "print(\"\\n### Descrição Estatística 1000###\")\n",
    "print(df1000.describe())"
   ]
  },
  {
   "cell_type": "code",
   "execution_count": 7,
   "id": "b05672b4-388a-4378-94be-351604ead0ed",
   "metadata": {},
   "outputs": [
    {
     "name": "stdout",
     "output_type": "stream",
     "text": [
      "Média de Idade - 1000 Elementos: 50.0\n",
      "Mediana de Idade - 1000 Elementos: 50.0\n",
      "Desvio Padrão de Idade - 1000 Elementos: 19.0\n",
      "Maior Valor de Idade - 1000 Elementos: 114\n",
      "Menor Valor de Idade - 1000 Elementos: 8\n"
     ]
    }
   ],
   "source": [
    "# Cálculos Estatísticos de idade\n",
    "media_idade1000 = sum(df1000['idade'])/len(df1000['idade'])\n",
    "mediana_idade1000 = df1000['idade'].median()\n",
    "desvio_padrao_idade1000 = df1000['idade'].std()\n",
    "maximo_idade1000 = df1000['idade'].max()\n",
    "minimo_idade1000 = df1000['idade'].min()\n",
    "\n",
    "print('Média de Idade - 1000 Elementos:',round(media_idade1000,0))\n",
    "print('Mediana de Idade - 1000 Elementos:',round(mediana_idade1000,0))\n",
    "print('Desvio Padrão de Idade - 1000 Elementos:',round(desvio_padrao_idade1000,0))\n",
    "print('Maior Valor de Idade - 1000 Elementos:',round(maximo_idade1000,0))\n",
    "print('Menor Valor de Idade - 1000 Elementos:',round(minimo_idade1000,0))"
   ]
  },
  {
   "cell_type": "code",
   "execution_count": 8,
   "id": "41d54cb7-7ca2-4328-afdb-31b47d095ab5",
   "metadata": {},
   "outputs": [
    {
     "name": "stdout",
     "output_type": "stream",
     "text": [
      "Média de Renda - 1000 Elementos: 24060.81\n",
      "Mediana de Renda - 1000 Elementos: 23762.44\n",
      "Desvio Padrão de Renda - 1000 Elementos: 13867.49\n",
      "Maior Valor de Renda - 1000 Elementos: 91421.57\n",
      "Menor Valor de Renda - 1000 Elementos: 1025.71\n"
     ]
    }
   ],
   "source": [
    "# Cálculos Estatísticos de renda\n",
    "media_renda1000 = sum(df1000['renda'])/len(df1000['renda'])\n",
    "mediana_renda1000 = df1000['renda'].median()\n",
    "desvio_padrao_renda1000 = df1000['renda'].std()\n",
    "maximo_renda1000 = df1000['renda'].max()\n",
    "minimo_renda1000 = df1000['renda'].min()\n",
    "\n",
    "print('Média de Renda - 1000 Elementos:',round(media_renda1000,2))\n",
    "print('Mediana de Renda - 1000 Elementos:',round(mediana_renda1000,2))\n",
    "print('Desvio Padrão de Renda - 1000 Elementos:',round(desvio_padrao_renda1000,2))\n",
    "print('Maior Valor de Renda - 1000 Elementos:',round(maximo_renda1000,2))\n",
    "print('Menor Valor de Renda - 1000 Elementos:',round(minimo_renda1000,2))"
   ]
  },
  {
   "cell_type": "code",
   "execution_count": 9,
   "id": "0f54a190-9682-46a4-b783-1a403370548d",
   "metadata": {},
   "outputs": [
    {
     "name": "stdout",
     "output_type": "stream",
     "text": [
      "Média de Nota - 1000 Elementos: 7.41\n",
      "Mediana de Nota - 1000 Elementos: 7.4\n",
      "Desvio Padrão de Nota - 1000 Elementos: 1.56\n",
      "Maior Valor de Nota - 1000 Elementos: 10.0\n",
      "Menor Valor de Nota - 1000 Elementos: 0.2\n"
     ]
    }
   ],
   "source": [
    "# Cálculos Estatísticos de nota\n",
    "media_nota1000 = sum(df1000['nota'])/len(df1000['nota'])\n",
    "mediana_nota1000 = df1000['nota'].median()\n",
    "desvio_padrao_nota1000 = df1000['nota'].std()\n",
    "maximo_nota1000 = df1000['nota'].max()\n",
    "minimo_nota1000 = df1000['nota'].min()\n",
    "\n",
    "print('Média de Nota - 1000 Elementos:',round(media_nota1000,2))\n",
    "print('Mediana de Nota - 1000 Elementos:',round(mediana_nota1000,2))\n",
    "print('Desvio Padrão de Nota - 1000 Elementos:',round(desvio_padrao_nota1000,2))\n",
    "print('Maior Valor de Nota - 1000 Elementos:',round(maximo_nota1000,2))\n",
    "print('Menor Valor de Nota - 1000 Elementos:',round(minimo_nota1000,2))"
   ]
  },
  {
   "cell_type": "code",
   "execution_count": 10,
   "id": "79236da5-ee74-4d7b-868e-f9fd86bd06df",
   "metadata": {},
   "outputs": [
    {
     "name": "stdout",
     "output_type": "stream",
     "text": [
      "\n",
      "\n",
      "\t IQR - Campo Renda - 1000\n",
      "\n",
      "\n",
      "Quartis -> Q1: 12293.35  ->  Q3: 35709.88\n",
      "IQR ----- 23416.53\n",
      "Limites - Inf: -22831.44  -> Sup: 70834.68\n"
     ]
    }
   ],
   "source": [
    "#Calculando o IQR e identificando os limites - Renda\n",
    "Q1_renda1000 = df1000['renda'].quantile(0.25)\n",
    "Q3_renda1000 = df1000['renda'].quantile(0.75)\n",
    "IQR_renda1000 = Q3_renda1000 - Q1_renda1000\n",
    "limite_inferior_renda1000 = Q1_renda1000 - 1.5 * IQR_renda1000\n",
    "limite_superior_renda1000 = Q3_renda1000 + 1.5 * IQR_renda1000\n",
    "\n",
    "print (f\"\\n\\n\\t IQR - Campo Renda - 1000\\n\\n\")\n",
    "print(f\"Quartis -> Q1: {Q1_renda1000:-8.2f}  ->  Q3: {Q3_renda1000:-8.2f}\")\n",
    "print(f\"IQR ----- {IQR_renda1000}\")\n",
    "print(f\"Limites - Inf: {limite_inferior_renda1000:-8.2f}  -> Sup: {limite_superior_renda1000:-8.2f}\")"
   ]
  },
  {
   "cell_type": "code",
   "execution_count": 11,
   "id": "592036fe-d6f6-4c72-be87-95bdf23696a9",
   "metadata": {},
   "outputs": [
    {
     "name": "stdout",
     "output_type": "stream",
     "text": [
      "\n",
      "\n",
      "\t IQR - Campo Idade - 1000\n",
      "\n",
      "\n",
      "Quartis -> Q1:    33.00  ->  Q3:    66.00\n",
      "IQR ----- 33.0\n",
      "Limites - Inf:   -16.50  -> Sup:   115.50\n"
     ]
    }
   ],
   "source": [
    "#Calculando o IQR e identificando os limites - Idade\n",
    "Q1_idade1000 = df1000['idade'].quantile(0.25)\n",
    "Q3_idade1000 = df1000['idade'].quantile(0.75)\n",
    "IQR_idade1000 = Q3_idade1000 - Q1_idade1000\n",
    "limite_inferior_idade1000 = Q1_idade1000 - 1.5 * IQR_idade1000\n",
    "limite_superior_idade1000 = Q3_idade1000 + 1.5 * IQR_idade1000\n",
    "\n",
    "print (f\"\\n\\n\\t IQR - Campo Idade - 1000\\n\\n\")\n",
    "print(f\"Quartis -> Q1: {Q1_idade1000:-8.2f}  ->  Q3: {Q3_idade1000:-8.2f}\")\n",
    "print(f\"IQR ----- {IQR_idade1000}\")\n",
    "print(f\"Limites - Inf: {limite_inferior_idade1000:-8.2f}  -> Sup: {limite_superior_idade1000:-8.2f}\")"
   ]
  },
  {
   "cell_type": "code",
   "execution_count": 12,
   "id": "f9debfeb-baca-4b0a-9a7a-5b5674a9c4eb",
   "metadata": {},
   "outputs": [
    {
     "name": "stdout",
     "output_type": "stream",
     "text": [
      "\n",
      "\n",
      "\t IQR - Campo Nota - 1000\n",
      "\n",
      "\n",
      "Quartis -> Q1:     6.10  ->  Q3:     8.70\n",
      "IQR ----- 2.5999999999999996\n",
      "Limites - Inf:     2.20  -> Sup:    12.60\n"
     ]
    }
   ],
   "source": [
    "#Calculando o IQR e identificando os limites - Nota\n",
    "Q1_nota1000 = df1000['nota'].quantile(0.25)\n",
    "Q3_nota1000 = df1000['nota'].quantile(0.75)\n",
    "IQR_nota1000 = Q3_nota1000 - Q1_nota1000\n",
    "limite_inferior_nota1000 = Q1_nota1000 - 1.5 * IQR_nota1000\n",
    "limite_superior_nota1000 = Q3_nota1000 + 1.5 * IQR_nota1000\n",
    "\n",
    "print (f\"\\n\\n\\t IQR - Campo Nota - 1000\\n\\n\")\n",
    "print(f\"Quartis -> Q1: {Q1_nota1000:-8.2f}  ->  Q3: {Q3_nota1000:-8.2f}\")\n",
    "print(f\"IQR ----- {IQR_nota1000}\")\n",
    "print(f\"Limites - Inf: {limite_inferior_nota1000:-8.2f}  -> Sup: {limite_superior_nota1000:-8.2f}\")"
   ]
  },
  {
   "cell_type": "code",
   "execution_count": 13,
   "id": "ff3dfa42-08da-4f6b-ad0d-51a0cb5ed2d9",
   "metadata": {},
   "outputs": [
    {
     "name": "stdout",
     "output_type": "stream",
     "text": [
      "\n",
      "### Possíveis Outliers em 'renda' - 1000 Elementos###\n",
      "\n",
      "      id  idade     renda          cidade categoria  nota feedback\n",
      "235  236    113  87936.05  Belo Horizonte         B   2.0      Bom\n",
      "251  252     95  89393.75         Vitória         A   4.3      Bom\n",
      "494  495     15  90902.54         Vitória         A   4.2      Bom\n",
      "886  887     85  91421.57  Rio de Janeiro         A   1.0      Bom\n",
      "964  965     84  87218.18         Vitória         A   2.2      Bom\n",
      "\n",
      "\n",
      "\n"
     ]
    }
   ],
   "source": [
    "#Outliers Renda\n",
    "outliers_renda1000 = df1000[(df1000['renda'] < limite_inferior_renda1000) | (df1000['renda'] > limite_superior_renda1000)]\n",
    "print(f\"\\n### Possíveis Outliers em 'renda' - 1000 Elementos###\\n\\n{outliers_renda1000}\\n\\n\\n\")"
   ]
  },
  {
   "cell_type": "code",
   "execution_count": 14,
   "id": "68c782be-0db5-4c1d-9689-9a3656e49a83",
   "metadata": {},
   "outputs": [
    {
     "name": "stdout",
     "output_type": "stream",
     "text": [
      "\n",
      "### Possíveis Outliers em 'idade' - 1000 Elementos###\n",
      "\n",
      "Empty DataFrame\n",
      "Columns: [id, idade, renda, cidade, categoria, nota, feedback]\n",
      "Index: []\n",
      "\n",
      "\n",
      "\n"
     ]
    }
   ],
   "source": [
    "#Outliers Idade\n",
    "outliers_idade1000 = df1000[(df1000['idade'] < limite_inferior_idade1000) | (df1000['idade'] > limite_superior_idade1000)]\n",
    "print(f\"\\n### Possíveis Outliers em 'idade' - 1000 Elementos###\\n\\n{outliers_idade1000}\\n\\n\\n\")"
   ]
  },
  {
   "cell_type": "code",
   "execution_count": 15,
   "id": "35e9675a-fa8b-408f-88f3-cb946659a174",
   "metadata": {},
   "outputs": [
    {
     "name": "stdout",
     "output_type": "stream",
     "text": [
      "\n",
      "### Possíveis Outliers em 'nota' - 1000 Elementos###\n",
      "\n",
      "      id  idade     renda          cidade categoria  nota feedback\n",
      "235  236    113  87936.05  Belo Horizonte         B   2.0      Bom\n",
      "310  311    114   1025.71  Belo Horizonte         A   1.7      Bom\n",
      "861  862    113   1457.17  Rio de Janeiro         A   0.9      Bom\n",
      "886  887     85  91421.57  Rio de Janeiro         A   1.0      Bom\n",
      "917  918     95   1199.20         Vitória         B   0.2      Bom\n",
      "\n",
      "\n",
      "\n"
     ]
    }
   ],
   "source": [
    "#Outliers Nota\n",
    "outliers_nota1000 = df1000[(df1000['nota'] < limite_inferior_nota1000) | (df1000['nota'] > limite_superior_nota1000)]\n",
    "print(f\"\\n### Possíveis Outliers em 'nota' - 1000 Elementos###\\n\\n{outliers_nota1000}\\n\\n\\n\")"
   ]
  },
  {
   "cell_type": "code",
   "execution_count": 16,
   "id": "2faefb67-ed6c-4d03-aa5a-d5f07c8a4b56",
   "metadata": {},
   "outputs": [],
   "source": [
    "#Conversão da planilha tratada para csv\n",
    "df1000.to_csv('Relacionado1000_Tratado.csv', index=False)"
   ]
  },
  {
   "cell_type": "code",
   "execution_count": 17,
   "id": "8f4c5ae2-a939-451d-86d6-61eab708d611",
   "metadata": {},
   "outputs": [
    {
     "name": "stdout",
     "output_type": "stream",
     "text": [
      "Arquivo salvo com sucesso para importação no MongoDB Atlas - 1000 linhas!\n"
     ]
    }
   ],
   "source": [
    "# Converter para lista de dicionários (documentos MongoDB)\n",
    "dados_mongo1000 = df1000.to_dict(orient='records')\n",
    "\n",
    "# Salvar como JSON\n",
    "with open('dados_mongo_Relacionado1000.json', 'w', encoding='utf-8') as f:\n",
    "    json.dump(dados_mongo1000, f, ensure_ascii=False, indent=2)\n",
    "\n",
    "print(\"Arquivo salvo com sucesso para importação no MongoDB Atlas - 1000 linhas!\")"
   ]
  },
  {
   "cell_type": "code",
   "execution_count": 18,
   "id": "ea27bf52-88c9-4b3d-a596-e2588f2f85a9",
   "metadata": {},
   "outputs": [
    {
     "data": {
      "image/png": "[encoded data removed]",
      "text/plain": [
       "<Figure size 640x480 with 1 Axes>"
      ]
     },
     "metadata": {},
     "output_type": "display_data"
    }
   ],
   "source": [
    "#Geração Gráfico - Idade - 1000 linhas\n",
    "plt.boxplot(df1000['idade'])\n",
    "plt.title(\"Boxplot - Idade - 1000 Elementos\")\n",
    "plt.show()"
   ]
  },
  {
   "cell_type": "code",
   "execution_count": 19,
   "id": "e0b3f1aa-9677-433b-9be0-7c4b4da7306b",
   "metadata": {},
   "outputs": [
    {
     "data": {
      "image/png": "[encoded data removed]",
      "text/plain": [
       "<Figure size 640x480 with 1 Axes>"
      ]
     },
     "metadata": {},
     "output_type": "display_data"
    }
   ],
   "source": [
    "#Geração Gráfico - Renda - 1000 linhas\n",
    "plt.boxplot(df1000['renda'])\n",
    "plt.title(\"Boxplot - Renda - 1000 Elementos\")\n",
    "plt.show()"
   ]
  },
  {
   "cell_type": "code",
   "execution_count": 20,
   "id": "8774d8c1-b2d0-489a-a8dd-b976ab4c72e6",
   "metadata": {},
   "outputs": [
    {
     "data": {
      "image/png": "[encoded data removed]",
      "text/plain": [
       "<Figure size 640x480 with 1 Axes>"
      ]
     },
     "metadata": {},
     "output_type": "display_data"
    }
   ],
   "source": [
    "#Geração Gráfico - Nota - 1000 linhas\n",
    "plt.boxplot(df1000['nota'])\n",
    "plt.title(\"Boxplot - Nota - 1000 Elementos\")\n",
    "plt.show()"
   ]
  }
 ],
 "metadata": {
  "kernelspec": {
   "display_name": "Python ML (venv)",
   "language": "python",
   "name": "machine_learning"
  },
  "language_info": {
   "codemirror_mode": {
    "name": "ipython",
    "version": 3
   },
   "file_extension": ".py",
   "mimetype": "text/x-python",
   "name": "python",
   "nbconvert_exporter": "python",
   "pygments_lexer": "ipython3",
   "version": "3.10.5"
  }
 },
 "nbformat": 4,
 "nbformat_minor": 5
}
