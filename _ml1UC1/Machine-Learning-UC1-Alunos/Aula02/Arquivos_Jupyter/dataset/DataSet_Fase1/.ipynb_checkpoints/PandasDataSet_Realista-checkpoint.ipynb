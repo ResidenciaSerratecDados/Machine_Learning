{
 "cells": [
  {
   "cell_type": "code",
   "execution_count": 1,
   "id": "86cfb2fd-8712-47db-883e-067f7513f363",
   "metadata": {},
   "outputs": [],
   "source": [
    "import pandas as pd\n",
    "import numpy as np\n",
    "import matplotlib.pyplot as plt\n",
    "from sklearn.preprocessing import StandardScaler, OneHotEncoder\n",
    "from sklearn.impute import SimpleImputer\n",
    "\n",
    "from sklearn.model_selection import train_test_split\n",
    "from sklearn.linear_model import LogisticRegression\n",
    "from sklearn.metrics import accuracy_score, classification_report, confusion_matrix\n",
    "from joblib import dump, load"
   ]
  },
  {
   "cell_type": "code",
   "execution_count": 6,
   "id": "c195112b-6163-40fe-96a3-bbf95a398825",
   "metadata": {},
   "outputs": [],
   "source": [
    "df_final =pd.read_csv('dataset_tratado_sudeste_realista_outliers-fase1.csv')"
   ]
  },
  {
   "cell_type": "code",
   "execution_count": 10,
   "id": "bb89b4ed-3492-4a45-ae9a-135d0f5056c9",
   "metadata": {},
   "outputs": [
    {
     "name": "stdout",
     "output_type": "stream",
     "text": [
      "\n",
      "\n",
      "Features \n",
      "\n",
      "         idade     renda      nota\n",
      "0    -0.281282 -0.594385 -0.158811\n",
      "1     1.290886  0.660303  0.150648\n",
      "2     1.102226  0.506372  0.013110\n",
      "3     1.102226  0.379618 -1.087188\n",
      "4     0.599132 -1.045392  0.185032\n",
      "...        ...       ...       ...\n",
      "1934  1.416660  0.007857 -0.399501\n",
      "1935  0.536245  1.288536  1.182177\n",
      "1936  0.284698  0.137883 -1.671721\n",
      "1937 -1.035923 -1.179186 -0.984035\n",
      "1938 -1.413244  1.613043  0.460106\n",
      "\n",
      "[1939 rows x 3 columns] \n",
      "\n"
     ]
    }
   ],
   "source": [
    "# X = todas as coluna, exceto 'categoria'\n",
    "#X = df_final.drop('categoria', axis=1)\n",
    "X = df_final[['idade','renda','nota']]\n",
    "\n",
    "# Y = a coluna que queremos prever\n",
    "Y = df_final['categoria']\n",
    "\n",
    "print(f\"\\n\\nFeatures \\n\\n{X} \\n\")"
   ]
  },
  {
   "cell_type": "code",
   "execution_count": 11,
   "id": "79482cd0-ccb8-489d-b4cb-c8e366ebb16d",
   "metadata": {},
   "outputs": [],
   "source": [
    "X_train, X_test, Y_train, Y_test = train_test_split(\n",
    "    X, Y, \n",
    "    test_size=0.2,     # 20% dos dados serão usados para teste\n",
    "    random_state=42,   # garantir reprodutibilidade\n",
    "    stratify=Y         # manter proporção das classes em treino e teste\n",
    ")"
   ]
  },
  {
   "cell_type": "code",
   "execution_count": 12,
   "id": "c44f1be4-0c43-4a9a-bc66-93712cf40212",
   "metadata": {},
   "outputs": [
    {
     "name": "stdout",
     "output_type": "stream",
     "text": [
      "Dados de Treino - Features \n",
      "\n",
      "         idade     renda      nota\n",
      "755   0.787792 -0.376295  1.010255\n",
      "119   1.605320  0.312590 -0.743344\n",
      "39   -0.155509  1.579380  1.422867\n",
      "1724 -0.532829 -0.450833 -1.224725\n",
      "1004 -1.035923 -0.130374  0.081879 \n",
      "\n",
      "\n",
      "\n",
      "Dados de Treino - Targets \n",
      "\n",
      "755     A\n",
      "119     A\n",
      "39      A\n",
      "1724    A\n",
      "1004    A\n",
      "Name: categoria, dtype: object \n",
      "\n",
      "\n",
      "\n",
      "Dados de Teste - Features \n",
      "\n",
      "         idade     renda      nota\n",
      "85    0.976452  1.460592  0.941487\n",
      "1093  1.353773 -1.395869 -0.502654\n",
      "270   1.479546  0.064064 -0.949650\n",
      "367   0.410472  1.372180  1.629173\n",
      "395   0.221812  0.415940  1.216561 \n",
      "\n",
      "\n",
      "\n",
      "Dados de Teste - Targets \n",
      "\n",
      "85      B\n",
      "1093    A\n",
      "270     A\n",
      "367     A\n",
      "395     B\n",
      "Name: categoria, dtype: object \n",
      "\n",
      "\n",
      "\n"
     ]
    }
   ],
   "source": [
    "print (f\"Dados de Treino - Features \\n\\n{X_train.head(5)} \\n\\n\\n\")\n",
    "print (f\"Dados de Treino - Targets \\n\\n{Y_train.head(5)} \\n\\n\\n\")\n",
    "\n",
    "print (f\"Dados de Teste - Features \\n\\n{X_test.head(5)} \\n\\n\\n\")\n",
    "print (f\"Dados de Teste - Targets \\n\\n{Y_test.head(5)} \\n\\n\\n\")"
   ]
  },
  {
   "cell_type": "code",
   "execution_count": 21,
   "id": "411330a7-e984-46b6-a541-93cde37ca902",
   "metadata": {},
   "outputs": [
    {
     "name": "stdout",
     "output_type": "stream",
     "text": [
      "Acurácia do modelo: 0.44\n"
     ]
    }
   ],
   "source": [
    "from sklearn.ensemble import RandomForestClassifier\n",
    "\n",
    "# Treinamento do modelo\n",
    "modelo = RandomForestClassifier()\n",
    "modelo.fit(X_train, Y_train)\n",
    "\n",
    "# Definindo Y_pred com as previsões do modelo\n",
    "Y_pred = modelo.predict(X_test)\n",
    "\n",
    "acuracia = accuracy_score(Y_test, Y_pred)\n",
    "print(f'Acurácia do modelo: {acuracia:.2f}')"
   ]
  },
  {
   "cell_type": "code",
   "execution_count": 22,
   "id": "600748a9-388a-465c-babc-80ccdb89132b",
   "metadata": {},
   "outputs": [
    {
     "name": "stdout",
     "output_type": "stream",
     "text": [
      "              precision    recall  f1-score   support\n",
      "\n",
      "           A       0.43      0.45      0.44       189\n",
      "           B       0.46      0.44      0.45       199\n",
      "\n",
      "    accuracy                           0.44       388\n",
      "   macro avg       0.44      0.44      0.44       388\n",
      "weighted avg       0.44      0.44      0.44       388\n",
      "\n"
     ]
    }
   ],
   "source": [
    "print(classification_report(Y_test, Y_pred))"
   ]
  },
  {
   "cell_type": "code",
   "execution_count": 24,
   "id": "84a89ae7-6709-450d-97a2-cdf414c7b288",
   "metadata": {},
   "outputs": [
    {
     "name": "stdout",
     "output_type": "stream",
     "text": [
      "[[ 85 104]\n",
      " [112  87]]\n"
     ]
    }
   ],
   "source": [
    "print(confusion_matrix(Y_test, Y_pred))"
   ]
  },
  {
   "cell_type": "code",
   "execution_count": 25,
   "id": "571485ec-247f-42cb-93da-b167c1976242",
   "metadata": {},
   "outputs": [
    {
     "data": {
      "text/plain": [
       "['modelo_regressao_logistica.joblib']"
      ]
     },
     "execution_count": 25,
     "metadata": {},
     "output_type": "execute_result"
    }
   ],
   "source": [
    "dump(modelo, 'modelo_regressao_logistica.joblib')"
   ]
  }
 ],
 "metadata": {
  "kernelspec": {
   "display_name": "Python ML (venv)",
   "language": "python",
   "name": "machine_learning"
  },
  "language_info": {
   "codemirror_mode": {
    "name": "ipython",
    "version": 3
   },
   "file_extension": ".py",
   "mimetype": "text/x-python",
   "name": "python",
   "nbconvert_exporter": "python",
   "pygments_lexer": "ipython3",
   "version": "3.10.5"
  }
 },
 "nbformat": 4,
 "nbformat_minor": 5
}
