{
 "cells": [
  {
   "cell_type": "code",
   "execution_count": 6,
   "id": "d1e26e94-5128-4b57-b0a8-5ca0e0a69c48",
   "metadata": {},
   "outputs": [],
   "source": [
    "#importações das bibliotecas\n",
    "import pandas as pd\n",
    "import numpy as np\n",
    "import matplotlib.pyplot as plt\n",
    "from sklearn.preprocessing import StandardScaler\n",
    "from sklearn.impute import SimpleImputer\n",
    "from sklearn.ensemble import RandomForestRegressor\n",
    "from scipy import stats\n",
    "import json"
   ]
  },
  {
   "cell_type": "code",
   "execution_count": 8,
   "id": "a186968c-844b-46c5-b63e-d19bc05cf447",
   "metadata": {},
   "outputs": [],
   "source": [
    "#importação das planilhas csv para serem dataframes\n",
    "df100 = pd.read_csv(\"dataset_sudeste_realista_outliers-100.csv\")"
   ]
  },
  {
   "cell_type": "code",
   "execution_count": 9,
   "id": "6c81361e-c0e6-4112-94e0-5149e337ae9e",
   "metadata": {},
   "outputs": [
    {
     "data": {
      "text/plain": [
       "['id', 'idade', 'renda', 'cidade', 'categoria', 'nota', 'feedback']"
      ]
     },
     "execution_count": 9,
     "metadata": {},
     "output_type": "execute_result"
    }
   ],
   "source": [
    "df100.columns.tolist() #listar colunas de tabela de 100 linhas"
   ]
  },
  {
   "cell_type": "code",
   "execution_count": 10,
   "id": "704fead7-6833-449f-9cf1-7e2edf1a3d53",
   "metadata": {},
   "outputs": [],
   "source": [
    "# Tratamento de NaN(nulos) - converter para 0 - tabela de 100 linhas\n",
    "df100['idade'] = df100['idade'].fillna(0)\n",
    "df100['renda'] = df100['renda'].fillna(0)\n",
    "df100['cidade'] = df100['cidade'].fillna(0)\n",
    "df100['categoria'] = df100['categoria'].fillna(0)\n",
    "df100['nota'] = df100['nota'].fillna(0)\n",
    "df100['feedback'] = df100['feedback'].fillna(0)"
   ]
  },
  {
   "cell_type": "code",
   "execution_count": 11,
   "id": "61bfa068-5cf0-452d-9fea-899a79a29f60",
   "metadata": {},
   "outputs": [
    {
     "data": {
      "text/html": [
       "<div>\n",
       "<style scoped>\n",
       "    .dataframe tbody tr th:only-of-type {\n",
       "        vertical-align: middle;\n",
       "    }\n",
       "\n",
       "    .dataframe tbody tr th {\n",
       "        vertical-align: top;\n",
       "    }\n",
       "\n",
       "    .dataframe thead th {\n",
       "        text-align: right;\n",
       "    }\n",
       "</style>\n",
       "<table border=\"1\" class=\"dataframe\">\n",
       "  <thead>\n",
       "    <tr style=\"text-align: right;\">\n",
       "      <th></th>\n",
       "      <th>id</th>\n",
       "      <th>idade</th>\n",
       "      <th>renda</th>\n",
       "      <th>cidade</th>\n",
       "      <th>categoria</th>\n",
       "      <th>nota</th>\n",
       "      <th>feedback</th>\n",
       "    </tr>\n",
       "  </thead>\n",
       "  <tbody>\n",
       "    <tr>\n",
       "      <th>0</th>\n",
       "      <td>1</td>\n",
       "      <td>57.0</td>\n",
       "      <td>22701.87</td>\n",
       "      <td>Rio de Janeiro</td>\n",
       "      <td>A</td>\n",
       "      <td>6.8</td>\n",
       "      <td>Bom</td>\n",
       "    </tr>\n",
       "    <tr>\n",
       "      <th>1</th>\n",
       "      <td>2</td>\n",
       "      <td>45.0</td>\n",
       "      <td>3820.44</td>\n",
       "      <td>Belo Horizonte</td>\n",
       "      <td>B</td>\n",
       "      <td>5.6</td>\n",
       "      <td>Bom</td>\n",
       "    </tr>\n",
       "    <tr>\n",
       "      <th>2</th>\n",
       "      <td>3</td>\n",
       "      <td>31.0</td>\n",
       "      <td>5606.17</td>\n",
       "      <td>Belo Horizonte</td>\n",
       "      <td>A</td>\n",
       "      <td>9.1</td>\n",
       "      <td>Bom</td>\n",
       "    </tr>\n",
       "    <tr>\n",
       "      <th>3</th>\n",
       "      <td>4</td>\n",
       "      <td>70.0</td>\n",
       "      <td>16354.61</td>\n",
       "      <td>Belo Horizonte</td>\n",
       "      <td>A</td>\n",
       "      <td>6.5</td>\n",
       "      <td>Bom</td>\n",
       "    </tr>\n",
       "    <tr>\n",
       "      <th>4</th>\n",
       "      <td>5</td>\n",
       "      <td>68.0</td>\n",
       "      <td>9418.66</td>\n",
       "      <td>Belo Horizonte</td>\n",
       "      <td>A</td>\n",
       "      <td>6.5</td>\n",
       "      <td>Bom</td>\n",
       "    </tr>\n",
       "    <tr>\n",
       "      <th>...</th>\n",
       "      <td>...</td>\n",
       "      <td>...</td>\n",
       "      <td>...</td>\n",
       "      <td>...</td>\n",
       "      <td>...</td>\n",
       "      <td>...</td>\n",
       "      <td>...</td>\n",
       "    </tr>\n",
       "    <tr>\n",
       "      <th>95</th>\n",
       "      <td>96</td>\n",
       "      <td>37.0</td>\n",
       "      <td>29868.68</td>\n",
       "      <td>São Paulo</td>\n",
       "      <td>A</td>\n",
       "      <td>8.2</td>\n",
       "      <td>Bom</td>\n",
       "    </tr>\n",
       "    <tr>\n",
       "      <th>96</th>\n",
       "      <td>97</td>\n",
       "      <td>54.0</td>\n",
       "      <td>13883.32</td>\n",
       "      <td>São Paulo</td>\n",
       "      <td>B</td>\n",
       "      <td>8.9</td>\n",
       "      <td>Bom</td>\n",
       "    </tr>\n",
       "    <tr>\n",
       "      <th>97</th>\n",
       "      <td>98</td>\n",
       "      <td>41.0</td>\n",
       "      <td>39972.51</td>\n",
       "      <td>Vitória</td>\n",
       "      <td>A</td>\n",
       "      <td>8.3</td>\n",
       "      <td>Bom</td>\n",
       "    </tr>\n",
       "    <tr>\n",
       "      <th>98</th>\n",
       "      <td>99</td>\n",
       "      <td>16.0</td>\n",
       "      <td>15611.64</td>\n",
       "      <td>Belo Horizonte</td>\n",
       "      <td>A</td>\n",
       "      <td>7.6</td>\n",
       "      <td>Bom</td>\n",
       "    </tr>\n",
       "    <tr>\n",
       "      <th>99</th>\n",
       "      <td>100</td>\n",
       "      <td>22.0</td>\n",
       "      <td>11071.57</td>\n",
       "      <td>Vitória</td>\n",
       "      <td>A</td>\n",
       "      <td>8.8</td>\n",
       "      <td>Bom</td>\n",
       "    </tr>\n",
       "  </tbody>\n",
       "</table>\n",
       "<p>100 rows × 7 columns</p>\n",
       "</div>"
      ],
      "text/plain": [
       "     id  idade     renda          cidade categoria  nota feedback\n",
       "0     1   57.0  22701.87  Rio de Janeiro         A   6.8      Bom\n",
       "1     2   45.0   3820.44  Belo Horizonte         B   5.6      Bom\n",
       "2     3   31.0   5606.17  Belo Horizonte         A   9.1      Bom\n",
       "3     4   70.0  16354.61  Belo Horizonte         A   6.5      Bom\n",
       "4     5   68.0   9418.66  Belo Horizonte         A   6.5      Bom\n",
       "..  ...    ...       ...             ...       ...   ...      ...\n",
       "95   96   37.0  29868.68       São Paulo         A   8.2      Bom\n",
       "96   97   54.0  13883.32       São Paulo         B   8.9      Bom\n",
       "97   98   41.0  39972.51         Vitória         A   8.3      Bom\n",
       "98   99   16.0  15611.64  Belo Horizonte         A   7.6      Bom\n",
       "99  100   22.0  11071.57         Vitória         A   8.8      Bom\n",
       "\n",
       "[100 rows x 7 columns]"
      ]
     },
     "metadata": {},
     "output_type": "display_data"
    }
   ],
   "source": [
    "#feedbackisualização de tabela tratada de 100 linhas\n",
    "display(df100.head(100))"
   ]
  },
  {
   "cell_type": "code",
   "execution_count": 12,
   "id": "6022f6be-baf4-4f3f-b55f-01f4bf25239a",
   "metadata": {},
   "outputs": [
    {
     "name": "stdout",
     "output_type": "stream",
     "text": [
      "\n",
      "### Descrição Estatística 100###\n",
      "               id       idade         renda        nota\n",
      "count  100.000000  100.000000    100.000000  100.000000\n",
      "mean    50.500000   42.440000  23898.598900    7.127000\n",
      "std     29.011492   19.715307  12341.523723    1.759468\n",
      "min      1.000000    0.000000      0.000000    0.000000\n",
      "25%     25.750000   29.500000  14078.680000    5.800000\n",
      "50%     50.500000   40.500000  24566.290000    7.100000\n",
      "75%     75.250000   58.250000  33915.855000    8.400000\n",
      "max    100.000000   80.000000  46099.970000    9.900000\n"
     ]
    }
   ],
   "source": [
    "# Média, mínimo, máximo, quartis, margem de erro, contagem\n",
    "\n",
    "print(\"\\n### Descrição Estatística 100###\")\n",
    "print(df100.describe())"
   ]
  },
  {
   "cell_type": "code",
   "execution_count": 13,
   "id": "b05672b4-388a-4378-94be-351604ead0ed",
   "metadata": {},
   "outputs": [
    {
     "name": "stdout",
     "output_type": "stream",
     "text": [
      "Média de Idade - 100 Elementos: 42.0\n",
      "Mediana de Idade - 100 Elementos: 40.0\n",
      "Desvio Padrão de Idade - 100 Elementos: 20.0\n",
      "Maior Valor de Idade - 100 Elementos: 80.0\n",
      "Menor Valor de Idade - 100 Elementos: 0.0\n"
     ]
    }
   ],
   "source": [
    "# Cálculos Estatísticos de idade\n",
    "\n",
    "media_idade100 = sum(df100['idade'])/len(df100['idade'])\n",
    "mediana_idade100 = df100['idade'].median()\n",
    "desvio_padrao_idade100 = df100['idade'].std()\n",
    "maximo_idade100 = df100['idade'].max()\n",
    "minimo_idade100 = df100['idade'].min()\n",
    "\n",
    "print('Média de Idade - 100 Elementos:',round(media_idade100,0))\n",
    "print('Mediana de Idade - 100 Elementos:',round(mediana_idade100,0))\n",
    "print('Desvio Padrão de Idade - 100 Elementos:',round(desvio_padrao_idade100,0))\n",
    "print('Maior Valor de Idade - 100 Elementos:',round(maximo_idade100,0))\n",
    "print('Menor Valor de Idade - 100 Elementos:',round(minimo_idade100,0))"
   ]
  },
  {
   "cell_type": "code",
   "execution_count": 14,
   "id": "41d54cb7-7ca2-4328-afdb-31b47d095ab5",
   "metadata": {},
   "outputs": [
    {
     "name": "stdout",
     "output_type": "stream",
     "text": [
      "Média de Renda - 100 Elementos: 23898.6\n",
      "Mediana de Renda - 100 Elementos: 24566.29\n",
      "Desvio Padrão de Renda - 100 Elementos: 12341.52\n",
      "Maior Valor de Renda - 100 Elementos: 46099.97\n",
      "Menor Valor de Renda - 100 Elementos: 0.0\n"
     ]
    }
   ],
   "source": [
    "# Cálculos Estatísticos de renda\n",
    "\n",
    "media_renda100 = sum(df100['renda'])/len(df100['renda'])\n",
    "mediana_renda100 = df100['renda'].median()\n",
    "desvio_padrao_renda100 = df100['renda'].std()\n",
    "maximo_renda100 = df100['renda'].max()\n",
    "minimo_renda100 = df100['renda'].min()\n",
    "\n",
    "print('Média de Renda - 100 Elementos:',round(media_renda100,2))\n",
    "print('Mediana de Renda - 100 Elementos:',round(mediana_renda100,2))\n",
    "print('Desvio Padrão de Renda - 100 Elementos:',round(desvio_padrao_renda100,2))\n",
    "print('Maior Valor de Renda - 100 Elementos:',round(maximo_renda100,2))\n",
    "print('Menor Valor de Renda - 100 Elementos:',round(minimo_renda100,2))"
   ]
  },
  {
   "cell_type": "code",
   "execution_count": 15,
   "id": "0f54a190-9682-46a4-b783-1a403370548d",
   "metadata": {},
   "outputs": [
    {
     "name": "stdout",
     "output_type": "stream",
     "text": [
      "Média de Nota - 100 Elementos: 7.13\n",
      "Mediana de Nota - 100 Elementos: 7.1\n",
      "Desvio Padrão de Nota - 100 Elementos: 1.76\n",
      "Maior Valor de Nota - 100 Elementos: 9.9\n",
      "Menor Valor de Nota - 100 Elementos: 0.0\n"
     ]
    }
   ],
   "source": [
    "# Cálculos Estatísticos de nota\n",
    "\n",
    "media_nota100 = sum(df100['nota'])/len(df100['nota'])\n",
    "mediana_nota100 = df100['nota'].median()\n",
    "desvio_padrao_nota100 = df100['nota'].std()\n",
    "maximo_nota100 = df100['nota'].max()\n",
    "minimo_nota100 = df100['nota'].min()\n",
    "\n",
    "print('Média de Nota - 100 Elementos:',round(media_nota100,2))\n",
    "print('Mediana de Nota - 100 Elementos:',round(mediana_nota100,2))\n",
    "print('Desvio Padrão de Nota - 100 Elementos:',round(desvio_padrao_nota100,2))\n",
    "print('Maior Valor de Nota - 100 Elementos:',round(maximo_nota100,2))\n",
    "print('Menor Valor de Nota - 100 Elementos:',round(minimo_nota100,2))"
   ]
  },
  {
   "cell_type": "code",
   "execution_count": 16,
   "id": "79236da5-ee74-4d7b-868e-f9fd86bd06df",
   "metadata": {},
   "outputs": [
    {
     "name": "stdout",
     "output_type": "stream",
     "text": [
      "\n",
      "\n",
      "\t IQR - Campo Renda - 100\n",
      "\n",
      "\n",
      "Quartis -> Q1: 14078.68  ->  Q3: 33915.85\n",
      "IQR ----- 19837.174999999996\n",
      "Limites - Inf: -15677.08  -> Sup: 63671.62\n"
     ]
    }
   ],
   "source": [
    "#Calculando o IQR e identificando os limites - Renda\n",
    "\n",
    "Q1_renda100 = df100['renda'].quantile(0.25)\n",
    "Q3_renda100 = df100['renda'].quantile(0.75)\n",
    "IQR_renda100 = Q3_renda100 - Q1_renda100\n",
    "limite_inferior_renda100 = Q1_renda100 - 1.5 * IQR_renda100\n",
    "limite_superior_renda100 = Q3_renda100 + 1.5 * IQR_renda100\n",
    "\n",
    "print (f\"\\n\\n\\t IQR - Campo Renda - 100\\n\\n\")\n",
    "print(f\"Quartis -> Q1: {Q1_renda100:-8.2f}  ->  Q3: {Q3_renda100:-8.2f}\")\n",
    "print(f\"IQR ----- {IQR_renda100}\")\n",
    "print(f\"Limites - Inf: {limite_inferior_renda100:-8.2f}  -> Sup: {limite_superior_renda100:-8.2f}\")"
   ]
  },
  {
   "cell_type": "code",
   "execution_count": 17,
   "id": "592036fe-d6f6-4c72-be87-95bdf23696a9",
   "metadata": {},
   "outputs": [
    {
     "name": "stdout",
     "output_type": "stream",
     "text": [
      "\n",
      "\n",
      "\t IQR - Campo Idade - 100\n",
      "\n",
      "\n",
      "Quartis -> Q1:    29.50  ->  Q3:    58.25\n",
      "IQR ----- 28.75\n",
      "Limites - Inf:   -13.62  -> Sup:   101.38\n"
     ]
    }
   ],
   "source": [
    "#Calculando o IQR e identificando os limites - Idade\n",
    "\n",
    "Q1_idade100 = df100['idade'].quantile(0.25)\n",
    "Q3_idade100 = df100['idade'].quantile(0.75)\n",
    "IQR_idade100 = Q3_idade100 - Q1_idade100\n",
    "limite_inferior_idade100 = Q1_idade100 - 1.5 * IQR_idade100\n",
    "limite_superior_idade100 = Q3_idade100 + 1.5 * IQR_idade100\n",
    "\n",
    "print (f\"\\n\\n\\t IQR - Campo Idade - 100\\n\\n\")\n",
    "print(f\"Quartis -> Q1: {Q1_idade100:-8.2f}  ->  Q3: {Q3_idade100:-8.2f}\")\n",
    "print(f\"IQR ----- {IQR_idade100}\")\n",
    "print(f\"Limites - Inf: {limite_inferior_idade100:-8.2f}  -> Sup: {limite_superior_idade100:-8.2f}\")"
   ]
  },
  {
   "cell_type": "code",
   "execution_count": 18,
   "id": "f9debfeb-baca-4b0a-9a7a-5b5674a9c4eb",
   "metadata": {},
   "outputs": [
    {
     "name": "stdout",
     "output_type": "stream",
     "text": [
      "\n",
      "\n",
      "\t IQR - Campo Nota - 100\n",
      "\n",
      "\n",
      "Quartis -> Q1:     5.80  ->  Q3:     8.40\n",
      "IQR ----- 2.6000000000000005\n",
      "Limites - Inf:     1.90  -> Sup:    12.30\n"
     ]
    }
   ],
   "source": [
    "#Calculando o IQR e identificando os limites - Nota\n",
    "\n",
    "Q1_nota100 = df100['nota'].quantile(0.25)\n",
    "Q3_nota100 = df100['nota'].quantile(0.75)\n",
    "IQR_nota100 = Q3_nota100 - Q1_nota100\n",
    "limite_inferior_nota100 = Q1_nota100 - 1.5 * IQR_nota100\n",
    "limite_superior_nota100 = Q3_nota100 + 1.5 * IQR_nota100\n",
    "\n",
    "print (f\"\\n\\n\\t IQR - Campo Nota - 100\\n\\n\")\n",
    "print(f\"Quartis -> Q1: {Q1_nota100:-8.2f}  ->  Q3: {Q3_nota100:-8.2f}\")\n",
    "print(f\"IQR ----- {IQR_nota100}\")\n",
    "print(f\"Limites - Inf: {limite_inferior_nota100:-8.2f}  -> Sup: {limite_superior_nota100:-8.2f}\")"
   ]
  },
  {
   "cell_type": "code",
   "execution_count": 19,
   "id": "ff3dfa42-08da-4f6b-ad0d-51a0cb5ed2d9",
   "metadata": {},
   "outputs": [
    {
     "name": "stdout",
     "output_type": "stream",
     "text": [
      "\n",
      "### Possíveis Outliers em 'renda' - 100 Elementos###\n",
      "\n",
      "Empty DataFrame\n",
      "Columns: [id, idade, renda, cidade, categoria, nota, feedback]\n",
      "Index: []\n",
      "\n",
      "\n",
      "\n"
     ]
    }
   ],
   "source": [
    "#Outliers Renda\n",
    "\n",
    "outliers_renda100 = df100[(df100['renda'] < limite_inferior_renda100) | (df100['renda'] > limite_superior_renda100)]\n",
    "print(f\"\\n### Possíveis Outliers em 'renda' - 100 Elementos###\\n\\n{outliers_renda100}\\n\\n\\n\")"
   ]
  },
  {
   "cell_type": "code",
   "execution_count": 20,
   "id": "68c782be-0db5-4c1d-9689-9a3656e49a83",
   "metadata": {},
   "outputs": [
    {
     "name": "stdout",
     "output_type": "stream",
     "text": [
      "\n",
      "### Possíveis Outliers em 'idade' - 100 Elementos###\n",
      "\n",
      "Empty DataFrame\n",
      "Columns: [id, idade, renda, cidade, categoria, nota, feedback]\n",
      "Index: []\n",
      "\n",
      "\n",
      "\n"
     ]
    }
   ],
   "source": [
    "#Outliers Idade\n",
    "\n",
    "outliers_idade100 = df100[(df100['idade'] < limite_inferior_idade100) | (df100['idade'] > limite_superior_idade100)]\n",
    "print(f\"\\n### Possíveis Outliers em 'idade' - 100 Elementos###\\n\\n{outliers_idade100}\\n\\n\\n\")"
   ]
  },
  {
   "cell_type": "code",
   "execution_count": 21,
   "id": "35e9675a-fa8b-408f-88f3-cb946659a174",
   "metadata": {},
   "outputs": [
    {
     "name": "stdout",
     "output_type": "stream",
     "text": [
      "\n",
      "### Possíveis Outliers em 'nota' - 100 Elementos###\n",
      "\n",
      "    id  idade     renda     cidade categoria  nota feedback\n",
      "29  30   40.0  41768.46    Vitória         A   0.0        0\n",
      "50  51   48.0   7812.34  São Paulo         A   0.0        0\n",
      "\n",
      "\n",
      "\n"
     ]
    }
   ],
   "source": [
    "#Outliers Nota\n",
    "\n",
    "outliers_nota100 = df100[(df100['nota'] < limite_inferior_nota100) | (df100['nota'] > limite_superior_nota100)]\n",
    "print(f\"\\n### Possíveis Outliers em 'nota' - 100 Elementos###\\n\\n{outliers_nota100}\\n\\n\\n\")"
   ]
  },
  {
   "cell_type": "code",
   "execution_count": 27,
   "id": "2faefb67-ed6c-4d03-aa5a-d5f07c8a4b56",
   "metadata": {},
   "outputs": [],
   "source": [
    "#Conversão da planilha tratada para csv\n",
    "df100.to_csv('Realista100_Tratado.csv', index=False)"
   ]
  },
  {
   "cell_type": "code",
   "execution_count": 28,
   "id": "b9a16c52-36b7-4284-810b-0cb3d293171e",
   "metadata": {},
   "outputs": [
    {
     "name": "stdout",
     "output_type": "stream",
     "text": [
      "Arquivo salvo com sucesso para importação no MongoDB Atlas - 100 linhas!\n"
     ]
    }
   ],
   "source": [
    "# Converter para lista de dicionários (documentos MongoDB)\n",
    "dados_mongo100 = df100.to_dict(orient='records')\n",
    "\n",
    "# Salvar como JSON\n",
    "with open('dados_mongo_Realista100.json', 'w', encoding='utf-8') as f:\n",
    "    json.dump(dados_mongo100, f, ensure_ascii=False, indent=2)\n",
    "\n",
    "print(\"Arquivo salvo com sucesso para importação no MongoDB Atlas - 100 linhas!\")"
   ]
  },
  {
   "cell_type": "code",
   "execution_count": 24,
   "id": "ea27bf52-88c9-4b3d-a596-e2588f2f85a9",
   "metadata": {},
   "outputs": [
    {
     "data": {
      "image/png": "[encoded data removed]",
      "text/plain": [
       "<Figure size 640x480 with 1 Axes>"
      ]
     },
     "metadata": {},
     "output_type": "display_data"
    }
   ],
   "source": [
    "#Geração Gráfico - Idade - 100 linhas\n",
    "plt.boxplot(df100['idade'])\n",
    "plt.title(\"Boxplot - Idade - 100 Elementos\")\n",
    "plt.show()"
   ]
  },
  {
   "cell_type": "code",
   "execution_count": 25,
   "id": "e0b3f1aa-9677-433b-9be0-7c4b4da7306b",
   "metadata": {},
   "outputs": [
    {
     "data": {
      "image/png": "[encoded data removed]",
      "text/plain": [
       "<Figure size 640x480 with 1 Axes>"
      ]
     },
     "metadata": {},
     "output_type": "display_data"
    }
   ],
   "source": [
    "#Geração Gráfico - Renda - 100 linhas\n",
    "plt.boxplot(df100['renda'])\n",
    "plt.title(\"Boxplot - Renda - 100 Elementos\")\n",
    "plt.show()"
   ]
  },
  {
   "cell_type": "code",
   "execution_count": 26,
   "id": "8774d8c1-b2d0-489a-a8dd-b976ab4c72e6",
   "metadata": {},
   "outputs": [
    {
     "data": {
      "image/png": "[encoded data removed]",
      "text/plain": [
       "<Figure size 640x480 with 1 Axes>"
      ]
     },
     "metadata": {},
     "output_type": "display_data"
    }
   ],
   "source": [
    "#Geração Gráfico - Nota - 100 linhas\n",
    "plt.boxplot(df100['nota'])\n",
    "plt.title(\"Boxplot - Nota - 100 Elementos\")\n",
    "plt.show()"
   ]
  }
 ],
 "metadata": {
  "kernelspec": {
   "display_name": "Python ML (venv)",
   "language": "python",
   "name": "machine_learning"
  },
  "language_info": {
   "codemirror_mode": {
    "name": "ipython",
    "version": 3
   },
   "file_extension": ".py",
   "mimetype": "text/x-python",
   "name": "python",
   "nbconvert_exporter": "python",
   "pygments_lexer": "ipython3",
   "version": "3.10.5"
  }
 },
 "nbformat": 4,
 "nbformat_minor": 5
}
