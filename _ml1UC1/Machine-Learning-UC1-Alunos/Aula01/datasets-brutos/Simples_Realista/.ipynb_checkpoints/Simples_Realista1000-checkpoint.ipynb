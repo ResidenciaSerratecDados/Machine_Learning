{
 "cells": [
  {
   "cell_type": "code",
   "execution_count": 1,
   "id": "d1e26e94-5128-4b57-b0a8-5ca0e0a69c48",
   "metadata": {},
   "outputs": [],
   "source": [
    "#importações das bibliotecas\n",
    "import pandas as pd\n",
    "import numpy as np\n",
    "import matplotlib.pyplot as plt\n",
    "from sklearn.preprocessing import StandardScaler\n",
    "from sklearn.impute import SimpleImputer\n",
    "from sklearn.ensemble import RandomForestRegressor\n",
    "from scipy import stats\n",
    "import json"
   ]
  },
  {
   "cell_type": "code",
   "execution_count": 2,
   "id": "a186968c-844b-46c5-b63e-d19bc05cf447",
   "metadata": {},
   "outputs": [],
   "source": [
    "#importação das planilhas csv para serem dataframes\n",
    "df1000 = pd.read_csv(\"dataset_sudeste_simples_realista_outliers-1K.csv\")"
   ]
  },
  {
   "cell_type": "code",
   "execution_count": 3,
   "id": "6c81361e-c0e6-4112-94e0-5149e337ae9e",
   "metadata": {},
   "outputs": [
    {
     "data": {
      "text/plain": [
       "['id', 'idade', 'renda', 'cidade', 'categoria', 'nota', 'feedback']"
      ]
     },
     "execution_count": 3,
     "metadata": {},
     "output_type": "execute_result"
    }
   ],
   "source": [
    "df1000.columns.tolist() #listar colunas de tabela de 1000 linhas"
   ]
  },
  {
   "cell_type": "code",
   "execution_count": 4,
   "id": "704fead7-6833-449f-9cf1-7e2edf1a3d53",
   "metadata": {},
   "outputs": [],
   "source": [
    "# Tratamento de NaN(nulos) - converter para 0 - tabela de 100 linhas\n",
    "df1000['idade'] = df1000['idade'].fillna(0)\n",
    "df1000['renda'] = df1000['renda'].fillna(0)\n",
    "df1000['cidade'] = df1000['cidade'].fillna(0)\n",
    "df1000['categoria'] = df1000['categoria'].fillna(0)\n",
    "df1000['nota'] = df1000['nota'].fillna(0)\n",
    "df1000['feedback'] = df1000['feedback'].fillna(0)"
   ]
  },
  {
   "cell_type": "code",
   "execution_count": 5,
   "id": "61bfa068-5cf0-452d-9fea-899a79a29f60",
   "metadata": {},
   "outputs": [
    {
     "data": {
      "text/html": [
       "<div>\n",
       "<style scoped>\n",
       "    .dataframe tbody tr th:only-of-type {\n",
       "        vertical-align: middle;\n",
       "    }\n",
       "\n",
       "    .dataframe tbody tr th {\n",
       "        vertical-align: top;\n",
       "    }\n",
       "\n",
       "    .dataframe thead th {\n",
       "        text-align: right;\n",
       "    }\n",
       "</style>\n",
       "<table border=\"1\" class=\"dataframe\">\n",
       "  <thead>\n",
       "    <tr style=\"text-align: right;\">\n",
       "      <th></th>\n",
       "      <th>id</th>\n",
       "      <th>idade</th>\n",
       "      <th>renda</th>\n",
       "      <th>cidade</th>\n",
       "      <th>categoria</th>\n",
       "      <th>nota</th>\n",
       "      <th>feedback</th>\n",
       "    </tr>\n",
       "  </thead>\n",
       "  <tbody>\n",
       "    <tr>\n",
       "      <th>0</th>\n",
       "      <td>1</td>\n",
       "      <td>25.0</td>\n",
       "      <td>9508.30</td>\n",
       "      <td>Belo Horizonte</td>\n",
       "      <td>A</td>\n",
       "      <td>2.6</td>\n",
       "      <td>Regular</td>\n",
       "    </tr>\n",
       "    <tr>\n",
       "      <th>1</th>\n",
       "      <td>2</td>\n",
       "      <td>53.0</td>\n",
       "      <td>2346.15</td>\n",
       "      <td>São Paulo</td>\n",
       "      <td>A</td>\n",
       "      <td>1.6</td>\n",
       "      <td>Ruim</td>\n",
       "    </tr>\n",
       "    <tr>\n",
       "      <th>2</th>\n",
       "      <td>3</td>\n",
       "      <td>52.0</td>\n",
       "      <td>7578.47</td>\n",
       "      <td>Vitória</td>\n",
       "      <td>B</td>\n",
       "      <td>7.8</td>\n",
       "      <td>Regular</td>\n",
       "    </tr>\n",
       "    <tr>\n",
       "      <th>3</th>\n",
       "      <td>4</td>\n",
       "      <td>52.0</td>\n",
       "      <td>12940.35</td>\n",
       "      <td>São Paulo</td>\n",
       "      <td>B</td>\n",
       "      <td>9.4</td>\n",
       "      <td>Regular</td>\n",
       "    </tr>\n",
       "    <tr>\n",
       "      <th>4</th>\n",
       "      <td>5</td>\n",
       "      <td>59.0</td>\n",
       "      <td>4343.05</td>\n",
       "      <td>Vitória</td>\n",
       "      <td>A</td>\n",
       "      <td>3.9</td>\n",
       "      <td>Ruim</td>\n",
       "    </tr>\n",
       "    <tr>\n",
       "      <th>...</th>\n",
       "      <td>...</td>\n",
       "      <td>...</td>\n",
       "      <td>...</td>\n",
       "      <td>...</td>\n",
       "      <td>...</td>\n",
       "      <td>...</td>\n",
       "      <td>...</td>\n",
       "    </tr>\n",
       "    <tr>\n",
       "      <th>995</th>\n",
       "      <td>996</td>\n",
       "      <td>59.0</td>\n",
       "      <td>12104.07</td>\n",
       "      <td>Rio de Janeiro</td>\n",
       "      <td>A</td>\n",
       "      <td>5.6</td>\n",
       "      <td>Ruim</td>\n",
       "    </tr>\n",
       "    <tr>\n",
       "      <th>996</th>\n",
       "      <td>997</td>\n",
       "      <td>31.0</td>\n",
       "      <td>12985.83</td>\n",
       "      <td>Vitória</td>\n",
       "      <td>A</td>\n",
       "      <td>2.5</td>\n",
       "      <td>Ruim</td>\n",
       "    </tr>\n",
       "    <tr>\n",
       "      <th>997</th>\n",
       "      <td>998</td>\n",
       "      <td>18.0</td>\n",
       "      <td>2184.16</td>\n",
       "      <td>Vitória</td>\n",
       "      <td>B</td>\n",
       "      <td>0.1</td>\n",
       "      <td>Regular</td>\n",
       "    </tr>\n",
       "    <tr>\n",
       "      <th>998</th>\n",
       "      <td>999</td>\n",
       "      <td>18.0</td>\n",
       "      <td>11314.51</td>\n",
       "      <td>Belo Horizonte</td>\n",
       "      <td>B</td>\n",
       "      <td>9.3</td>\n",
       "      <td>Ruim</td>\n",
       "    </tr>\n",
       "    <tr>\n",
       "      <th>999</th>\n",
       "      <td>1000</td>\n",
       "      <td>43.0</td>\n",
       "      <td>4132.92</td>\n",
       "      <td>Belo Horizonte</td>\n",
       "      <td>A</td>\n",
       "      <td>3.6</td>\n",
       "      <td>Bom</td>\n",
       "    </tr>\n",
       "  </tbody>\n",
       "</table>\n",
       "<p>1000 rows × 7 columns</p>\n",
       "</div>"
      ],
      "text/plain": [
       "       id  idade     renda          cidade categoria  nota feedback\n",
       "0       1   25.0   9508.30  Belo Horizonte         A   2.6  Regular\n",
       "1       2   53.0   2346.15       São Paulo         A   1.6     Ruim\n",
       "2       3   52.0   7578.47         Vitória         B   7.8  Regular\n",
       "3       4   52.0  12940.35       São Paulo         B   9.4  Regular\n",
       "4       5   59.0   4343.05         Vitória         A   3.9     Ruim\n",
       "..    ...    ...       ...             ...       ...   ...      ...\n",
       "995   996   59.0  12104.07  Rio de Janeiro         A   5.6     Ruim\n",
       "996   997   31.0  12985.83         Vitória         A   2.5     Ruim\n",
       "997   998   18.0   2184.16         Vitória         B   0.1  Regular\n",
       "998   999   18.0  11314.51  Belo Horizonte         B   9.3     Ruim\n",
       "999  1000   43.0   4132.92  Belo Horizonte         A   3.6      Bom\n",
       "\n",
       "[1000 rows x 7 columns]"
      ]
     },
     "metadata": {},
     "output_type": "display_data"
    }
   ],
   "source": [
    "#feedbackisualização de tabela tratada de 1000 linhas\n",
    "display(df1000.head(1000))"
   ]
  },
  {
   "cell_type": "code",
   "execution_count": 6,
   "id": "6022f6be-baf4-4f3f-b55f-01f4bf25239a",
   "metadata": {},
   "outputs": [
    {
     "name": "stdout",
     "output_type": "stream",
     "text": [
      "\n",
      "### Descrição Estatística 1000###\n",
      "                id        idade         renda         nota\n",
      "count  1000.000000  1000.000000   1000.000000  1000.000000\n",
      "mean    500.500000    42.954000   7109.053000     4.957500\n",
      "std     288.819436    17.060039   3842.999966     2.996696\n",
      "min       1.000000     0.000000      0.000000    -1.400000\n",
      "25%     250.750000    28.000000   4039.030000     2.300000\n",
      "50%     500.500000    43.500000   7100.100000     4.900000\n",
      "75%     750.250000    57.000000  10208.392500     7.400000\n",
      "max    1000.000000   112.000000  38099.880000    14.700000\n"
     ]
    }
   ],
   "source": [
    "# Média, mínimo, máximo, quartis, margem de erro, contagem\n",
    "print(\"\\n### Descrição Estatística 1000###\")\n",
    "print(df1000.describe())"
   ]
  },
  {
   "cell_type": "code",
   "execution_count": 7,
   "id": "b05672b4-388a-4378-94be-351604ead0ed",
   "metadata": {},
   "outputs": [
    {
     "name": "stdout",
     "output_type": "stream",
     "text": [
      "Média de Idade - 1000 Elementos: 43.0\n",
      "Mediana de Idade - 1000 Elementos: 44.0\n",
      "Desvio Padrão de Idade - 1000 Elementos: 17.0\n",
      "Maior Valor de Idade - 1000 Elementos: 112.0\n",
      "Menor Valor de Idade - 1000 Elementos: 0.0\n"
     ]
    }
   ],
   "source": [
    "# Cálculos Estatísticos de idade\n",
    "media_idade1000 = sum(df1000['idade'])/len(df1000['idade'])\n",
    "mediana_idade1000 = df1000['idade'].median()\n",
    "desvio_padrao_idade1000 = df1000['idade'].std()\n",
    "maximo_idade1000 = df1000['idade'].max()\n",
    "minimo_idade1000 = df1000['idade'].min()\n",
    "\n",
    "print('Média de Idade - 1000 Elementos:',round(media_idade1000,0))\n",
    "print('Mediana de Idade - 1000 Elementos:',round(mediana_idade1000,0))\n",
    "print('Desvio Padrão de Idade - 1000 Elementos:',round(desvio_padrao_idade1000,0))\n",
    "print('Maior Valor de Idade - 1000 Elementos:',round(maximo_idade1000,0))\n",
    "print('Menor Valor de Idade - 1000 Elementos:',round(minimo_idade1000,0))"
   ]
  },
  {
   "cell_type": "code",
   "execution_count": 8,
   "id": "41d54cb7-7ca2-4328-afdb-31b47d095ab5",
   "metadata": {},
   "outputs": [
    {
     "name": "stdout",
     "output_type": "stream",
     "text": [
      "Média de Renda - 1000 Elementos: 7109.05\n",
      "Mediana de Renda - 1000 Elementos: 7100.1\n",
      "Desvio Padrão de Renda - 1000 Elementos: 3843.0\n",
      "Maior Valor de Renda - 1000 Elementos: 38099.88\n",
      "Menor Valor de Renda - 1000 Elementos: 0.0\n"
     ]
    }
   ],
   "source": [
    "# Cálculos Estatísticos de renda\n",
    "media_renda1000 = sum(df1000['renda'])/len(df1000['renda'])\n",
    "mediana_renda1000 = df1000['renda'].median()\n",
    "desvio_padrao_renda1000 = df1000['renda'].std()\n",
    "maximo_renda1000 = df1000['renda'].max()\n",
    "minimo_renda1000 = df1000['renda'].min()\n",
    "\n",
    "print('Média de Renda - 1000 Elementos:',round(media_renda1000,2))\n",
    "print('Mediana de Renda - 1000 Elementos:',round(mediana_renda1000,2))\n",
    "print('Desvio Padrão de Renda - 1000 Elementos:',round(desvio_padrao_renda1000,2))\n",
    "print('Maior Valor de Renda - 1000 Elementos:',round(maximo_renda1000,2))\n",
    "print('Menor Valor de Renda - 1000 Elementos:',round(minimo_renda1000,2))"
   ]
  },
  {
   "cell_type": "code",
   "execution_count": 9,
   "id": "0f54a190-9682-46a4-b783-1a403370548d",
   "metadata": {},
   "outputs": [
    {
     "name": "stdout",
     "output_type": "stream",
     "text": [
      "Média de Nota - 1000 Elementos: 4.96\n",
      "Mediana de Nota - 1000 Elementos: 4.9\n",
      "Desvio Padrão de Nota - 1000 Elementos: 3.0\n",
      "Maior Valor de Nota - 1000 Elementos: 14.7\n",
      "Menor Valor de Nota - 1000 Elementos: -1.4\n"
     ]
    }
   ],
   "source": [
    "# Cálculos Estatísticos de nota\n",
    "media_nota1000 = sum(df1000['nota'])/len(df1000['nota'])\n",
    "mediana_nota1000 = df1000['nota'].median()\n",
    "desvio_padrao_nota1000 = df1000['nota'].std()\n",
    "maximo_nota1000 = df1000['nota'].max()\n",
    "minimo_nota1000 = df1000['nota'].min()\n",
    "\n",
    "print('Média de Nota - 1000 Elementos:',round(media_nota1000,2))\n",
    "print('Mediana de Nota - 1000 Elementos:',round(mediana_nota1000,2))\n",
    "print('Desvio Padrão de Nota - 1000 Elementos:',round(desvio_padrao_nota1000,2))\n",
    "print('Maior Valor de Nota - 1000 Elementos:',round(maximo_nota1000,2))\n",
    "print('Menor Valor de Nota - 1000 Elementos:',round(minimo_nota1000,2))"
   ]
  },
  {
   "cell_type": "code",
   "execution_count": 10,
   "id": "79236da5-ee74-4d7b-868e-f9fd86bd06df",
   "metadata": {},
   "outputs": [
    {
     "name": "stdout",
     "output_type": "stream",
     "text": [
      "\n",
      "\n",
      "\t IQR - Campo Renda - 1000\n",
      "\n",
      "\n",
      "Quartis -> Q1:  4039.03  ->  Q3: 10208.39\n",
      "IQR ----- 6169.362499999999\n",
      "Limites - Inf: -5215.01  -> Sup: 19462.44\n"
     ]
    }
   ],
   "source": [
    "#Calculando o IQR e identificando os limites - Renda\n",
    "Q1_renda1000 = df1000['renda'].quantile(0.25)\n",
    "Q3_renda1000 = df1000['renda'].quantile(0.75)\n",
    "IQR_renda1000 = Q3_renda1000 - Q1_renda1000\n",
    "limite_inferior_renda1000 = Q1_renda1000 - 1.5 * IQR_renda1000\n",
    "limite_superior_renda1000 = Q3_renda1000 + 1.5 * IQR_renda1000\n",
    "\n",
    "print (f\"\\n\\n\\t IQR - Campo Renda - 1000\\n\\n\")\n",
    "print(f\"Quartis -> Q1: {Q1_renda1000:-8.2f}  ->  Q3: {Q3_renda1000:-8.2f}\")\n",
    "print(f\"IQR ----- {IQR_renda1000}\")\n",
    "print(f\"Limites - Inf: {limite_inferior_renda1000:-8.2f}  -> Sup: {limite_superior_renda1000:-8.2f}\")"
   ]
  },
  {
   "cell_type": "code",
   "execution_count": 11,
   "id": "592036fe-d6f6-4c72-be87-95bdf23696a9",
   "metadata": {},
   "outputs": [
    {
     "name": "stdout",
     "output_type": "stream",
     "text": [
      "\n",
      "\n",
      "\t IQR - Campo Idade - 1000\n",
      "\n",
      "\n",
      "Quartis -> Q1:    28.00  ->  Q3:    57.00\n",
      "IQR ----- 29.0\n",
      "Limites - Inf:   -15.50  -> Sup:   100.50\n"
     ]
    }
   ],
   "source": [
    "#Calculando o IQR e identificando os limites - Idade\n",
    "Q1_idade1000 = df1000['idade'].quantile(0.25)\n",
    "Q3_idade1000 = df1000['idade'].quantile(0.75)\n",
    "IQR_idade1000 = Q3_idade1000 - Q1_idade1000\n",
    "limite_inferior_idade1000 = Q1_idade1000 - 1.5 * IQR_idade1000\n",
    "limite_superior_idade1000 = Q3_idade1000 + 1.5 * IQR_idade1000\n",
    "\n",
    "print (f\"\\n\\n\\t IQR - Campo Idade - 1000\\n\\n\")\n",
    "print(f\"Quartis -> Q1: {Q1_idade1000:-8.2f}  ->  Q3: {Q3_idade1000:-8.2f}\")\n",
    "print(f\"IQR ----- {IQR_idade1000}\")\n",
    "print(f\"Limites - Inf: {limite_inferior_idade1000:-8.2f}  -> Sup: {limite_superior_idade1000:-8.2f}\")"
   ]
  },
  {
   "cell_type": "code",
   "execution_count": 12,
   "id": "f9debfeb-baca-4b0a-9a7a-5b5674a9c4eb",
   "metadata": {},
   "outputs": [
    {
     "name": "stdout",
     "output_type": "stream",
     "text": [
      "\n",
      "\n",
      "\t IQR - Campo Nota - 1000\n",
      "\n",
      "\n",
      "Quartis -> Q1:     2.30  ->  Q3:     7.40\n",
      "IQR ----- 5.1000000000000005\n",
      "Limites - Inf:    -5.35  -> Sup:    15.05\n"
     ]
    }
   ],
   "source": [
    "#Calculando o IQR e identificando os limites - Nota\n",
    "Q1_nota1000 = df1000['nota'].quantile(0.25)\n",
    "Q3_nota1000 = df1000['nota'].quantile(0.75)\n",
    "IQR_nota1000 = Q3_nota1000 - Q1_nota1000\n",
    "limite_inferior_nota1000 = Q1_nota1000 - 1.5 * IQR_nota1000\n",
    "limite_superior_nota1000 = Q3_nota1000 + 1.5 * IQR_nota1000\n",
    "\n",
    "print (f\"\\n\\n\\t IQR - Campo Nota - 1000\\n\\n\")\n",
    "print(f\"Quartis -> Q1: {Q1_nota1000:-8.2f}  ->  Q3: {Q3_nota1000:-8.2f}\")\n",
    "print(f\"IQR ----- {IQR_nota1000}\")\n",
    "print(f\"Limites - Inf: {limite_inferior_nota1000:-8.2f}  -> Sup: {limite_superior_nota1000:-8.2f}\")"
   ]
  },
  {
   "cell_type": "code",
   "execution_count": 13,
   "id": "ff3dfa42-08da-4f6b-ad0d-51a0cb5ed2d9",
   "metadata": {},
   "outputs": [
    {
     "name": "stdout",
     "output_type": "stream",
     "text": [
      "\n",
      "### Possíveis Outliers em 'renda' - 1000 Elementos###\n",
      "\n",
      "      id  idade     renda          cidade categoria  nota feedback\n",
      "17    18   11.0  32889.27  Rio de Janeiro         B  12.6     Ruim\n",
      "70    71    3.0  30285.53       São Paulo         B  11.9      Bom\n",
      "641  642   77.0  38099.88  Rio de Janeiro         A  13.1      Bom\n",
      "\n",
      "\n",
      "\n"
     ]
    }
   ],
   "source": [
    "#Outliers Renda\n",
    "outliers_renda1000 = df1000[(df1000['renda'] < limite_inferior_renda1000) | (df1000['renda'] > limite_superior_renda1000)]\n",
    "print(f\"\\n### Possíveis Outliers em 'renda' - 1000 Elementos###\\n\\n{outliers_renda1000}\\n\\n\\n\")"
   ]
  },
  {
   "cell_type": "code",
   "execution_count": 14,
   "id": "68c782be-0db5-4c1d-9689-9a3656e49a83",
   "metadata": {},
   "outputs": [
    {
     "name": "stdout",
     "output_type": "stream",
     "text": [
      "\n",
      "### Possíveis Outliers em 'idade' - 1000 Elementos###\n",
      "\n",
      "      id  idade     renda          cidade categoria  nota feedback\n",
      "278  279  112.0    431.21  Belo Horizonte         A  10.9  Regular\n",
      "324  325  111.0   1141.65  Rio de Janeiro         B  14.7      Bom\n",
      "363  364  108.0  13441.54  Rio de Janeiro         A  13.1  Regular\n",
      "384  385  109.0   1039.00       São Paulo         A  11.5     Ruim\n",
      "\n",
      "\n",
      "\n"
     ]
    }
   ],
   "source": [
    "#Outliers Idade\n",
    "outliers_idade1000 = df1000[(df1000['idade'] < limite_inferior_idade1000) | (df1000['idade'] > limite_superior_idade1000)]\n",
    "print(f\"\\n### Possíveis Outliers em 'idade' - 1000 Elementos###\\n\\n{outliers_idade1000}\\n\\n\\n\")"
   ]
  },
  {
   "cell_type": "code",
   "execution_count": 15,
   "id": "35e9675a-fa8b-408f-88f3-cb946659a174",
   "metadata": {},
   "outputs": [
    {
     "name": "stdout",
     "output_type": "stream",
     "text": [
      "\n",
      "### Possíveis Outliers em 'nota' - 1000 Elementos###\n",
      "\n",
      "Empty DataFrame\n",
      "Columns: [id, idade, renda, cidade, categoria, nota, feedback]\n",
      "Index: []\n",
      "\n",
      "\n",
      "\n"
     ]
    }
   ],
   "source": [
    "#Outliers Nota\n",
    "outliers_nota1000 = df1000[(df1000['nota'] < limite_inferior_nota1000) | (df1000['nota'] > limite_superior_nota1000)]\n",
    "print(f\"\\n### Possíveis Outliers em 'nota' - 1000 Elementos###\\n\\n{outliers_nota1000}\\n\\n\\n\")"
   ]
  },
  {
   "cell_type": "code",
   "execution_count": 16,
   "id": "2faefb67-ed6c-4d03-aa5a-d5f07c8a4b56",
   "metadata": {},
   "outputs": [],
   "source": [
    "#Conversão da planilha tratada para csv\n",
    "df1000.to_csv('Simples_Realista_1000_Tratado.csv', index=False)"
   ]
  },
  {
   "cell_type": "code",
   "execution_count": 17,
   "id": "8f4c5ae2-a939-451d-86d6-61eab708d611",
   "metadata": {},
   "outputs": [
    {
     "name": "stdout",
     "output_type": "stream",
     "text": [
      "Arquivo salvo com sucesso para importação no MongoDB Atlas - 1000 linhas!\n"
     ]
    }
   ],
   "source": [
    "# Converter para lista de dicionários (documentos MongoDB)\n",
    "dados_mongo1000 = df1000.to_dict(orient='records')\n",
    "\n",
    "# Salvar como JSON\n",
    "with open('dados_mongo_Simples_Realista_1000.json', 'w', encoding='utf-8') as f:\n",
    "    json.dump(dados_mongo1000, f, ensure_ascii=False, indent=2)\n",
    "\n",
    "print(\"Arquivo salvo com sucesso para importação no MongoDB Atlas - 1000 linhas!\")"
   ]
  },
  {
   "cell_type": "code",
   "execution_count": 18,
   "id": "ea27bf52-88c9-4b3d-a596-e2588f2f85a9",
   "metadata": {},
   "outputs": [
    {
     "data": {
      "image/png": "[encoded data removed]",
      "text/plain": [
       "<Figure size 640x480 with 1 Axes>"
      ]
     },
     "metadata": {},
     "output_type": "display_data"
    }
   ],
   "source": [
    "#Geração Gráfico - Idade - 1000 linhas\n",
    "plt.boxplot(df1000['idade'])\n",
    "plt.title(\"Boxplot - Idade - 1000 Elementos\")\n",
    "plt.show()"
   ]
  },
  {
   "cell_type": "code",
   "execution_count": 19,
   "id": "e0b3f1aa-9677-433b-9be0-7c4b4da7306b",
   "metadata": {},
   "outputs": [
    {
     "data": {
      "image/png": "[encoded data removed]",
      "text/plain": [
       "<Figure size 640x480 with 1 Axes>"
      ]
     },
     "metadata": {},
     "output_type": "display_data"
    }
   ],
   "source": [
    "#Geração Gráfico - Renda - 1000 linhas\n",
    "plt.boxplot(df1000['renda'])\n",
    "plt.title(\"Boxplot - Renda - 1000 Elementos\")\n",
    "plt.show()"
   ]
  },
  {
   "cell_type": "code",
   "execution_count": 20,
   "id": "8774d8c1-b2d0-489a-a8dd-b976ab4c72e6",
   "metadata": {},
   "outputs": [
    {
     "data": {
      "image/png": "[encoded data removed]",
      "text/plain": [
       "<Figure size 640x480 with 1 Axes>"
      ]
     },
     "metadata": {},
     "output_type": "display_data"
    }
   ],
   "source": [
    "#Geração Gráfico - Nota - 1000 linhas\n",
    "plt.boxplot(df1000['nota'])\n",
    "plt.title(\"Boxplot - Nota - 1000 Elementos\")\n",
    "plt.show()"
   ]
  }
 ],
 "metadata": {
  "kernelspec": {
   "display_name": "Python ML (venv)",
   "language": "python",
   "name": "machine_learning"
  },
  "language_info": {
   "codemirror_mode": {
    "name": "ipython",
    "version": 3
   },
   "file_extension": ".py",
   "mimetype": "text/x-python",
   "name": "python",
   "nbconvert_exporter": "python",
   "pygments_lexer": "ipython3",
   "version": "3.10.5"
  }
 },
 "nbformat": 4,
 "nbformat_minor": 5
}
