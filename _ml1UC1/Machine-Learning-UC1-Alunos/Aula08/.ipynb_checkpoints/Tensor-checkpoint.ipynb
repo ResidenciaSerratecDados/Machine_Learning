{
 "cells": [
  {
   "cell_type": "code",
   "execution_count": 16,
   "id": "d9eac364-7408-42e0-9df0-62e001d9aeed",
   "metadata": {},
   "outputs": [],
   "source": [
    "import torch\n",
    "import torch.nn as nn\n",
    "import torch.optim as optim\n",
    "import numpy as np\n",
    "import matplotlib.pyplot as plt"
   ]
  },
  {
   "cell_type": "code",
   "execution_count": 41,
   "id": "872de227-fcd0-4b30-8bfd-a29ac9c0d86b",
   "metadata": {},
   "outputs": [],
   "source": [
    "np.random.seed(15)\n",
    "X = np.arange(1,101).reshape(-1,1)\n",
    "y = 2 * X.flatten() + np.random.normal(0, 1, size=X.shape[0])"
   ]
  },
  {
   "cell_type": "code",
   "execution_count": 42,
   "id": "b8506060-8eb8-4298-b891-e3bcc3e50c8d",
   "metadata": {},
   "outputs": [
    {
     "name": "stdout",
     "output_type": "stream",
     "text": [
      "Dados de entrada (X):\n",
      "[[1]\n",
      " [2]\n",
      " [3]\n",
      " [4]\n",
      " [5]]\n",
      "Dados de entrada (Y):\n",
      "[ 1.68767152  4.33928471  5.84409147  7.49821033 10.23556889]\n",
      "\n"
     ]
    }
   ],
   "source": [
    "print(\"Dados de entrada (X):\")\n",
    "print(X[0:5])\n",
    "print(\"Dados de entrada (Y):\")\n",
    "print(y[0:5])\n",
    "print()"
   ]
  },
  {
   "cell_type": "code",
   "execution_count": 43,
   "id": "4dd14298-b587-4d8f-848c-4aa17859c44e",
   "metadata": {},
   "outputs": [],
   "source": [
    "X_tensor = torch.tensor(X, dtype=torch.float32)\n",
    "y_tensor = torch.tensor(y, dtype=torch.float32).view(-1,1)"
   ]
  },
  {
   "cell_type": "code",
   "execution_count": 44,
   "id": "5c5b144e-e01b-4cad-8166-152e8231c99c",
   "metadata": {},
   "outputs": [],
   "source": [
    "# Passo 3: Dividindo os dados em treino e teste\n",
    "# Como estamos no PyTorch, vamos fazer manualmente\n",
    "train_size = int(0.8 * len(X_tensor))\n",
    "X_train, X_test = X_tensor[:train_size], X_tensor[train_size:]\n",
    "y_train, y_test = y_tensor[:train_size], y_tensor[train_size:]"
   ]
  },
  {
   "cell_type": "code",
   "execution_count": 45,
   "id": "803cbb0f-3dc9-4a9b-906c-89a3b5e2768f",
   "metadata": {},
   "outputs": [
    {
     "name": "stdout",
     "output_type": "stream",
     "text": [
      "X_train [ 1.  2.  3.  4.  5.  6.  7.  8.  9. 10. 11. 12. 13. 14. 15. 16. 17. 18.\n",
      " 19. 20. 21. 22. 23. 24. 25. 26. 27. 28. 29. 30. 31. 32. 33. 34. 35. 36.\n",
      " 37. 38. 39. 40. 41. 42. 43. 44. 45. 46. 47. 48. 49. 50. 51. 52. 53. 54.\n",
      " 55. 56. 57. 58. 59. 60. 61. 62. 63. 64. 65. 66. 67. 68. 69. 70. 71. 72.\n",
      " 73. 74. 75. 76. 77. 78. 79. 80.]\n",
      "X_test [ 81.  82.  83.  84.  85.  86.  87.  88.  89.  90.  91.  92.  93.  94.\n",
      "  95.  96.  97.  98.  99. 100.]\n",
      "y_train [  1.6876715   4.339285    5.8440914   7.4982104  10.235569   10.236395\n",
      "  12.904138   14.912234   17.69483    19.52625    21.799406   24.355196\n",
      "  26.689518   28.41059    29.435022   32.599392   33.837063   37.600216\n",
      "  38.681625   40.01488    41.91222    43.017883   46.12169    46.862564\n",
      "  50.349003   50.141487   52.832817   57.424896   59.496567   61.289932\n",
      "  60.188255   62.501694   64.54986    66.30609    70.227264   71.51026\n",
      "  73.99947    75.50975    77.20679    82.0489     82.60319    83.0018\n",
      "  87.21504    87.33248    89.72749    93.41677    93.21739    95.74968\n",
      "  97.69169   101.72969   103.97827   104.21969   107.89482   106.6319\n",
      " 109.80869   113.287254  113.75311   116.34255   118.22272   120.681595\n",
      " 122.25145   122.51815   125.613174  127.26632   130.58598   130.2642\n",
      " 133.17331   137.18384   138.35504   142.44286   141.96307   141.28828\n",
      " 146.99149   148.19225   149.6472    150.66048   153.81133   156.59659\n",
      " 158.34045   160.08342  ]\n",
      "y_test [162.60599 164.16893 164.9611  168.28523 170.5024  173.93387 174.04832\n",
      " 174.94823 179.16658 180.73547 181.43687 182.78699 187.54813 186.30212\n",
      " 189.36821 192.28636 192.95203 195.81355 198.49756 199.5955 ]\n"
     ]
    }
   ],
   "source": [
    "print(\"X_train\",X_train.numpy().flatten())\n",
    "print(\"X_test\",X_test.numpy().flatten())\n",
    "print(\"y_train\",y_train.numpy().flatten())\n",
    "print(\"y_test\",y_test.numpy().flatten())"
   ]
  },
  {
   "cell_type": "code",
   "execution_count": 46,
   "id": "3c53e013-af7f-4f95-a42c-83c877df5e19",
   "metadata": {},
   "outputs": [],
   "source": [
    "# Passo 4: Definindo o modelo de regressão linear\n",
    "class LinearRegression(nn.Module):\n",
    "    def __init__(self):\n",
    "        super(LinearRegression, self).__init__()\n",
    "        self.linear = nn.Linear(1, 1)  # Camada linear: y = a*x + b\n",
    "\n",
    "    def forward(self, x):\n",
    "        return self.linear(x)\n",
    "\n",
    "model = LinearRegression()"
   ]
  },
  {
   "cell_type": "code",
   "execution_count": 52,
   "id": "add321af-8f7b-46b7-b757-b81eefc4bae6",
   "metadata": {},
   "outputs": [],
   "source": [
    "criterion = nn.MSELoss()\n",
    "optimizer = optim.SGD(model.parameters(), lr=0.001)"
   ]
  },
  {
   "cell_type": "code",
   "execution_count": 53,
   "id": "5efe370a-931a-4c07-b7b7-177d0c3b72d7",
   "metadata": {},
   "outputs": [
    {
     "name": "stdout",
     "output_type": "stream",
     "text": [
      "Época [10/1000], Perda: nan\n",
      "Época [20/1000], Perda: nan\n",
      "Época [30/1000], Perda: nan\n",
      "Época [40/1000], Perda: nan\n",
      "Época [50/1000], Perda: nan\n",
      "Época [60/1000], Perda: nan\n",
      "Época [70/1000], Perda: nan\n",
      "Época [80/1000], Perda: nan\n",
      "Época [90/1000], Perda: nan\n",
      "Época [100/1000], Perda: nan\n",
      "Época [110/1000], Perda: nan\n",
      "Época [120/1000], Perda: nan\n",
      "Época [130/1000], Perda: nan\n",
      "Época [140/1000], Perda: nan\n",
      "Época [150/1000], Perda: nan\n",
      "Época [160/1000], Perda: nan\n",
      "Época [170/1000], Perda: nan\n",
      "Época [180/1000], Perda: nan\n",
      "Época [190/1000], Perda: nan\n",
      "Época [200/1000], Perda: nan\n",
      "Época [210/1000], Perda: nan\n",
      "Época [220/1000], Perda: nan\n",
      "Época [230/1000], Perda: nan\n",
      "Época [240/1000], Perda: nan\n",
      "Época [250/1000], Perda: nan\n",
      "Época [260/1000], Perda: nan\n",
      "Época [270/1000], Perda: nan\n",
      "Época [280/1000], Perda: nan\n",
      "Época [290/1000], Perda: nan\n",
      "Época [300/1000], Perda: nan\n",
      "Época [310/1000], Perda: nan\n",
      "Época [320/1000], Perda: nan\n",
      "Época [330/1000], Perda: nan\n",
      "Época [340/1000], Perda: nan\n",
      "Época [350/1000], Perda: nan\n",
      "Época [360/1000], Perda: nan\n",
      "Época [370/1000], Perda: nan\n",
      "Época [380/1000], Perda: nan\n",
      "Época [390/1000], Perda: nan\n",
      "Época [400/1000], Perda: nan\n",
      "Época [410/1000], Perda: nan\n",
      "Época [420/1000], Perda: nan\n",
      "Época [430/1000], Perda: nan\n",
      "Época [440/1000], Perda: nan\n",
      "Época [450/1000], Perda: nan\n",
      "Época [460/1000], Perda: nan\n",
      "Época [470/1000], Perda: nan\n",
      "Época [480/1000], Perda: nan\n",
      "Época [490/1000], Perda: nan\n",
      "Época [500/1000], Perda: nan\n",
      "Época [510/1000], Perda: nan\n",
      "Época [520/1000], Perda: nan\n",
      "Época [530/1000], Perda: nan\n",
      "Época [540/1000], Perda: nan\n",
      "Época [550/1000], Perda: nan\n",
      "Época [560/1000], Perda: nan\n",
      "Época [570/1000], Perda: nan\n",
      "Época [580/1000], Perda: nan\n",
      "Época [590/1000], Perda: nan\n",
      "Época [600/1000], Perda: nan\n",
      "Época [610/1000], Perda: nan\n",
      "Época [620/1000], Perda: nan\n",
      "Época [630/1000], Perda: nan\n",
      "Época [640/1000], Perda: nan\n",
      "Época [650/1000], Perda: nan\n",
      "Época [660/1000], Perda: nan\n",
      "Época [670/1000], Perda: nan\n",
      "Época [680/1000], Perda: nan\n",
      "Época [690/1000], Perda: nan\n",
      "Época [700/1000], Perda: nan\n",
      "Época [710/1000], Perda: nan\n",
      "Época [720/1000], Perda: nan\n",
      "Época [730/1000], Perda: nan\n",
      "Época [740/1000], Perda: nan\n",
      "Época [750/1000], Perda: nan\n",
      "Época [760/1000], Perda: nan\n",
      "Época [770/1000], Perda: nan\n",
      "Época [780/1000], Perda: nan\n",
      "Época [790/1000], Perda: nan\n",
      "Época [800/1000], Perda: nan\n",
      "Época [810/1000], Perda: nan\n",
      "Época [820/1000], Perda: nan\n",
      "Época [830/1000], Perda: nan\n",
      "Época [840/1000], Perda: nan\n",
      "Época [850/1000], Perda: nan\n",
      "Época [860/1000], Perda: nan\n",
      "Época [870/1000], Perda: nan\n",
      "Época [880/1000], Perda: nan\n",
      "Época [890/1000], Perda: nan\n",
      "Época [900/1000], Perda: nan\n",
      "Época [910/1000], Perda: nan\n",
      "Época [920/1000], Perda: nan\n",
      "Época [930/1000], Perda: nan\n",
      "Época [940/1000], Perda: nan\n",
      "Época [950/1000], Perda: nan\n",
      "Época [960/1000], Perda: nan\n",
      "Época [970/1000], Perda: nan\n",
      "Época [980/1000], Perda: nan\n",
      "Época [990/1000], Perda: nan\n",
      "Época [1000/1000], Perda: nan\n"
     ]
    }
   ],
   "source": [
    "# Passo 6: Treinamento do modelo\n",
    "epochs = 1000\n",
    "for epoch in range(epochs):\n",
    "    # Forward pass\n",
    "    outputs = model(X_train)\n",
    "    loss = criterion(outputs, y_train)\n",
    "\n",
    "    # Backward pass e otimização\n",
    "    optimizer.zero_grad()\n",
    "    loss.backward()\n",
    "    optimizer.step()\n",
    "\n",
    "    if (epoch + 1) % 10 == 0:\n",
    "        print(f'Época [{epoch+1}/{epochs}], Perda: {loss.item():.4f}')"
   ]
  },
  {
   "cell_type": "code",
   "execution_count": 54,
   "id": "9e2e6f74-d138-4982-b639-4aad8f05bc99",
   "metadata": {},
   "outputs": [],
   "source": [
    "model.eval()\n",
    "with torch.no_grad():\n",
    "   y_pred = model(X_test)"
   ]
  },
  {
   "cell_type": "code",
   "execution_count": 55,
   "id": "a1e05ac6-94bd-413a-a164-ab1948df19c1",
   "metadata": {},
   "outputs": [
    {
     "name": "stdout",
     "output_type": "stream",
     "text": [
      "\n",
      "Valores reais:     [162.60599 164.16893 164.9611  168.28523 170.5024  173.93387 174.04832\n",
      " 174.94823 179.16658 180.73547 181.43687 182.78699 187.54813 186.30212\n",
      " 189.36821 192.28636 192.95203 195.81355 198.49756 199.5955 ]\n",
      "\n",
      "Valores positivos: [nan nan nan nan nan nan nan nan nan nan nan nan nan nan nan nan nan nan\n",
      " nan nan]\n"
     ]
    }
   ],
   "source": [
    "print(\"\\nValores reais:    \",y_test.numpy().flatten())\n",
    "print(\"\\nValores positivos:\",y_pred.numpy().flatten())"
   ]
  },
  {
   "cell_type": "code",
   "execution_count": 56,
   "id": "22a468f8-aa8e-4fcc-91c4-db7cab2b40a5",
   "metadata": {},
   "outputs": [
    {
     "name": "stdout",
     "output_type": "stream",
     "text": [
      "\n",
      "Erro Médio Quadrático (MSE): nan\n"
     ]
    }
   ],
   "source": [
    "mse = criterion(y_pred, y_test).item()\n",
    "print(\"\\nErro Médio Quadrático (MSE):\", round(mse,4))"
   ]
  },
  {
   "cell_type": "code",
   "execution_count": null,
   "id": "c09f6c7e-f137-428c-8195-2ab6eea27279",
   "metadata": {},
   "outputs": [],
   "source": []
  }
 ],
 "metadata": {
  "kernelspec": {
   "display_name": "Python ML (venv)",
   "language": "python",
   "name": "machine_learning"
  },
  "language_info": {
   "codemirror_mode": {
    "name": "ipython",
    "version": 3
   },
   "file_extension": ".py",
   "mimetype": "text/x-python",
   "name": "python",
   "nbconvert_exporter": "python",
   "pygments_lexer": "ipython3",
   "version": "3.10.5"
  }
 },
 "nbformat": 4,
 "nbformat_minor": 5
}
