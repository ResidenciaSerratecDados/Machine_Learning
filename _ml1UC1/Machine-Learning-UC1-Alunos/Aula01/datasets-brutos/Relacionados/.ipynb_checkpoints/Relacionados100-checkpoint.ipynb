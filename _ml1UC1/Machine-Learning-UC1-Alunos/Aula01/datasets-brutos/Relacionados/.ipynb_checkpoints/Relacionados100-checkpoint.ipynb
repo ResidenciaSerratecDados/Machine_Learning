{
 "cells": [
  {
   "cell_type": "code",
   "execution_count": 1,
   "id": "d1e26e94-5128-4b57-b0a8-5ca0e0a69c48",
   "metadata": {},
   "outputs": [],
   "source": [
    "#importações das bibliotecas\n",
    "import pandas as pd\n",
    "import numpy as np\n",
    "import matplotlib.pyplot as plt\n",
    "from sklearn.preprocessing import StandardScaler\n",
    "from sklearn.impute import SimpleImputer\n",
    "from sklearn.ensemble import RandomForestRegressor\n",
    "from scipy import stats\n",
    "import json"
   ]
  },
  {
   "cell_type": "code",
   "execution_count": 2,
   "id": "a186968c-844b-46c5-b63e-d19bc05cf447",
   "metadata": {},
   "outputs": [],
   "source": [
    "#importação das planilhas csv para serem dataframes\n",
    "df100 = pd.read_csv(\"dataset_sudeste_relacionados_outliers_100.csv\")"
   ]
  },
  {
   "cell_type": "code",
   "execution_count": 3,
   "id": "6c81361e-c0e6-4112-94e0-5149e337ae9e",
   "metadata": {},
   "outputs": [
    {
     "data": {
      "text/plain": [
       "['id', 'idade', 'renda', 'cidade', 'categoria', 'nota', 'feedback']"
      ]
     },
     "execution_count": 3,
     "metadata": {},
     "output_type": "execute_result"
    }
   ],
   "source": [
    "df100.columns.tolist() #listar colunas de tabela de 100 linhas"
   ]
  },
  {
   "cell_type": "code",
   "execution_count": 4,
   "id": "704fead7-6833-449f-9cf1-7e2edf1a3d53",
   "metadata": {},
   "outputs": [],
   "source": [
    "# Tratamento de NaN(nulos) - converter para 0 - tabela de 100 linhas\n",
    "df100['idade'] = df100['idade'].fillna(0)\n",
    "df100['renda'] = df100['renda'].fillna(0)\n",
    "df100['cidade'] = df100['cidade'].fillna(0)\n",
    "df100['categoria'] = df100['categoria'].fillna(0)\n",
    "df100['nota'] = df100['nota'].fillna(0)\n",
    "df100['feedback'] = df100['feedback'].fillna(0)"
   ]
  },
  {
   "cell_type": "code",
   "execution_count": 5,
   "id": "61bfa068-5cf0-452d-9fea-899a79a29f60",
   "metadata": {},
   "outputs": [
    {
     "data": {
      "text/html": [
       "<div>\n",
       "<style scoped>\n",
       "    .dataframe tbody tr th:only-of-type {\n",
       "        vertical-align: middle;\n",
       "    }\n",
       "\n",
       "    .dataframe tbody tr th {\n",
       "        vertical-align: top;\n",
       "    }\n",
       "\n",
       "    .dataframe thead th {\n",
       "        text-align: right;\n",
       "    }\n",
       "</style>\n",
       "<table border=\"1\" class=\"dataframe\">\n",
       "  <thead>\n",
       "    <tr style=\"text-align: right;\">\n",
       "      <th></th>\n",
       "      <th>id</th>\n",
       "      <th>idade</th>\n",
       "      <th>renda</th>\n",
       "      <th>cidade</th>\n",
       "      <th>categoria</th>\n",
       "      <th>nota</th>\n",
       "      <th>feedback</th>\n",
       "    </tr>\n",
       "  </thead>\n",
       "  <tbody>\n",
       "    <tr>\n",
       "      <th>0</th>\n",
       "      <td>1</td>\n",
       "      <td>44</td>\n",
       "      <td>22786.63</td>\n",
       "      <td>São Paulo</td>\n",
       "      <td>A</td>\n",
       "      <td>5.9</td>\n",
       "      <td>Bom</td>\n",
       "    </tr>\n",
       "    <tr>\n",
       "      <th>1</th>\n",
       "      <td>2</td>\n",
       "      <td>55</td>\n",
       "      <td>31927.19</td>\n",
       "      <td>Belo Horizonte</td>\n",
       "      <td>A</td>\n",
       "      <td>7.2</td>\n",
       "      <td>Bom</td>\n",
       "    </tr>\n",
       "    <tr>\n",
       "      <th>2</th>\n",
       "      <td>3</td>\n",
       "      <td>50</td>\n",
       "      <td>36498.17</td>\n",
       "      <td>Vitória</td>\n",
       "      <td>B</td>\n",
       "      <td>7.8</td>\n",
       "      <td>Bom</td>\n",
       "    </tr>\n",
       "    <tr>\n",
       "      <th>3</th>\n",
       "      <td>4</td>\n",
       "      <td>43</td>\n",
       "      <td>23199.72</td>\n",
       "      <td>São Paulo</td>\n",
       "      <td>A</td>\n",
       "      <td>7.3</td>\n",
       "      <td>Bom</td>\n",
       "    </tr>\n",
       "    <tr>\n",
       "      <th>4</th>\n",
       "      <td>5</td>\n",
       "      <td>50</td>\n",
       "      <td>45807.83</td>\n",
       "      <td>Rio de Janeiro</td>\n",
       "      <td>A</td>\n",
       "      <td>6.3</td>\n",
       "      <td>Bom</td>\n",
       "    </tr>\n",
       "    <tr>\n",
       "      <th>...</th>\n",
       "      <td>...</td>\n",
       "      <td>...</td>\n",
       "      <td>...</td>\n",
       "      <td>...</td>\n",
       "      <td>...</td>\n",
       "      <td>...</td>\n",
       "      <td>...</td>\n",
       "    </tr>\n",
       "    <tr>\n",
       "      <th>95</th>\n",
       "      <td>96</td>\n",
       "      <td>25</td>\n",
       "      <td>37814.19</td>\n",
       "      <td>Rio de Janeiro</td>\n",
       "      <td>B</td>\n",
       "      <td>9.1</td>\n",
       "      <td>Bom</td>\n",
       "    </tr>\n",
       "    <tr>\n",
       "      <th>96</th>\n",
       "      <td>97</td>\n",
       "      <td>56</td>\n",
       "      <td>13147.32</td>\n",
       "      <td>Belo Horizonte</td>\n",
       "      <td>B</td>\n",
       "      <td>9.0</td>\n",
       "      <td>Bom</td>\n",
       "    </tr>\n",
       "    <tr>\n",
       "      <th>97</th>\n",
       "      <td>98</td>\n",
       "      <td>82</td>\n",
       "      <td>23620.74</td>\n",
       "      <td>São Paulo</td>\n",
       "      <td>A</td>\n",
       "      <td>9.5</td>\n",
       "      <td>Bom</td>\n",
       "    </tr>\n",
       "    <tr>\n",
       "      <th>98</th>\n",
       "      <td>99</td>\n",
       "      <td>18</td>\n",
       "      <td>28822.51</td>\n",
       "      <td>Belo Horizonte</td>\n",
       "      <td>A</td>\n",
       "      <td>8.4</td>\n",
       "      <td>Bom</td>\n",
       "    </tr>\n",
       "    <tr>\n",
       "      <th>99</th>\n",
       "      <td>100</td>\n",
       "      <td>62</td>\n",
       "      <td>6693.79</td>\n",
       "      <td>Belo Horizonte</td>\n",
       "      <td>A</td>\n",
       "      <td>9.2</td>\n",
       "      <td>Bom</td>\n",
       "    </tr>\n",
       "  </tbody>\n",
       "</table>\n",
       "<p>100 rows × 7 columns</p>\n",
       "</div>"
      ],
      "text/plain": [
       "     id  idade     renda          cidade categoria  nota feedback\n",
       "0     1     44  22786.63       São Paulo         A   5.9      Bom\n",
       "1     2     55  31927.19  Belo Horizonte         A   7.2      Bom\n",
       "2     3     50  36498.17         Vitória         B   7.8      Bom\n",
       "3     4     43  23199.72       São Paulo         A   7.3      Bom\n",
       "4     5     50  45807.83  Rio de Janeiro         A   6.3      Bom\n",
       "..  ...    ...       ...             ...       ...   ...      ...\n",
       "95   96     25  37814.19  Rio de Janeiro         B   9.1      Bom\n",
       "96   97     56  13147.32  Belo Horizonte         B   9.0      Bom\n",
       "97   98     82  23620.74       São Paulo         A   9.5      Bom\n",
       "98   99     18  28822.51  Belo Horizonte         A   8.4      Bom\n",
       "99  100     62   6693.79  Belo Horizonte         A   9.2      Bom\n",
       "\n",
       "[100 rows x 7 columns]"
      ]
     },
     "metadata": {},
     "output_type": "display_data"
    }
   ],
   "source": [
    "#feedbackisualização de tabela tratada de 100 linhas\n",
    "display(df100.head(100))"
   ]
  },
  {
   "cell_type": "code",
   "execution_count": 6,
   "id": "6022f6be-baf4-4f3f-b55f-01f4bf25239a",
   "metadata": {},
   "outputs": [
    {
     "name": "stdout",
     "output_type": "stream",
     "text": [
      "\n",
      "### Descrição Estatística 100###\n",
      "               id       idade        renda        nota\n",
      "count  100.000000  100.000000    100.00000  100.000000\n",
      "mean    50.500000   47.990000  25642.74400    7.465000\n",
      "std     29.011492   19.058387  13582.44882    1.415597\n",
      "min      1.000000   16.000000   1723.21000    5.000000\n",
      "25%     25.750000   31.000000  12940.55000    6.275000\n",
      "50%     50.500000   48.500000  28231.83000    7.500000\n",
      "75%     75.250000   62.250000  36922.22750    8.725000\n",
      "max    100.000000   82.000000  46137.87000    9.800000\n"
     ]
    }
   ],
   "source": [
    "# Média, mínimo, máximo, quartis, margem de erro, contagem\n",
    "\n",
    "print(\"\\n### Descrição Estatística 100###\")\n",
    "print(df100.describe())"
   ]
  },
  {
   "cell_type": "code",
   "execution_count": 7,
   "id": "b05672b4-388a-4378-94be-351604ead0ed",
   "metadata": {},
   "outputs": [
    {
     "name": "stdout",
     "output_type": "stream",
     "text": [
      "Média de Idade - 100 Elementos: 48.0\n",
      "Mediana de Idade - 100 Elementos: 48.0\n",
      "Desvio Padrão de Idade - 100 Elementos: 19.0\n",
      "Maior Valor de Idade - 100 Elementos: 82\n",
      "Menor Valor de Idade - 100 Elementos: 16\n"
     ]
    }
   ],
   "source": [
    "# Cálculos Estatísticos de idade\n",
    "\n",
    "media_idade100 = sum(df100['idade'])/len(df100['idade'])\n",
    "mediana_idade100 = df100['idade'].median()\n",
    "desvio_padrao_idade100 = df100['idade'].std()\n",
    "maximo_idade100 = df100['idade'].max()\n",
    "minimo_idade100 = df100['idade'].min()\n",
    "\n",
    "print('Média de Idade - 100 Elementos:',round(media_idade100,0))\n",
    "print('Mediana de Idade - 100 Elementos:',round(mediana_idade100,0))\n",
    "print('Desvio Padrão de Idade - 100 Elementos:',round(desvio_padrao_idade100,0))\n",
    "print('Maior Valor de Idade - 100 Elementos:',round(maximo_idade100,0))\n",
    "print('Menor Valor de Idade - 100 Elementos:',round(minimo_idade100,0))"
   ]
  },
  {
   "cell_type": "code",
   "execution_count": 8,
   "id": "41d54cb7-7ca2-4328-afdb-31b47d095ab5",
   "metadata": {},
   "outputs": [
    {
     "name": "stdout",
     "output_type": "stream",
     "text": [
      "Média de Renda - 100 Elementos: 25642.74\n",
      "Mediana de Renda - 100 Elementos: 28231.83\n",
      "Desvio Padrão de Renda - 100 Elementos: 13582.45\n",
      "Maior Valor de Renda - 100 Elementos: 46137.87\n",
      "Menor Valor de Renda - 100 Elementos: 1723.21\n"
     ]
    }
   ],
   "source": [
    "# Cálculos Estatísticos de renda\n",
    "\n",
    "media_renda100 = sum(df100['renda'])/len(df100['renda'])\n",
    "mediana_renda100 = df100['renda'].median()\n",
    "desvio_padrao_renda100 = df100['renda'].std()\n",
    "maximo_renda100 = df100['renda'].max()\n",
    "minimo_renda100 = df100['renda'].min()\n",
    "\n",
    "print('Média de Renda - 100 Elementos:',round(media_renda100,2))\n",
    "print('Mediana de Renda - 100 Elementos:',round(mediana_renda100,2))\n",
    "print('Desvio Padrão de Renda - 100 Elementos:',round(desvio_padrao_renda100,2))\n",
    "print('Maior Valor de Renda - 100 Elementos:',round(maximo_renda100,2))\n",
    "print('Menor Valor de Renda - 100 Elementos:',round(minimo_renda100,2))"
   ]
  },
  {
   "cell_type": "code",
   "execution_count": 9,
   "id": "0f54a190-9682-46a4-b783-1a403370548d",
   "metadata": {},
   "outputs": [
    {
     "name": "stdout",
     "output_type": "stream",
     "text": [
      "Média de Nota - 100 Elementos: 7.46\n",
      "Mediana de Nota - 100 Elementos: 7.5\n",
      "Desvio Padrão de Nota - 100 Elementos: 1.42\n",
      "Maior Valor de Nota - 100 Elementos: 9.8\n",
      "Menor Valor de Nota - 100 Elementos: 5.0\n"
     ]
    }
   ],
   "source": [
    "# Cálculos Estatísticos de nota\n",
    "\n",
    "media_nota100 = sum(df100['nota'])/len(df100['nota'])\n",
    "mediana_nota100 = df100['nota'].median()\n",
    "desvio_padrao_nota100 = df100['nota'].std()\n",
    "maximo_nota100 = df100['nota'].max()\n",
    "minimo_nota100 = df100['nota'].min()\n",
    "\n",
    "print('Média de Nota - 100 Elementos:',round(media_nota100,2))\n",
    "print('Mediana de Nota - 100 Elementos:',round(mediana_nota100,2))\n",
    "print('Desvio Padrão de Nota - 100 Elementos:',round(desvio_padrao_nota100,2))\n",
    "print('Maior Valor de Nota - 100 Elementos:',round(maximo_nota100,2))\n",
    "print('Menor Valor de Nota - 100 Elementos:',round(minimo_nota100,2))"
   ]
  },
  {
   "cell_type": "code",
   "execution_count": 10,
   "id": "79236da5-ee74-4d7b-868e-f9fd86bd06df",
   "metadata": {},
   "outputs": [
    {
     "name": "stdout",
     "output_type": "stream",
     "text": [
      "\n",
      "\n",
      "\t IQR - Campo Renda - 100\n",
      "\n",
      "\n",
      "Quartis -> Q1: 12940.55  ->  Q3: 36922.23\n",
      "IQR ----- 23981.6775\n",
      "Limites - Inf: -23031.97  -> Sup: 72894.74\n"
     ]
    }
   ],
   "source": [
    "#Calculando o IQR e identificando os limites - Renda\n",
    "\n",
    "Q1_renda100 = df100['renda'].quantile(0.25)\n",
    "Q3_renda100 = df100['renda'].quantile(0.75)\n",
    "IQR_renda100 = Q3_renda100 - Q1_renda100\n",
    "limite_inferior_renda100 = Q1_renda100 - 1.5 * IQR_renda100\n",
    "limite_superior_renda100 = Q3_renda100 + 1.5 * IQR_renda100\n",
    "\n",
    "print (f\"\\n\\n\\t IQR - Campo Renda - 100\\n\\n\")\n",
    "print(f\"Quartis -> Q1: {Q1_renda100:-8.2f}  ->  Q3: {Q3_renda100:-8.2f}\")\n",
    "print(f\"IQR ----- {IQR_renda100}\")\n",
    "print(f\"Limites - Inf: {limite_inferior_renda100:-8.2f}  -> Sup: {limite_superior_renda100:-8.2f}\")"
   ]
  },
  {
   "cell_type": "code",
   "execution_count": 11,
   "id": "592036fe-d6f6-4c72-be87-95bdf23696a9",
   "metadata": {},
   "outputs": [
    {
     "name": "stdout",
     "output_type": "stream",
     "text": [
      "\n",
      "\n",
      "\t IQR - Campo Idade - 100\n",
      "\n",
      "\n",
      "Quartis -> Q1:    31.00  ->  Q3:    62.25\n",
      "IQR ----- 31.25\n",
      "Limites - Inf:   -15.88  -> Sup:   109.12\n"
     ]
    }
   ],
   "source": [
    "#Calculando o IQR e identificando os limites - Idade\n",
    "\n",
    "Q1_idade100 = df100['idade'].quantile(0.25)\n",
    "Q3_idade100 = df100['idade'].quantile(0.75)\n",
    "IQR_idade100 = Q3_idade100 - Q1_idade100\n",
    "limite_inferior_idade100 = Q1_idade100 - 1.5 * IQR_idade100\n",
    "limite_superior_idade100 = Q3_idade100 + 1.5 * IQR_idade100\n",
    "\n",
    "print (f\"\\n\\n\\t IQR - Campo Idade - 100\\n\\n\")\n",
    "print(f\"Quartis -> Q1: {Q1_idade100:-8.2f}  ->  Q3: {Q3_idade100:-8.2f}\")\n",
    "print(f\"IQR ----- {IQR_idade100}\")\n",
    "print(f\"Limites - Inf: {limite_inferior_idade100:-8.2f}  -> Sup: {limite_superior_idade100:-8.2f}\")"
   ]
  },
  {
   "cell_type": "code",
   "execution_count": 12,
   "id": "f9debfeb-baca-4b0a-9a7a-5b5674a9c4eb",
   "metadata": {},
   "outputs": [
    {
     "name": "stdout",
     "output_type": "stream",
     "text": [
      "\n",
      "\n",
      "\t IQR - Campo Nota - 100\n",
      "\n",
      "\n",
      "Quartis -> Q1:     6.28  ->  Q3:     8.72\n",
      "IQR ----- 2.4499999999999993\n",
      "Limites - Inf:     2.60  -> Sup:    12.40\n"
     ]
    }
   ],
   "source": [
    "#Calculando o IQR e identificando os limites - Nota\n",
    "\n",
    "Q1_nota100 = df100['nota'].quantile(0.25)\n",
    "Q3_nota100 = df100['nota'].quantile(0.75)\n",
    "IQR_nota100 = Q3_nota100 - Q1_nota100\n",
    "limite_inferior_nota100 = Q1_nota100 - 1.5 * IQR_nota100\n",
    "limite_superior_nota100 = Q3_nota100 + 1.5 * IQR_nota100\n",
    "\n",
    "print (f\"\\n\\n\\t IQR - Campo Nota - 100\\n\\n\")\n",
    "print(f\"Quartis -> Q1: {Q1_nota100:-8.2f}  ->  Q3: {Q3_nota100:-8.2f}\")\n",
    "print(f\"IQR ----- {IQR_nota100}\")\n",
    "print(f\"Limites - Inf: {limite_inferior_nota100:-8.2f}  -> Sup: {limite_superior_nota100:-8.2f}\")"
   ]
  },
  {
   "cell_type": "code",
   "execution_count": 13,
   "id": "ff3dfa42-08da-4f6b-ad0d-51a0cb5ed2d9",
   "metadata": {},
   "outputs": [
    {
     "name": "stdout",
     "output_type": "stream",
     "text": [
      "\n",
      "### Possíveis Outliers em 'renda' - 100 Elementos###\n",
      "\n",
      "Empty DataFrame\n",
      "Columns: [id, idade, renda, cidade, categoria, nota, feedback]\n",
      "Index: []\n",
      "\n",
      "\n",
      "\n"
     ]
    }
   ],
   "source": [
    "#Outliers Renda\n",
    "\n",
    "outliers_renda100 = df100[(df100['renda'] < limite_inferior_renda100) | (df100['renda'] > limite_superior_renda100)]\n",
    "print(f\"\\n### Possíveis Outliers em 'renda' - 100 Elementos###\\n\\n{outliers_renda100}\\n\\n\\n\")"
   ]
  },
  {
   "cell_type": "code",
   "execution_count": 14,
   "id": "68c782be-0db5-4c1d-9689-9a3656e49a83",
   "metadata": {},
   "outputs": [
    {
     "name": "stdout",
     "output_type": "stream",
     "text": [
      "\n",
      "### Possíveis Outliers em 'idade' - 100 Elementos###\n",
      "\n",
      "Empty DataFrame\n",
      "Columns: [id, idade, renda, cidade, categoria, nota, feedback]\n",
      "Index: []\n",
      "\n",
      "\n",
      "\n"
     ]
    }
   ],
   "source": [
    "#Outliers Idade\n",
    "\n",
    "outliers_idade100 = df100[(df100['idade'] < limite_inferior_idade100) | (df100['idade'] > limite_superior_idade100)]\n",
    "print(f\"\\n### Possíveis Outliers em 'idade' - 100 Elementos###\\n\\n{outliers_idade100}\\n\\n\\n\")"
   ]
  },
  {
   "cell_type": "code",
   "execution_count": 15,
   "id": "35e9675a-fa8b-408f-88f3-cb946659a174",
   "metadata": {},
   "outputs": [
    {
     "name": "stdout",
     "output_type": "stream",
     "text": [
      "\n",
      "### Possíveis Outliers em 'nota' - 100 Elementos###\n",
      "\n",
      "Empty DataFrame\n",
      "Columns: [id, idade, renda, cidade, categoria, nota, feedback]\n",
      "Index: []\n",
      "\n",
      "\n",
      "\n"
     ]
    }
   ],
   "source": [
    "#Outliers Nota\n",
    "\n",
    "outliers_nota100 = df100[(df100['nota'] < limite_inferior_nota100) | (df100['nota'] > limite_superior_nota100)]\n",
    "print(f\"\\n### Possíveis Outliers em 'nota' - 100 Elementos###\\n\\n{outliers_nota100}\\n\\n\\n\")"
   ]
  },
  {
   "cell_type": "code",
   "execution_count": 16,
   "id": "2faefb67-ed6c-4d03-aa5a-d5f07c8a4b56",
   "metadata": {},
   "outputs": [],
   "source": [
    "#Conversão da planilha tratada para csv\n",
    "df100.to_csv('Relacionado100_Tratado.csv', index=False)"
   ]
  },
  {
   "cell_type": "code",
   "execution_count": 17,
   "id": "b9a16c52-36b7-4284-810b-0cb3d293171e",
   "metadata": {},
   "outputs": [
    {
     "name": "stdout",
     "output_type": "stream",
     "text": [
      "Arquivo salvo com sucesso para importação no MongoDB Atlas - 100 linhas!\n"
     ]
    }
   ],
   "source": [
    "# Converter para lista de dicionários (documentos MongoDB)\n",
    "dados_mongo100 = df100.to_dict(orient='records')\n",
    "\n",
    "# Salvar como JSON\n",
    "with open('dados_mongo_Relacionado100.json', 'w', encoding='utf-8') as f:\n",
    "    json.dump(dados_mongo100, f, ensure_ascii=False, indent=2)\n",
    "\n",
    "print(\"Arquivo salvo com sucesso para importação no MongoDB Atlas - 100 linhas!\")"
   ]
  },
  {
   "cell_type": "code",
   "execution_count": 18,
   "id": "ea27bf52-88c9-4b3d-a596-e2588f2f85a9",
   "metadata": {},
   "outputs": [
    {
     "data": {
      "image/png": "[encoded data removed]",
      "text/plain": [
       "<Figure size 640x480 with 1 Axes>"
      ]
     },
     "metadata": {},
     "output_type": "display_data"
    }
   ],
   "source": [
    "#Geração Gráfico - Idade - 100 linhas\n",
    "plt.boxplot(df100['idade'])\n",
    "plt.title(\"Boxplot - Idade - 100 Elementos\")\n",
    "plt.show()"
   ]
  },
  {
   "cell_type": "code",
   "execution_count": 19,
   "id": "e0b3f1aa-9677-433b-9be0-7c4b4da7306b",
   "metadata": {},
   "outputs": [
    {
     "data": {
      "image/png": "[encoded data removed]",
      "text/plain": [
       "<Figure size 640x480 with 1 Axes>"
      ]
     },
     "metadata": {},
     "output_type": "display_data"
    }
   ],
   "source": [
    "#Geração Gráfico - Renda - 100 linhas\n",
    "plt.boxplot(df100['renda'])\n",
    "plt.title(\"Boxplot - Renda - 100 Elementos\")\n",
    "plt.show()"
   ]
  },
  {
   "cell_type": "code",
   "execution_count": 20,
   "id": "8774d8c1-b2d0-489a-a8dd-b976ab4c72e6",
   "metadata": {},
   "outputs": [
    {
     "data": {
      "image/png": "[encoded data removed]",
      "text/plain": [
       "<Figure size 640x480 with 1 Axes>"
      ]
     },
     "metadata": {},
     "output_type": "display_data"
    }
   ],
   "source": [
    "#Geração Gráfico - Nota - 100 linhas\n",
    "plt.boxplot(df100['nota'])\n",
    "plt.title(\"Boxplot - Nota - 100 Elementos\")\n",
    "plt.show()"
   ]
  }
 ],
 "metadata": {
  "kernelspec": {
   "display_name": "Python ML (venv)",
   "language": "python",
   "name": "machine_learning"
  },
  "language_info": {
   "codemirror_mode": {
    "name": "ipython",
    "version": 3
   },
   "file_extension": ".py",
   "mimetype": "text/x-python",
   "name": "python",
   "nbconvert_exporter": "python",
   "pygments_lexer": "ipython3",
   "version": "3.10.5"
  }
 },
 "nbformat": 4,
 "nbformat_minor": 5
}
