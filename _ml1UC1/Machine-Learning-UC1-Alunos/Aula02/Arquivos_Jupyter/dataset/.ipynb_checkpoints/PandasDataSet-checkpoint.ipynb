{
 "cells": [
  {
   "cell_type": "code",
   "execution_count": 1,
   "id": "64eb4e43-5069-47dd-9c07-ba94eccd481a",
   "metadata": {},
   "outputs": [],
   "source": [
    "import pandas as pd\n",
    "import numpy as np\n",
    "from sklearn.preprocessing import StandardScaler, OneHotEncoder\n",
    "from sklearn.impute import SimpleImputer"
   ]
  },
  {
   "cell_type": "code",
   "execution_count": 2,
   "id": "9d27eafe-5633-4e2d-8cc5-67cf239d0d67",
   "metadata": {},
   "outputs": [
    {
     "name": "stdout",
     "output_type": "stream",
     "text": [
      "   id  idade     renda          cidade categoria  nota feedback\n",
      "0   1   25.0   9508.30  Belo Horizonte         A   2.6  Regular\n",
      "1   2   53.0   2346.15       São Paulo         A   1.6     Ruim\n",
      "2   3   52.0   7578.47         Vitória         B   7.8  Regular\n",
      "3   4   52.0  12940.35       São Paulo         B   9.4  Regular\n",
      "4   5   59.0   4343.05         Vitória         A   3.9     Ruim\n",
      "5   6   50.0   2633.01         Vitória         B   5.0     Ruim\n",
      "6   7   67.0  10292.08  Rio de Janeiro         B   9.2     Ruim\n",
      "7   8   47.0  11543.19       São Paulo         A   6.3     Ruim\n",
      "8   9   33.0   5706.43  Rio de Janeiro         A   9.3     Ruim\n",
      "9  10   60.0   8907.23       São Paulo         A   8.4      Bom\n"
     ]
    }
   ],
   "source": [
    "df = pd.read_csv('dataset_sudeste_simples_realista_outliers-1K.csv')\n",
    "print(df.head(10))"
   ]
  },
  {
   "cell_type": "code",
   "execution_count": 3,
   "id": "e459cc62-64fe-4cef-8864-640716032ef6",
   "metadata": {},
   "outputs": [
    {
     "name": "stdout",
     "output_type": "stream",
     "text": [
      "<class 'pandas.core.frame.DataFrame'>\n",
      "RangeIndex: 1000 entries, 0 to 999\n",
      "Data columns (total 7 columns):\n",
      " #   Column     Non-Null Count  Dtype  \n",
      "---  ------     --------------  -----  \n",
      " 0   id         1000 non-null   int64  \n",
      " 1   idade      991 non-null    float64\n",
      " 2   renda      983 non-null    float64\n",
      " 3   cidade     987 non-null    object \n",
      " 4   categoria  993 non-null    object \n",
      " 5   nota       989 non-null    float64\n",
      " 6   feedback   991 non-null    object \n",
      "dtypes: float64(3), int64(1), object(3)\n",
      "memory usage: 54.8+ KB\n",
      "None\n"
     ]
    }
   ],
   "source": [
    "print(df.info())"
   ]
  },
  {
   "cell_type": "code",
   "execution_count": 4,
   "id": "e7c22257-af29-4a6f-9697-74b50e607747",
   "metadata": {},
   "outputs": [
    {
     "data": {
      "text/html": [
       "<div>\n",
       "<style scoped>\n",
       "    .dataframe tbody tr th:only-of-type {\n",
       "        vertical-align: middle;\n",
       "    }\n",
       "\n",
       "    .dataframe tbody tr th {\n",
       "        vertical-align: top;\n",
       "    }\n",
       "\n",
       "    .dataframe thead th {\n",
       "        text-align: right;\n",
       "    }\n",
       "</style>\n",
       "<table border=\"1\" class=\"dataframe\">\n",
       "  <thead>\n",
       "    <tr style=\"text-align: right;\">\n",
       "      <th></th>\n",
       "      <th>id</th>\n",
       "      <th>idade</th>\n",
       "      <th>renda</th>\n",
       "      <th>nota</th>\n",
       "    </tr>\n",
       "  </thead>\n",
       "  <tbody>\n",
       "    <tr>\n",
       "      <th>count</th>\n",
       "      <td>1000.000000</td>\n",
       "      <td>991.000000</td>\n",
       "      <td>983.000000</td>\n",
       "      <td>989.000000</td>\n",
       "    </tr>\n",
       "    <tr>\n",
       "      <th>mean</th>\n",
       "      <td>500.500000</td>\n",
       "      <td>43.344097</td>\n",
       "      <td>7231.996948</td>\n",
       "      <td>5.012639</td>\n",
       "    </tr>\n",
       "    <tr>\n",
       "      <th>std</th>\n",
       "      <td>288.819436</td>\n",
       "      <td>16.636265</td>\n",
       "      <td>3759.558767</td>\n",
       "      <td>2.967068</td>\n",
       "    </tr>\n",
       "    <tr>\n",
       "      <th>min</th>\n",
       "      <td>1.000000</td>\n",
       "      <td>3.000000</td>\n",
       "      <td>431.210000</td>\n",
       "      <td>-1.400000</td>\n",
       "    </tr>\n",
       "    <tr>\n",
       "      <th>25%</th>\n",
       "      <td>250.750000</td>\n",
       "      <td>28.000000</td>\n",
       "      <td>4154.685000</td>\n",
       "      <td>2.400000</td>\n",
       "    </tr>\n",
       "    <tr>\n",
       "      <th>50%</th>\n",
       "      <td>500.500000</td>\n",
       "      <td>44.000000</td>\n",
       "      <td>7224.560000</td>\n",
       "      <td>5.000000</td>\n",
       "    </tr>\n",
       "    <tr>\n",
       "      <th>75%</th>\n",
       "      <td>750.250000</td>\n",
       "      <td>57.000000</td>\n",
       "      <td>10234.930000</td>\n",
       "      <td>7.500000</td>\n",
       "    </tr>\n",
       "    <tr>\n",
       "      <th>max</th>\n",
       "      <td>1000.000000</td>\n",
       "      <td>112.000000</td>\n",
       "      <td>38099.880000</td>\n",
       "      <td>14.700000</td>\n",
       "    </tr>\n",
       "  </tbody>\n",
       "</table>\n",
       "</div>"
      ],
      "text/plain": [
       "                id       idade         renda        nota\n",
       "count  1000.000000  991.000000    983.000000  989.000000\n",
       "mean    500.500000   43.344097   7231.996948    5.012639\n",
       "std     288.819436   16.636265   3759.558767    2.967068\n",
       "min       1.000000    3.000000    431.210000   -1.400000\n",
       "25%     250.750000   28.000000   4154.685000    2.400000\n",
       "50%     500.500000   44.000000   7224.560000    5.000000\n",
       "75%     750.250000   57.000000  10234.930000    7.500000\n",
       "max    1000.000000  112.000000  38099.880000   14.700000"
      ]
     },
     "execution_count": 4,
     "metadata": {},
     "output_type": "execute_result"
    }
   ],
   "source": [
    "df.describe()"
   ]
  },
  {
   "cell_type": "code",
   "execution_count": 5,
   "id": "34c22acf-8bb8-47d5-b178-ec03ae145a46",
   "metadata": {},
   "outputs": [
    {
     "name": "stdout",
     "output_type": "stream",
     "text": [
      "id            0\n",
      "idade         9\n",
      "renda        17\n",
      "cidade       13\n",
      "categoria     7\n",
      "nota         11\n",
      "feedback      9\n",
      "dtype: int64\n"
     ]
    }
   ],
   "source": [
    "print(df.isnull().sum())"
   ]
  },
  {
   "cell_type": "code",
   "execution_count": 6,
   "id": "b7cef80a-a3c5-4f88-b974-d49d677d506e",
   "metadata": {},
   "outputs": [],
   "source": [
    "imputer_media = SimpleImputer(strategy='mean')\n",
    "df[['idade', 'nota']] = imputer_media.fit_transform(df[['idade', 'nota']])"
   ]
  },
  {
   "cell_type": "code",
   "execution_count": 7,
   "id": "05553728-0e6c-40ae-9b02-8b9fbbbfef4a",
   "metadata": {},
   "outputs": [],
   "source": [
    "imputer_mediana = SimpleImputer(strategy='median')\n",
    "df[['renda']] = imputer_mediana.fit_transform(df[['renda']])"
   ]
  },
  {
   "cell_type": "code",
   "execution_count": 8,
   "id": "9dac7385-9c40-43a9-b13f-4e54e6500284",
   "metadata": {},
   "outputs": [],
   "source": [
    "import seaborn as sns\n",
    "import matplotlib.pyplot as plt"
   ]
  },
  {
   "cell_type": "code",
   "execution_count": 9,
   "id": "9f7496d1-400f-421f-9698-9197fb7569c5",
   "metadata": {},
   "outputs": [
    {
     "data": {
      "image/png": "[encoded data removed]",
      "text/plain": [
       "<Figure size 640x480 with 1 Axes>"
      ]
     },
     "metadata": {},
     "output_type": "display_data"
    }
   ],
   "source": [
    "plt.boxplot(df['nota'])\n",
    "plt.title(\"Boxplot - Nota\")\n",
    "plt.show()"
   ]
  },
  {
   "cell_type": "code",
   "execution_count": 10,
   "id": "a3d9ef1c-d853-46da-9961-10945bf83a1f",
   "metadata": {},
   "outputs": [
    {
     "data": {
      "image/png": "[encoded data removed]",
      "text/plain": [
       "<Figure size 640x480 with 1 Axes>"
      ]
     },
     "metadata": {},
     "output_type": "display_data"
    }
   ],
   "source": [
    "plt.boxplot(df['renda'])\n",
    "plt.title(\"Boxplot - Renda\")\n",
    "plt.show()"
   ]
  },
  {
   "cell_type": "code",
   "execution_count": 11,
   "id": "eb175e68-c8fb-4e62-9024-80ea96b53576",
   "metadata": {},
   "outputs": [
    {
     "data": {
      "image/png": "[encoded data removed]",
      "text/plain": [
       "<Figure size 640x480 with 1 Axes>"
      ]
     },
     "metadata": {},
     "output_type": "display_data"
    }
   ],
   "source": [
    "plt.boxplot(df['idade'])\n",
    "plt.title(\"Boxplot - Idade\")\n",
    "plt.show()"
   ]
  },
  {
   "cell_type": "code",
   "execution_count": 12,
   "id": "3f733aaa-a01b-41e6-8f8e-7b6159efb75d",
   "metadata": {},
   "outputs": [],
   "source": [
    "# Realiza a códificação das coluas\n",
    "#encoder = OneHotEncoder(sparse_output=False, drop='first')  \n",
    "encoder = OneHotEncoder(sparse_output=False)  \n",
    "\n",
    "#categorias_codificadas = encoder.fit_transform(df[['cidade', 'categoria', 'feedback']])\n",
    "categorias_codificadas = encoder.fit_transform(df[['cidade']])\n",
    "\n",
    "# Converter os resultados do encoding para um DataFrame\n",
    "#df_categorias = pd.DataFrame(categorias_codificadas, columns=encoder.get_feature_names_out(['cidade', 'categoria', 'feedback']))\n",
    "df_categorias = pd.DataFrame(categorias_codificadas, columns=encoder.get_feature_names_out(['cidade']))\n",
    "\n",
    "# Resetar o índice do df original e concatenar com as novas colunas\n",
    "df_final = pd.concat([df.reset_index(drop=True), df_categorias], axis=1)\n",
    "\n",
    "# Remover as colunas categóricas originais (sem usar inplace)\n",
    "#df_final = df_final.drop(['cidade', 'categoria', 'feedback'], axis=1)\n",
    "df_final = df_final.drop(['cidade'], axis=1)"
   ]
  },
  {
   "cell_type": "code",
   "execution_count": 13,
   "id": "8578569a-9a2c-42c9-9fdb-e1a0e532af7f",
   "metadata": {},
   "outputs": [
    {
     "name": "stdout",
     "output_type": "stream",
     "text": [
      "   id  idade     renda categoria  nota feedback  cidade_Belo Horizonte  \\\n",
      "0   1   25.0   9508.30         A   2.6  Regular                    1.0   \n",
      "1   2   53.0   2346.15         A   1.6     Ruim                    0.0   \n",
      "2   3   52.0   7578.47         B   7.8  Regular                    0.0   \n",
      "3   4   52.0  12940.35         B   9.4  Regular                    0.0   \n",
      "4   5   59.0   4343.05         A   3.9     Ruim                    0.0   \n",
      "\n",
      "   cidade_Rio de Janeiro  cidade_São Paulo  cidade_Vitória  cidade_nan  \n",
      "0                    0.0               0.0             0.0         0.0  \n",
      "1                    0.0               1.0             0.0         0.0  \n",
      "2                    0.0               0.0             1.0         0.0  \n",
      "3                    0.0               1.0             0.0         0.0  \n",
      "4                    0.0               0.0             1.0         0.0  \n"
     ]
    }
   ],
   "source": [
    "print(df_final.head())"
   ]
  },
  {
   "cell_type": "code",
   "execution_count": 14,
   "id": "798aaaaf-0eab-4586-bf4d-b1a101129990",
   "metadata": {},
   "outputs": [
    {
     "name": "stdout",
     "output_type": "stream",
     "text": [
      "      idade     renda      nota\n",
      "0 -1.108212  0.611029 -0.818062\n",
      "1  0.583337 -1.311402 -1.157136\n",
      "2  0.522924  0.093033  0.945121\n",
      "3  0.522924  1.532244  1.487638\n",
      "4  0.945812 -0.775404 -0.377267\n",
      "5  0.402100 -1.234405 -0.004286\n",
      "6  1.429111  0.821407  1.419824\n",
      "7  0.220862  1.157224  0.436510\n",
      "8 -0.624912 -0.409452  1.453731\n",
      "9  1.006224  0.449692  1.148565\n"
     ]
    }
   ],
   "source": [
    "scaler = StandardScaler()\n",
    "df_final[['idade', 'renda', 'nota']] = scaler.fit_transform(df_final[['idade', 'renda', 'nota']])\n",
    "print(df_final[['idade','renda','nota']].head(10))"
   ]
  },
  {
   "cell_type": "code",
   "execution_count": 15,
   "id": "8764fc4f-521f-4608-8da4-c39cb1e102b6",
   "metadata": {},
   "outputs": [
    {
     "data": {
      "text/html": [
       "<div>\n",
       "<style scoped>\n",
       "    .dataframe tbody tr th:only-of-type {\n",
       "        vertical-align: middle;\n",
       "    }\n",
       "\n",
       "    .dataframe tbody tr th {\n",
       "        vertical-align: top;\n",
       "    }\n",
       "\n",
       "    .dataframe thead th {\n",
       "        text-align: right;\n",
       "    }\n",
       "</style>\n",
       "<table border=\"1\" class=\"dataframe\">\n",
       "  <thead>\n",
       "    <tr style=\"text-align: right;\">\n",
       "      <th></th>\n",
       "      <th>idade</th>\n",
       "      <th>renda</th>\n",
       "      <th>nota</th>\n",
       "    </tr>\n",
       "  </thead>\n",
       "  <tbody>\n",
       "    <tr>\n",
       "      <th>count</th>\n",
       "      <td>1.000000e+03</td>\n",
       "      <td>1.000000e+03</td>\n",
       "      <td>1.000000e+03</td>\n",
       "    </tr>\n",
       "    <tr>\n",
       "      <th>mean</th>\n",
       "      <td>1.643130e-16</td>\n",
       "      <td>-1.048051e-16</td>\n",
       "      <td>-2.859935e-16</td>\n",
       "    </tr>\n",
       "    <tr>\n",
       "      <th>std</th>\n",
       "      <td>1.000500e+00</td>\n",
       "      <td>1.000500e+00</td>\n",
       "      <td>1.000500e+00</td>\n",
       "    </tr>\n",
       "    <tr>\n",
       "      <th>min</th>\n",
       "      <td>-2.437286e+00</td>\n",
       "      <td>-1.825402e+00</td>\n",
       "      <td>-2.174357e+00</td>\n",
       "    </tr>\n",
       "    <tr>\n",
       "      <th>25%</th>\n",
       "      <td>-8.816654e-01</td>\n",
       "      <td>-8.089208e-01</td>\n",
       "      <td>-8.858770e-01</td>\n",
       "    </tr>\n",
       "    <tr>\n",
       "      <th>50%</th>\n",
       "      <td>1.981236e-02</td>\n",
       "      <td>-1.962256e-03</td>\n",
       "      <td>-4.285561e-03</td>\n",
       "    </tr>\n",
       "    <tr>\n",
       "      <th>75%</th>\n",
       "      <td>8.249868e-01</td>\n",
       "      <td>7.989442e-01</td>\n",
       "      <td>8.094911e-01</td>\n",
       "    </tr>\n",
       "    <tr>\n",
       "      <th>max</th>\n",
       "      <td>4.147672e+00</td>\n",
       "      <td>8.285448e+00</td>\n",
       "      <td>3.284728e+00</td>\n",
       "    </tr>\n",
       "  </tbody>\n",
       "</table>\n",
       "</div>"
      ],
      "text/plain": [
       "              idade         renda          nota\n",
       "count  1.000000e+03  1.000000e+03  1.000000e+03\n",
       "mean   1.643130e-16 -1.048051e-16 -2.859935e-16\n",
       "std    1.000500e+00  1.000500e+00  1.000500e+00\n",
       "min   -2.437286e+00 -1.825402e+00 -2.174357e+00\n",
       "25%   -8.816654e-01 -8.089208e-01 -8.858770e-01\n",
       "50%    1.981236e-02 -1.962256e-03 -4.285561e-03\n",
       "75%    8.249868e-01  7.989442e-01  8.094911e-01\n",
       "max    4.147672e+00  8.285448e+00  3.284728e+00"
      ]
     },
     "execution_count": 15,
     "metadata": {},
     "output_type": "execute_result"
    }
   ],
   "source": [
    "df_final[['idade','renda','nota']].describe()"
   ]
  },
  {
   "cell_type": "code",
   "execution_count": 16,
   "id": "3daed944-e040-4250-8359-cee1f6adfa51",
   "metadata": {},
   "outputs": [
    {
     "name": "stdout",
     "output_type": "stream",
     "text": [
      "Arquivo salvo com sucesso para importação no MongoDB Atlas!\n"
     ]
    }
   ],
   "source": [
    "import json\n",
    "\n",
    "# Converter para lista de dicionários (documentos MongoDB)\n",
    "dados_mongo = df_final.to_dict(orient='records')\n",
    "\n",
    "# Salvar como JSON\n",
    "with open('Dataset_Simples_Realista_Fase1.json', 'w', encoding='utf-8') as f:\n",
    "    json.dump(dados_mongo, f, ensure_ascii=False, indent=2)\n",
    "\n",
    "print(\"Arquivo salvo com sucesso para importação no MongoDB Atlas!\")"
   ]
  },
  {
   "cell_type": "code",
   "execution_count": 18,
   "id": "c195112b-6163-40fe-96a3-bbf95a398825",
   "metadata": {},
   "outputs": [],
   "source": [
    "df_final.to_csv('.\\Dataset_Simples_Realista_Fase1.csv', index=False)"
   ]
  },
  {
   "cell_type": "code",
   "execution_count": null,
   "id": "c44f1be4-0c43-4a9a-bc66-93712cf40212",
   "metadata": {},
   "outputs": [],
   "source": [
    "print (f\"Dados de Treino - Features \\n\\n{X_train.head(5)} \\n\\n\\n\")\n",
    "print (f\"Dados de Treino - Targets \\n\\n{y_train.head(5)} \\n\\n\\n\")\n",
    "\n",
    "print (f\"Dados de Teste - Features \\n\\n{X_test.head(5)} \\n\\n\\n\")\n",
    "print (f\"Dados de Teste - Targets \\n\\n{y_test.head(5)} \\n\\n\\n\")"
   ]
  }
 ],
 "metadata": {
  "kernelspec": {
   "display_name": "Python ML (venv)",
   "language": "python",
   "name": "machine_learning"
  },
  "language_info": {
   "codemirror_mode": {
    "name": "ipython",
    "version": 3
   },
   "file_extension": ".py",
   "mimetype": "text/x-python",
   "name": "python",
   "nbconvert_exporter": "python",
   "pygments_lexer": "ipython3",
   "version": "3.10.5"
  }
 },
 "nbformat": 4,
 "nbformat_minor": 5
}
