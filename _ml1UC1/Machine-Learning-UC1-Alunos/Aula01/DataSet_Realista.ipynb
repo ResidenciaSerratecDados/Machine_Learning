{
 "cells": [
  {
   "cell_type": "code",
   "execution_count": 19,
   "id": "807d9bbc-999a-4777-abf7-17e272a7b0fa",
   "metadata": {},
   "outputs": [],
   "source": [
    "#importações das bibliotecas\n",
    "import pandas as pd\n",
    "import numpy as np\n",
    "from sklearn.preprocessing import StandardScaler\n",
    "import json"
   ]
  },
  {
   "cell_type": "code",
   "execution_count": 20,
   "id": "2643dd85-753a-48e0-b361-a3e545fdd693",
   "metadata": {},
   "outputs": [],
   "source": [
    "#Converte planilha CSV para DataFrame\n",
    "df = pd.read_csv(\"dataset_feedback_realista.csv\")"
   ]
  },
  {
   "cell_type": "code",
   "execution_count": 21,
   "id": "d645f87b-c72b-43e3-9698-22b72a69e1ee",
   "metadata": {},
   "outputs": [
    {
     "data": {
      "text/plain": [
       "['id', 'idade', 'renda', 'cidade', 'categoria', 'nota', 'feedback']"
      ]
     },
     "execution_count": 21,
     "metadata": {},
     "output_type": "execute_result"
    }
   ],
   "source": [
    "df.columns.tolist() #listar colunas"
   ]
  },
  {
   "cell_type": "code",
   "execution_count": 22,
   "id": "b2f4802a-0479-4611-9f0a-68a41d95fddd",
   "metadata": {},
   "outputs": [],
   "source": [
    "# Tratamento de NaN(nulos) - converter para 0\n",
    "df['idade'] = df['idade'].fillna(0)\n",
    "df['renda'] = df['renda'].fillna(0)\n",
    "df['cidade'] = df['cidade'].fillna(0)\n",
    "df['categoria'] = df['categoria'].fillna(0)\n",
    "df['nota'] = df['nota'].fillna(0)\n",
    "df['feedback'] = df['feedback'].fillna(0)"
   ]
  },
  {
   "cell_type": "code",
   "execution_count": 23,
   "id": "9645a4b3-cc0a-4d67-9743-d8cc5aaaefc0",
   "metadata": {},
   "outputs": [
    {
     "data": {
      "text/html": [
       "<div>\n",
       "<style scoped>\n",
       "    .dataframe tbody tr th:only-of-type {\n",
       "        vertical-align: middle;\n",
       "    }\n",
       "\n",
       "    .dataframe tbody tr th {\n",
       "        vertical-align: top;\n",
       "    }\n",
       "\n",
       "    .dataframe thead th {\n",
       "        text-align: right;\n",
       "    }\n",
       "</style>\n",
       "<table border=\"1\" class=\"dataframe\">\n",
       "  <thead>\n",
       "    <tr style=\"text-align: right;\">\n",
       "      <th></th>\n",
       "      <th>id</th>\n",
       "      <th>idade</th>\n",
       "      <th>renda</th>\n",
       "      <th>cidade</th>\n",
       "      <th>categoria</th>\n",
       "      <th>nota</th>\n",
       "      <th>feedback</th>\n",
       "    </tr>\n",
       "  </thead>\n",
       "  <tbody>\n",
       "    <tr>\n",
       "      <th>0</th>\n",
       "      <td>1</td>\n",
       "      <td>63.0</td>\n",
       "      <td>7288.84</td>\n",
       "      <td>Natal</td>\n",
       "      <td>B</td>\n",
       "      <td>1.5</td>\n",
       "      <td>Ruim</td>\n",
       "    </tr>\n",
       "    <tr>\n",
       "      <th>1</th>\n",
       "      <td>2</td>\n",
       "      <td>44.0</td>\n",
       "      <td>11775.40</td>\n",
       "      <td>Recife</td>\n",
       "      <td>A</td>\n",
       "      <td>3.8</td>\n",
       "      <td>Ruim</td>\n",
       "    </tr>\n",
       "    <tr>\n",
       "      <th>2</th>\n",
       "      <td>3</td>\n",
       "      <td>17.0</td>\n",
       "      <td>8816.41</td>\n",
       "      <td>Belo Horizonte</td>\n",
       "      <td>A</td>\n",
       "      <td>9.3</td>\n",
       "      <td>Ruim</td>\n",
       "    </tr>\n",
       "    <tr>\n",
       "      <th>3</th>\n",
       "      <td>4</td>\n",
       "      <td>41.0</td>\n",
       "      <td>0.00</td>\n",
       "      <td>Campo Grande</td>\n",
       "      <td>A</td>\n",
       "      <td>9.0</td>\n",
       "      <td>Bom</td>\n",
       "    </tr>\n",
       "    <tr>\n",
       "      <th>4</th>\n",
       "      <td>5</td>\n",
       "      <td>42.0</td>\n",
       "      <td>14643.01</td>\n",
       "      <td>Sao Paulo</td>\n",
       "      <td>B</td>\n",
       "      <td>3.2</td>\n",
       "      <td>Ruim</td>\n",
       "    </tr>\n",
       "    <tr>\n",
       "      <th>...</th>\n",
       "      <td>...</td>\n",
       "      <td>...</td>\n",
       "      <td>...</td>\n",
       "      <td>...</td>\n",
       "      <td>...</td>\n",
       "      <td>...</td>\n",
       "      <td>...</td>\n",
       "    </tr>\n",
       "    <tr>\n",
       "      <th>4995</th>\n",
       "      <td>4996</td>\n",
       "      <td>33.0</td>\n",
       "      <td>9461.43</td>\n",
       "      <td>Brasilia</td>\n",
       "      <td>B</td>\n",
       "      <td>8.7</td>\n",
       "      <td>Regular</td>\n",
       "    </tr>\n",
       "    <tr>\n",
       "      <th>4996</th>\n",
       "      <td>4997</td>\n",
       "      <td>52.0</td>\n",
       "      <td>12607.64</td>\n",
       "      <td>Teresina</td>\n",
       "      <td>B</td>\n",
       "      <td>0.9</td>\n",
       "      <td>Ruim</td>\n",
       "    </tr>\n",
       "    <tr>\n",
       "      <th>4997</th>\n",
       "      <td>4998</td>\n",
       "      <td>0.0</td>\n",
       "      <td>1569.24</td>\n",
       "      <td>Aracaju</td>\n",
       "      <td>B</td>\n",
       "      <td>4.9</td>\n",
       "      <td>Regular</td>\n",
       "    </tr>\n",
       "    <tr>\n",
       "      <th>4998</th>\n",
       "      <td>4999</td>\n",
       "      <td>41.0</td>\n",
       "      <td>10855.27</td>\n",
       "      <td>Joao Pessoa</td>\n",
       "      <td>B</td>\n",
       "      <td>4.6</td>\n",
       "      <td>Regular</td>\n",
       "    </tr>\n",
       "    <tr>\n",
       "      <th>4999</th>\n",
       "      <td>5000</td>\n",
       "      <td>41.0</td>\n",
       "      <td>4972.87</td>\n",
       "      <td>Brasilia</td>\n",
       "      <td>B</td>\n",
       "      <td>0.0</td>\n",
       "      <td>Regular</td>\n",
       "    </tr>\n",
       "  </tbody>\n",
       "</table>\n",
       "<p>5000 rows × 7 columns</p>\n",
       "</div>"
      ],
      "text/plain": [
       "        id  idade     renda          cidade categoria  nota feedback\n",
       "0        1   63.0   7288.84           Natal         B   1.5     Ruim\n",
       "1        2   44.0  11775.40          Recife         A   3.8     Ruim\n",
       "2        3   17.0   8816.41  Belo Horizonte         A   9.3     Ruim\n",
       "3        4   41.0      0.00    Campo Grande         A   9.0      Bom\n",
       "4        5   42.0  14643.01       Sao Paulo         B   3.2     Ruim\n",
       "...    ...    ...       ...             ...       ...   ...      ...\n",
       "4995  4996   33.0   9461.43        Brasilia         B   8.7  Regular\n",
       "4996  4997   52.0  12607.64        Teresina         B   0.9     Ruim\n",
       "4997  4998    0.0   1569.24         Aracaju         B   4.9  Regular\n",
       "4998  4999   41.0  10855.27     Joao Pessoa         B   4.6  Regular\n",
       "4999  5000   41.0   4972.87        Brasilia         B   0.0  Regular\n",
       "\n",
       "[5000 rows x 7 columns]"
      ]
     },
     "metadata": {},
     "output_type": "display_data"
    }
   ],
   "source": [
    "#feedbackisualização de tabela tratada\n",
    "display(df.head(5000))"
   ]
  },
  {
   "cell_type": "code",
   "execution_count": 24,
   "id": "94c9951e-9d87-49e8-ad0a-e8c05f37c82b",
   "metadata": {},
   "outputs": [
    {
     "name": "stdout",
     "output_type": "stream",
     "text": [
      "\n",
      "### Descrição Estatística ###\n",
      "                id        idade         renda        nota\n",
      "count  5000.000000  5000.000000   5000.000000  5000.00000\n",
      "mean   2500.500000    40.575800   7967.585016     4.74174\n",
      "std    1443.520003    18.021954   4290.327357     3.01476\n",
      "min       1.000000     0.000000      0.000000     0.00000\n",
      "25%    1250.750000    27.000000   4400.605000     2.10000\n",
      "50%    2500.500000    41.000000   7970.370000     4.70000\n",
      "75%    3750.250000    56.000000  11651.862500     7.40000\n",
      "max    5000.000000    70.000000  15418.860000    10.00000\n"
     ]
    }
   ],
   "source": [
    "# Média, mínimo, máximo, quartis, margem de erro, contagem\n",
    "print(\"\\n### Descrição Estatística ###\")\n",
    "print(df.describe())"
   ]
  },
  {
   "cell_type": "code",
   "execution_count": 25,
   "id": "4a67bd1c-2333-42d0-8beb-c0aa2c967d16",
   "metadata": {},
   "outputs": [
    {
     "name": "stdout",
     "output_type": "stream",
     "text": [
      "Média de Idade: 41.0\n",
      "Mediana de Idade: 41.0\n",
      "Desvio Padrão de Idade: 18.0\n",
      "Maior Valor de Idade: 70.0\n",
      "Menor Valor de Idade: 0.0\n"
     ]
    }
   ],
   "source": [
    "# Cálculos Estatísticos de idade\n",
    "media_idade = sum(df['idade'])/len(df['idade'])\n",
    "mediana_idade = df['idade'].median()\n",
    "desvio_padrao_idade = df['idade'].std()\n",
    "maximo_idade = df['idade'].max()\n",
    "minimo_idade = df['idade'].min()\n",
    "\n",
    "print('Média de Idade:',round(media_idade,0))\n",
    "print('Mediana de Idade:',round(mediana_idade,0))\n",
    "print('Desvio Padrão de Idade:',round(desvio_padrao_idade,0))\n",
    "print('Maior Valor de Idade:',round(maximo_idade,0))\n",
    "print('Menor Valor de Idade:',round(minimo_idade,0))"
   ]
  },
  {
   "cell_type": "code",
   "execution_count": 26,
   "id": "a57c69c5-34ea-4cc3-ae39-8b8b167e1441",
   "metadata": {},
   "outputs": [
    {
     "name": "stdout",
     "output_type": "stream",
     "text": [
      "Média de Renda: R$ 7967.59\n",
      "Mediana de Renda: R$ 7970.37\n",
      "Desvio Padrão de Renda: R$ 4290.33\n",
      "Maior Valor de Venda de Renda: R$ 15418.86\n",
      "Menor Valor de Venda de Renda: R$ 0.0\n"
     ]
    }
   ],
   "source": [
    "# Cálculos Estatísticos de renda\n",
    "media_renda = sum(df['renda'])/len(df['renda'])\n",
    "mediana_renda = df['renda'].median()\n",
    "desvio_padrao_renda = df['renda'].std()\n",
    "maximo_renda = df['renda'].max()\n",
    "minimo_renda = df['renda'].min()\n",
    "\n",
    "print('Média de Renda: R$',round(media_renda,2))\n",
    "print('Mediana de Renda: R$',round(mediana_renda,2))\n",
    "print('Desvio Padrão de Renda: R$',round(desvio_padrao_renda,2))\n",
    "print('Maior Valor de Venda de Renda: R$',round(maximo_renda,2))\n",
    "print('Menor Valor de Venda de Renda: R$',round(minimo_renda,2))"
   ]
  },
  {
   "cell_type": "code",
   "execution_count": 27,
   "id": "3b98b4a6-5a85-4b00-88ca-59d8a6c85d14",
   "metadata": {},
   "outputs": [
    {
     "name": "stdout",
     "output_type": "stream",
     "text": [
      "Média de Nota: 4.7\n",
      "Mediana de Nota: 4.7\n",
      "Desvio Padrão de Nota: 3.0\n",
      "Maior Valor de Nota: 10.0\n",
      "Menor Valor de  Nota: 0.0\n"
     ]
    }
   ],
   "source": [
    "# Cálculos Estatísticos de nota\n",
    "media_nota = sum(df['nota'])/len(df['nota'])\n",
    "mediana_nota = df['nota'].median()\n",
    "desvio_padrao_nota = df['nota'].std()\n",
    "maximo_nota = df['nota'].max()\n",
    "minimo_nota = df['nota'].min()\n",
    "\n",
    "print('Média de Nota:',round(media_nota,1))\n",
    "print('Mediana de Nota:',round(mediana_nota,1))\n",
    "print('Desvio Padrão de Nota:',round(desvio_padrao_nota,1))\n",
    "print('Maior Valor de Nota:',round(maximo_nota,1))\n",
    "print('Menor Valor de  Nota:',round(minimo_nota,1))"
   ]
  },
  {
   "cell_type": "code",
   "execution_count": 28,
   "id": "f48b6acd-2605-4785-ab0e-f09cf86910f9",
   "metadata": {},
   "outputs": [],
   "source": [
    "#Calculando o IQR e identificando os limites"
   ]
  },
  {
   "cell_type": "code",
   "execution_count": 29,
   "id": "0af20713-164c-48e2-8873-957ccadfd1a1",
   "metadata": {},
   "outputs": [
    {
     "name": "stdout",
     "output_type": "stream",
     "text": [
      "\n",
      "\n",
      "\t IQR - Campo Renda\n",
      "\n",
      "\n",
      "Quartis -> Q1:  4400.60  ->  Q3: 11651.86\n",
      "IQR ----- 7251.2575\n",
      "Limites - Inf: -6476.28  -> Sup: 22528.75\n",
      "\n",
      "\n",
      "\n"
     ]
    }
   ],
   "source": [
    "Q1_renda = df['renda'].quantile(0.25)\n",
    "Q3_renda = df['renda'].quantile(0.75)\n",
    "IQR_renda = Q3_renda - Q1_renda\n",
    "limite_inferior_renda = Q1_renda - 1.5 * IQR_renda\n",
    "limite_superior_renda = Q3_renda + 1.5 * IQR_renda\n",
    "\n",
    "print (f\"\\n\\n\\t IQR - Campo Renda\\n\\n\")\n",
    "print(f\"Quartis -> Q1: {Q1_renda:-8.2f}  ->  Q3: {Q3_renda:-8.2f}\")\n",
    "print(f\"IQR ----- {IQR_renda}\")\n",
    "print(f\"Limites - Inf: {limite_inferior_renda:-8.2f}  -> Sup: {limite_superior_renda:-8.2f}\")\n",
    "print(f\"\\n\\n\")"
   ]
  },
  {
   "cell_type": "code",
   "execution_count": 30,
   "id": "eb5ebbeb-ef98-40cc-85e7-7de34e5b8a1a",
   "metadata": {},
   "outputs": [
    {
     "name": "stdout",
     "output_type": "stream",
     "text": [
      "\n",
      "\n",
      "\t IQR - Campo Idade\n",
      "\n",
      "\n",
      "Quartis -> Q1:    27.00  ->  Q3:    56.00\n",
      "IQR ----- 29.0\n",
      "Limites - Inf:   -16.50  -> Sup:    99.50\n",
      "\n",
      "\n",
      "\n"
     ]
    }
   ],
   "source": [
    "Q1_idade = df['idade'].quantile(0.25)\n",
    "Q3_idade = df['idade'].quantile(0.75)\n",
    "IQR_idade = Q3_idade - Q1_idade\n",
    "limite_inferior_idade = Q1_idade - 1.5 * IQR_idade\n",
    "limite_superior_idade = Q3_idade + 1.5 * IQR_idade\n",
    "\n",
    "print (f\"\\n\\n\\t IQR - Campo Idade\\n\\n\")\n",
    "print(f\"Quartis -> Q1: {Q1_idade:-8.2f}  ->  Q3: {Q3_idade:-8.2f}\")\n",
    "print(f\"IQR ----- {IQR_idade}\")\n",
    "print(f\"Limites - Inf: {limite_inferior_idade:-8.2f}  -> Sup: {limite_superior_idade:-8.2f}\")\n",
    "print(f\"\\n\\n\")"
   ]
  },
  {
   "cell_type": "code",
   "execution_count": 31,
   "id": "51760fba-bc86-4919-a81f-fb073309c34d",
   "metadata": {},
   "outputs": [
    {
     "name": "stdout",
     "output_type": "stream",
     "text": [
      "\n",
      "\n",
      "\t IQR - Campo Nota\n",
      "\n",
      "\n",
      "Quartis -> Q1:     2.10  ->  Q3:     7.40\n",
      "IQR ----- 5.300000000000001\n",
      "Limites - Inf:    -5.85  -> Sup:    -5.85\n",
      "\n",
      "\n",
      "\n"
     ]
    }
   ],
   "source": [
    "Q1_nota = df['nota'].quantile(0.25)\n",
    "Q3_nota = df['nota'].quantile(0.75)\n",
    "IQR_nota = Q3_nota - Q1_nota\n",
    "limite_inferior_nota = Q1_nota - 1.5 * IQR_nota\n",
    "limite_superior_nota = Q3_nota + 1.5 * IQR_nota\n",
    "\n",
    "print (f\"\\n\\n\\t IQR - Campo Nota\\n\\n\")\n",
    "print(f\"Quartis -> Q1: {Q1_nota:-8.2f}  ->  Q3: {Q3_nota:-8.2f}\")\n",
    "print(f\"IQR ----- {IQR_nota}\")\n",
    "print(f\"Limites - Inf: {limite_inferior_nota:-8.2f}  -> Sup: {limite_inferior_nota:-8.2f}\")\n",
    "print(f\"\\n\\n\")"
   ]
  },
  {
   "cell_type": "code",
   "execution_count": 32,
   "id": "4462ce99-5d47-422a-b3de-caabc39fa5c6",
   "metadata": {},
   "outputs": [],
   "source": [
    "# Criação de Outliers"
   ]
  },
  {
   "cell_type": "code",
   "execution_count": 33,
   "id": "9c44008e-c725-4fc4-8fb3-b5cee08442c4",
   "metadata": {},
   "outputs": [
    {
     "name": "stdout",
     "output_type": "stream",
     "text": [
      "\n",
      "### Possíveis Outliers em 'renda' ###\n",
      "\n",
      "Empty DataFrame\n",
      "Columns: [id, idade, renda, cidade, categoria, nota, feedback]\n",
      "Index: []\n",
      "\n"
     ]
    }
   ],
   "source": [
    "outliers_renda = df[(df['renda'] < limite_inferior_renda) | (df['renda'] > limite_superior_renda)]\n",
    "print(f\"\\n### Possíveis Outliers em 'renda' ###\\n\\n{outliers_renda}\\n\")"
   ]
  },
  {
   "cell_type": "code",
   "execution_count": 34,
   "id": "045af697-dea5-4552-8b72-42b6a4144bca",
   "metadata": {},
   "outputs": [
    {
     "name": "stdout",
     "output_type": "stream",
     "text": [
      "\n",
      "### Possíveis Outliers em 'idade' ###\n",
      "\n",
      "Empty DataFrame\n",
      "Columns: [id, idade, renda, cidade, categoria, nota, feedback]\n",
      "Index: []\n",
      "\n"
     ]
    }
   ],
   "source": [
    "outliers_idade = df[(df['idade'] < limite_inferior_idade) | (df['idade'] > limite_superior_idade)]\n",
    "print(f\"\\n### Possíveis Outliers em 'idade' ###\\n\\n{outliers_idade}\\n\")"
   ]
  },
  {
   "cell_type": "code",
   "execution_count": 35,
   "id": "a6766be2-cd90-4852-8bcf-ff62270b500c",
   "metadata": {},
   "outputs": [
    {
     "name": "stdout",
     "output_type": "stream",
     "text": [
      "\n",
      "### Possíveis Outliers em 'nota' ###\n",
      "\n",
      "Empty DataFrame\n",
      "Columns: [id, idade, renda, cidade, categoria, nota, feedback]\n",
      "Index: []\n",
      "\n"
     ]
    }
   ],
   "source": [
    "outliers_nota = df[(df['nota'] < limite_inferior_nota) | (df['nota'] > limite_superior_nota)]\n",
    "print(f\"\\n### Possíveis Outliers em 'nota' ###\\n\\n{outliers_nota}\\n\")"
   ]
  },
  {
   "cell_type": "code",
   "execution_count": 37,
   "id": "e8b0fc24-c495-4906-ab0a-dd82a034e072",
   "metadata": {},
   "outputs": [],
   "source": [
    "#Conversão da planilha tratada para csv e compactada\n",
    "df.to_csv('Realista5000_Tratado_Compactado.csv.gz', compression='gzip', index=False)\n",
    "df.to_csv('Realista5000_Tratado.csv', index=False)"
   ]
  },
  {
   "cell_type": "code",
   "execution_count": 38,
   "id": "75111960-2374-4457-970b-aa16611f5207",
   "metadata": {},
   "outputs": [
    {
     "name": "stdout",
     "output_type": "stream",
     "text": [
      "Arquivo salvo com sucesso para importação no MongoDB Atlas!\n"
     ]
    }
   ],
   "source": [
    "# Converter para lista de dicionários (documentos MongoDB)\n",
    "dados_mongo = df.to_dict(orient='records')\n",
    "\n",
    "# Salvar como JSON\n",
    "with open('dados_mongo_Realista5000.json', 'w', encoding='utf-8') as f:\n",
    "    json.dump(dados_mongo, f, ensure_ascii=False, indent=2)\n",
    "\n",
    "print(\"Arquivo salvo com sucesso para importação no MongoDB Atlas!\")"
   ]
  },
  {
   "cell_type": "code",
   "execution_count": 39,
   "id": "23f0f293-e280-484e-93fc-962eb5ed02f4",
   "metadata": {},
   "outputs": [
    {
     "name": "stdout",
     "output_type": "stream",
     "text": [
      "Arquivo salvo com sucesso para importação no MongoDB Atlas sem ID!\n"
     ]
    }
   ],
   "source": [
    "# Converter para Mongo JSON sem ID\n",
    "dados_mongo_v2 = [\n",
    "    {chave: valor for chave, valor in documento.items() if chave != 'id'} \n",
    "    for documento in df.to_dict(orient='records')\n",
    "]\n",
    "with open('dados_mongo_Realista5000_sem_id.json', 'w', encoding='utf-8') as f:\n",
    "    json.dump(dados_mongo_v2, f, ensure_ascii=False, indent=2)\n",
    "\n",
    "print(\"Arquivo salvo com sucesso para importação no MongoDB Atlas sem ID!\")"
   ]
  },
  {
   "cell_type": "code",
   "execution_count": 40,
   "id": "f63b4be7-419a-4639-8186-959664f80d9d",
   "metadata": {},
   "outputs": [],
   "source": [
    "#Conversão para planilha do Excell XLSX\n",
    "with pd.ExcelWriter('dados_completos_Realista5000.xlsx') as writer:\n",
    "    df.to_excel(writer, sheet_name='Dados_Originais', index=False)          \n",
    "    df.to_excel(writer, sheet_name='Dados_Codificados', index=False)"
   ]
  }
 ],
 "metadata": {
  "kernelspec": {
   "display_name": "Python 3 (ipykernel)",
   "language": "python",
   "name": "python3"
  },
  "language_info": {
   "codemirror_mode": {
    "name": "ipython",
    "version": 3
   },
   "file_extension": ".py",
   "mimetype": "text/x-python",
   "name": "python",
   "nbconvert_exporter": "python",
   "pygments_lexer": "ipython3",
   "version": "3.10.4"
  }
 },
 "nbformat": 4,
 "nbformat_minor": 5
}
