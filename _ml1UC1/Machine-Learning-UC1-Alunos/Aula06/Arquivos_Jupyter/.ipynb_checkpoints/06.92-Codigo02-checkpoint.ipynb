{
 "cells": [
  {
   "cell_type": "markdown",
   "id": "4052808e",
   "metadata": {},
   "source": [
    "# Regressão Linear com Scikit-learn"
   ]
  },
  {
   "cell_type": "markdown",
   "id": "47f3c819",
   "metadata": {},
   "source": [
    "## **Objetivo da Aula**"
   ]
  },
  {
   "cell_type": "markdown",
   "id": "ab8b5ebe",
   "metadata": {},
   "source": [
    "- Nesta aula, aprenderemos os conceitos e etapas envolvidas na criação de um modelo de **Regressão Linear** utilizando a biblioteca `scikit-learn` em Python. "
   ]
  },
  {
   "cell_type": "markdown",
   "id": "b791f84f",
   "metadata": {},
   "source": [
    "## **O que é Regressão Linear?**"
   ]
  },
  {
   "cell_type": "markdown",
   "id": "d59aa5dd",
   "metadata": {},
   "source": [
    "- A **regressão linear** é uma técnica estatística usada para modelar a relação entre uma variável dependente (alvo ou *target*) e uma ou mais variáveis independentes (características ou *features*). \n",
    "- Neste exemplo, estamos usando regressão linear simples, onde há apenas uma variável independente."
   ]
  },
  {
   "cell_type": "markdown",
   "id": "80969bdb",
   "metadata": {},
   "source": [
    "### Equação da Regressão Linear Simples:\n",
    "$$\n",
    "y = a \\cdot x + b\n",
    "$$\n",
    "- $ y $: valor previsto (target)\n",
    "- $ x $: feature de entrada\n",
    "- $ a $: coeficiente angular (inclinação da reta)\n",
    "- $ b $: intercepto (valor de y quando x=0)"
   ]
  },
  {
   "cell_type": "markdown",
   "id": "83779d69",
   "metadata": {},
   "source": [
    "## **Exemplo Prático**"
   ]
  },
  {
   "cell_type": "markdown",
   "id": "eae33e62",
   "metadata": {},
   "source": [
    "### **1. Carregando as bibliotecas**"
   ]
  },
  {
   "cell_type": "code",
   "execution_count": 51,
   "id": "84580065",
   "metadata": {},
   "outputs": [],
   "source": [
    "import numpy as np\n",
    "import matplotlib.pyplot as plt \n",
    "from sklearn.model_selection import train_test_split\n",
    "from sklearn.linear_model import LinearRegression\n",
    "from sklearn.metrics import mean_squared_error\n",
    "import pandas as pd"
   ]
  },
  {
   "cell_type": "markdown",
   "id": "7032f821",
   "metadata": {},
   "source": [
    "### **2. Preparação dos Dados**"
   ]
  },
  {
   "cell_type": "markdown",
   "id": "ed58379e",
   "metadata": {},
   "source": [
    "- No código, criamos dados sintéticos para simular uma relação linear perfeita:"
   ]
  },
  {
   "cell_type": "code",
   "execution_count": 52,
   "id": "7f1e2fb1",
   "metadata": {},
   "outputs": [],
   "source": [
    "X_reg = np.array([[i] for i in range(1,121)])  # feature shape (10,1)\n",
    "y_reg = np.array([5*i + 11 for i in range(1,11)])  # target"
   ]
  },
  {
   "cell_type": "markdown",
   "id": "248059b8",
   "metadata": {},
   "source": [
    "**Explicação:**\n",
    "- `X_reg`: Matriz de características (número de observações × número de features). Aqui temos 10 observações e 1 feature.\n",
    "- `y_reg`: Vetor contendo os valores alvo, calculado pela fórmula $ y = 2x + 1 $\n",
    "\n",
    "> ⚠️ Importante: No mundo real, os dados não são perfeitamente lineares, mas este exemplo facilita a compreensão do modelo"
   ]
  },
  {
   "cell_type": "code",
   "execution_count": 53,
   "id": "acc4637a",
   "metadata": {},
   "outputs": [
    {
     "name": "stdout",
     "output_type": "stream",
     "text": [
      "[[  1]\n",
      " [  2]\n",
      " [  3]\n",
      " [  4]\n",
      " [  5]\n",
      " [  6]\n",
      " [  7]\n",
      " [  8]\n",
      " [  9]\n",
      " [ 10]\n",
      " [ 11]\n",
      " [ 12]\n",
      " [ 13]\n",
      " [ 14]\n",
      " [ 15]\n",
      " [ 16]\n",
      " [ 17]\n",
      " [ 18]\n",
      " [ 19]\n",
      " [ 20]\n",
      " [ 21]\n",
      " [ 22]\n",
      " [ 23]\n",
      " [ 24]\n",
      " [ 25]\n",
      " [ 26]\n",
      " [ 27]\n",
      " [ 28]\n",
      " [ 29]\n",
      " [ 30]\n",
      " [ 31]\n",
      " [ 32]\n",
      " [ 33]\n",
      " [ 34]\n",
      " [ 35]\n",
      " [ 36]\n",
      " [ 37]\n",
      " [ 38]\n",
      " [ 39]\n",
      " [ 40]\n",
      " [ 41]\n",
      " [ 42]\n",
      " [ 43]\n",
      " [ 44]\n",
      " [ 45]\n",
      " [ 46]\n",
      " [ 47]\n",
      " [ 48]\n",
      " [ 49]\n",
      " [ 50]\n",
      " [ 51]\n",
      " [ 52]\n",
      " [ 53]\n",
      " [ 54]\n",
      " [ 55]\n",
      " [ 56]\n",
      " [ 57]\n",
      " [ 58]\n",
      " [ 59]\n",
      " [ 60]\n",
      " [ 61]\n",
      " [ 62]\n",
      " [ 63]\n",
      " [ 64]\n",
      " [ 65]\n",
      " [ 66]\n",
      " [ 67]\n",
      " [ 68]\n",
      " [ 69]\n",
      " [ 70]\n",
      " [ 71]\n",
      " [ 72]\n",
      " [ 73]\n",
      " [ 74]\n",
      " [ 75]\n",
      " [ 76]\n",
      " [ 77]\n",
      " [ 78]\n",
      " [ 79]\n",
      " [ 80]\n",
      " [ 81]\n",
      " [ 82]\n",
      " [ 83]\n",
      " [ 84]\n",
      " [ 85]\n",
      " [ 86]\n",
      " [ 87]\n",
      " [ 88]\n",
      " [ 89]\n",
      " [ 90]\n",
      " [ 91]\n",
      " [ 92]\n",
      " [ 93]\n",
      " [ 94]\n",
      " [ 95]\n",
      " [ 96]\n",
      " [ 97]\n",
      " [ 98]\n",
      " [ 99]\n",
      " [100]\n",
      " [101]\n",
      " [102]\n",
      " [103]\n",
      " [104]\n",
      " [105]\n",
      " [106]\n",
      " [107]\n",
      " [108]\n",
      " [109]\n",
      " [110]\n",
      " [111]\n",
      " [112]\n",
      " [113]\n",
      " [114]\n",
      " [115]\n",
      " [116]\n",
      " [117]\n",
      " [118]\n",
      " [119]\n",
      " [120]]\n"
     ]
    }
   ],
   "source": [
    "print (X_reg)"
   ]
  },
  {
   "cell_type": "code",
   "execution_count": 54,
   "id": "0e3a89f6",
   "metadata": {},
   "outputs": [
    {
     "name": "stdout",
     "output_type": "stream",
     "text": [
      "[16 21 26 31 36 41 46 51 56 61]\n"
     ]
    }
   ],
   "source": [
    "print (y_reg)"
   ]
  },
  {
   "cell_type": "markdown",
   "id": "d3927d79",
   "metadata": {},
   "source": [
    "### **3. Divisão entre Treino e Teste**"
   ]
  },
  {
   "cell_type": "markdown",
   "id": "536effdf",
   "metadata": {},
   "source": [
    "- Para avaliar o desempenho do modelo, dividimos os dados em conjuntos de treino e teste:"
   ]
  },
  {
   "cell_type": "code",
   "execution_count": 55,
   "id": "31205de5",
   "metadata": {},
   "outputs": [
    {
     "ename": "ValueError",
     "evalue": "Found input variables with inconsistent numbers of samples: [120, 10]",
     "output_type": "error",
     "traceback": [
      "\u001b[1;31m---------------------------------------------------------------------------\u001b[0m",
      "\u001b[1;31mValueError\u001b[0m                                Traceback (most recent call last)",
      "Cell \u001b[1;32mIn[55], line 1\u001b[0m\n\u001b[1;32m----> 1\u001b[0m X_train, X_test, y_train, y_test \u001b[38;5;241m=\u001b[39m \u001b[43mtrain_test_split\u001b[49m\u001b[43m(\u001b[49m\n\u001b[0;32m      2\u001b[0m \u001b[43m    \u001b[49m\u001b[43mX_reg\u001b[49m\u001b[43m,\u001b[49m\u001b[43m \u001b[49m\u001b[43my_reg\u001b[49m\u001b[43m,\u001b[49m\u001b[43m \u001b[49m\u001b[43mtest_size\u001b[49m\u001b[38;5;241;43m=\u001b[39;49m\u001b[38;5;241;43m0.3\u001b[39;49m\u001b[43m,\u001b[49m\u001b[43m \u001b[49m\u001b[43mrandom_state\u001b[49m\u001b[38;5;241;43m=\u001b[39;49m\u001b[38;5;241;43m0\u001b[39;49m\n\u001b[0;32m      3\u001b[0m \u001b[43m)\u001b[49m\n",
      "File \u001b[1;32mC:\\Analise_Dados_Python\\_m1Uc1\\m1Env\\lib\\site-packages\\sklearn\\utils\\_param_validation.py:218\u001b[0m, in \u001b[0;36mvalidate_params.<locals>.decorator.<locals>.wrapper\u001b[1;34m(*args, **kwargs)\u001b[0m\n\u001b[0;32m    212\u001b[0m \u001b[38;5;28;01mtry\u001b[39;00m:\n\u001b[0;32m    213\u001b[0m     \u001b[38;5;28;01mwith\u001b[39;00m config_context(\n\u001b[0;32m    214\u001b[0m         skip_parameter_validation\u001b[38;5;241m=\u001b[39m(\n\u001b[0;32m    215\u001b[0m             prefer_skip_nested_validation \u001b[38;5;129;01mor\u001b[39;00m global_skip_validation\n\u001b[0;32m    216\u001b[0m         )\n\u001b[0;32m    217\u001b[0m     ):\n\u001b[1;32m--> 218\u001b[0m         \u001b[38;5;28;01mreturn\u001b[39;00m func(\u001b[38;5;241m*\u001b[39margs, \u001b[38;5;241m*\u001b[39m\u001b[38;5;241m*\u001b[39mkwargs)\n\u001b[0;32m    219\u001b[0m \u001b[38;5;28;01mexcept\u001b[39;00m InvalidParameterError \u001b[38;5;28;01mas\u001b[39;00m e:\n\u001b[0;32m    220\u001b[0m     \u001b[38;5;66;03m# When the function is just a wrapper around an estimator, we allow\u001b[39;00m\n\u001b[0;32m    221\u001b[0m     \u001b[38;5;66;03m# the function to delegate validation to the estimator, but we replace\u001b[39;00m\n\u001b[0;32m    222\u001b[0m     \u001b[38;5;66;03m# the name of the estimator by the name of the function in the error\u001b[39;00m\n\u001b[0;32m    223\u001b[0m     \u001b[38;5;66;03m# message to avoid confusion.\u001b[39;00m\n\u001b[0;32m    224\u001b[0m     msg \u001b[38;5;241m=\u001b[39m re\u001b[38;5;241m.\u001b[39msub(\n\u001b[0;32m    225\u001b[0m         \u001b[38;5;124mr\u001b[39m\u001b[38;5;124m\"\u001b[39m\u001b[38;5;124mparameter of \u001b[39m\u001b[38;5;124m\\\u001b[39m\u001b[38;5;124mw+ must be\u001b[39m\u001b[38;5;124m\"\u001b[39m,\n\u001b[0;32m    226\u001b[0m         \u001b[38;5;124mf\u001b[39m\u001b[38;5;124m\"\u001b[39m\u001b[38;5;124mparameter of \u001b[39m\u001b[38;5;132;01m{\u001b[39;00mfunc\u001b[38;5;241m.\u001b[39m\u001b[38;5;18m__qualname__\u001b[39m\u001b[38;5;132;01m}\u001b[39;00m\u001b[38;5;124m must be\u001b[39m\u001b[38;5;124m\"\u001b[39m,\n\u001b[0;32m    227\u001b[0m         \u001b[38;5;28mstr\u001b[39m(e),\n\u001b[0;32m    228\u001b[0m     )\n",
      "File \u001b[1;32mC:\\Analise_Dados_Python\\_m1Uc1\\m1Env\\lib\\site-packages\\sklearn\\model_selection\\_split.py:2916\u001b[0m, in \u001b[0;36mtrain_test_split\u001b[1;34m(test_size, train_size, random_state, shuffle, stratify, *arrays)\u001b[0m\n\u001b[0;32m   2913\u001b[0m \u001b[38;5;28;01mif\u001b[39;00m n_arrays \u001b[38;5;241m==\u001b[39m \u001b[38;5;241m0\u001b[39m:\n\u001b[0;32m   2914\u001b[0m     \u001b[38;5;28;01mraise\u001b[39;00m \u001b[38;5;167;01mValueError\u001b[39;00m(\u001b[38;5;124m\"\u001b[39m\u001b[38;5;124mAt least one array required as input\u001b[39m\u001b[38;5;124m\"\u001b[39m)\n\u001b[1;32m-> 2916\u001b[0m arrays \u001b[38;5;241m=\u001b[39m \u001b[43mindexable\u001b[49m\u001b[43m(\u001b[49m\u001b[38;5;241;43m*\u001b[39;49m\u001b[43marrays\u001b[49m\u001b[43m)\u001b[49m\n\u001b[0;32m   2918\u001b[0m n_samples \u001b[38;5;241m=\u001b[39m _num_samples(arrays[\u001b[38;5;241m0\u001b[39m])\n\u001b[0;32m   2919\u001b[0m n_train, n_test \u001b[38;5;241m=\u001b[39m _validate_shuffle_split(\n\u001b[0;32m   2920\u001b[0m     n_samples, test_size, train_size, default_test_size\u001b[38;5;241m=\u001b[39m\u001b[38;5;241m0.25\u001b[39m\n\u001b[0;32m   2921\u001b[0m )\n",
      "File \u001b[1;32mC:\\Analise_Dados_Python\\_m1Uc1\\m1Env\\lib\\site-packages\\sklearn\\utils\\validation.py:530\u001b[0m, in \u001b[0;36mindexable\u001b[1;34m(*iterables)\u001b[0m\n\u001b[0;32m    500\u001b[0m \u001b[38;5;250m\u001b[39m\u001b[38;5;124;03m\"\"\"Make arrays indexable for cross-validation.\u001b[39;00m\n\u001b[0;32m    501\u001b[0m \n\u001b[0;32m    502\u001b[0m \u001b[38;5;124;03mChecks consistent length, passes through None, and ensures that everything\u001b[39;00m\n\u001b[1;32m   (...)\u001b[0m\n\u001b[0;32m    526\u001b[0m \u001b[38;5;124;03m[[1, 2, 3], array([2, 3, 4]), None, <...Sparse...dtype 'int64'...shape (3, 1)>]\u001b[39;00m\n\u001b[0;32m    527\u001b[0m \u001b[38;5;124;03m\"\"\"\u001b[39;00m\n\u001b[0;32m    529\u001b[0m result \u001b[38;5;241m=\u001b[39m [_make_indexable(X) \u001b[38;5;28;01mfor\u001b[39;00m X \u001b[38;5;129;01min\u001b[39;00m iterables]\n\u001b[1;32m--> 530\u001b[0m \u001b[43mcheck_consistent_length\u001b[49m\u001b[43m(\u001b[49m\u001b[38;5;241;43m*\u001b[39;49m\u001b[43mresult\u001b[49m\u001b[43m)\u001b[49m\n\u001b[0;32m    531\u001b[0m \u001b[38;5;28;01mreturn\u001b[39;00m result\n",
      "File \u001b[1;32mC:\\Analise_Dados_Python\\_m1Uc1\\m1Env\\lib\\site-packages\\sklearn\\utils\\validation.py:473\u001b[0m, in \u001b[0;36mcheck_consistent_length\u001b[1;34m(*arrays)\u001b[0m\n\u001b[0;32m    471\u001b[0m lengths \u001b[38;5;241m=\u001b[39m [_num_samples(X) \u001b[38;5;28;01mfor\u001b[39;00m X \u001b[38;5;129;01min\u001b[39;00m arrays \u001b[38;5;28;01mif\u001b[39;00m X \u001b[38;5;129;01mis\u001b[39;00m \u001b[38;5;129;01mnot\u001b[39;00m \u001b[38;5;28;01mNone\u001b[39;00m]\n\u001b[0;32m    472\u001b[0m \u001b[38;5;28;01mif\u001b[39;00m \u001b[38;5;28mlen\u001b[39m(\u001b[38;5;28mset\u001b[39m(lengths)) \u001b[38;5;241m>\u001b[39m \u001b[38;5;241m1\u001b[39m:\n\u001b[1;32m--> 473\u001b[0m     \u001b[38;5;28;01mraise\u001b[39;00m \u001b[38;5;167;01mValueError\u001b[39;00m(\n\u001b[0;32m    474\u001b[0m         \u001b[38;5;124m\"\u001b[39m\u001b[38;5;124mFound input variables with inconsistent numbers of samples: \u001b[39m\u001b[38;5;132;01m%r\u001b[39;00m\u001b[38;5;124m\"\u001b[39m\n\u001b[0;32m    475\u001b[0m         \u001b[38;5;241m%\u001b[39m [\u001b[38;5;28mint\u001b[39m(l) \u001b[38;5;28;01mfor\u001b[39;00m l \u001b[38;5;129;01min\u001b[39;00m lengths]\n\u001b[0;32m    476\u001b[0m     )\n",
      "\u001b[1;31mValueError\u001b[0m: Found input variables with inconsistent numbers of samples: [120, 10]"
     ]
    }
   ],
   "source": [
    "X_train, X_test, y_train, y_test = train_test_split(\n",
    "    X_reg, y_reg, test_size=0.3, random_state=0\n",
    ")"
   ]
  },
  {
   "cell_type": "markdown",
   "id": "a855232d",
   "metadata": {},
   "source": [
    "**Parâmetros:**\n",
    "- `test_size=0.3`: 30% dos dados serão usados para teste, 70% para treino.\n",
    "- `random_state=0`: Garante reprodutibilidade da divisão aleatória.\n",
    "\n",
    "**Resultado:**\n",
    "- `X_train`, `y_train`: dados usados para treinar o modelo\n",
    "- `X_test`, `y_test`: dados usados para avaliar o modelo"
   ]
  },
  {
   "cell_type": "markdown",
   "id": "4e059d42",
   "metadata": {},
   "source": [
    "### **4. Criação e Treinamento do Modelo**"
   ]
  },
  {
   "cell_type": "markdown",
   "id": "fbcbd487",
   "metadata": {},
   "source": [
    "- Criamos e treinamos o modelo de regressão linear:"
   ]
  },
  {
   "cell_type": "code",
   "execution_count": 56,
   "id": "89f03af6",
   "metadata": {},
   "outputs": [
    {
     "ename": "NameError",
     "evalue": "name 'X_train' is not defined",
     "output_type": "error",
     "traceback": [
      "\u001b[1;31m---------------------------------------------------------------------------\u001b[0m",
      "\u001b[1;31mNameError\u001b[0m                                 Traceback (most recent call last)",
      "Cell \u001b[1;32mIn[56], line 2\u001b[0m\n\u001b[0;32m      1\u001b[0m model_reg \u001b[38;5;241m=\u001b[39m LinearRegression()\n\u001b[1;32m----> 2\u001b[0m model_reg\u001b[38;5;241m.\u001b[39mfit(\u001b[43mX_train\u001b[49m, y_train)\n",
      "\u001b[1;31mNameError\u001b[0m: name 'X_train' is not defined"
     ]
    }
   ],
   "source": [
    "model_reg = LinearRegression()\n",
    "model_reg.fit(X_train, y_train)"
   ]
  },
  {
   "cell_type": "markdown",
   "id": "8fc3cec9",
   "metadata": {},
   "source": [
    "**Etapas**:\n",
    "- `LinearRegression()`: Instancia o modelo de regressão linear\n",
    "- `.fit(X_train, y_train)`: Treina o modelo com os dados de treino\n",
    "\n",
    "Durante o treinamento, o modelo encontra os melhores valores para:\n",
    "- **Coeficiente (slope)** → `model_reg.coef_`\n",
    "- **Intercepto (bias)** → `model_reg.intercept_`"
   ]
  },
  {
   "cell_type": "markdown",
   "id": "8acae8af",
   "metadata": {},
   "source": [
    "### **5. Realização de Previsões**"
   ]
  },
  {
   "cell_type": "markdown",
   "id": "72ede5fc",
   "metadata": {},
   "source": [
    "- Usamos o modelo treinado para prever os valores do conjunto de teste:"
   ]
  },
  {
   "cell_type": "code",
   "execution_count": 57,
   "id": "c3d4d29c",
   "metadata": {},
   "outputs": [
    {
     "ename": "NameError",
     "evalue": "name 'X_test' is not defined",
     "output_type": "error",
     "traceback": [
      "\u001b[1;31m---------------------------------------------------------------------------\u001b[0m",
      "\u001b[1;31mNameError\u001b[0m                                 Traceback (most recent call last)",
      "Cell \u001b[1;32mIn[57], line 1\u001b[0m\n\u001b[1;32m----> 1\u001b[0m pred_reg \u001b[38;5;241m=\u001b[39m model_reg\u001b[38;5;241m.\u001b[39mpredict(\u001b[43mX_test\u001b[49m)\n",
      "\u001b[1;31mNameError\u001b[0m: name 'X_test' is not defined"
     ]
    }
   ],
   "source": [
    "pred_reg = model_reg.predict(X_test)"
   ]
  },
  {
   "cell_type": "markdown",
   "id": "269e672c",
   "metadata": {},
   "source": [
    "- `predict()` gera previsões com base nos valores de `X_test`."
   ]
  },
  {
   "cell_type": "markdown",
   "id": "19c35d93",
   "metadata": {},
   "source": [
    "### **6. Avaliação do Modelo (Erro Quadrático Médio - MSE)**"
   ]
  },
  {
   "cell_type": "markdown",
   "id": "4eb9314c",
   "metadata": {},
   "source": [
    "- Medimos a qualidade das previsões com o Erro Quadrático Médio (MSE):"
   ]
  },
  {
   "cell_type": "code",
   "execution_count": 58,
   "id": "9af1dc23",
   "metadata": {},
   "outputs": [
    {
     "ename": "NameError",
     "evalue": "name 'y_test' is not defined",
     "output_type": "error",
     "traceback": [
      "\u001b[1;31m---------------------------------------------------------------------------\u001b[0m",
      "\u001b[1;31mNameError\u001b[0m                                 Traceback (most recent call last)",
      "Cell \u001b[1;32mIn[58], line 1\u001b[0m\n\u001b[1;32m----> 1\u001b[0m mse \u001b[38;5;241m=\u001b[39m mean_squared_error(\u001b[43my_test\u001b[49m, pred_reg)\n",
      "\u001b[1;31mNameError\u001b[0m: name 'y_test' is not defined"
     ]
    }
   ],
   "source": [
    "mse = mean_squared_error(y_test, pred_reg)"
   ]
  },
  {
   "cell_type": "markdown",
   "id": "67b911ee",
   "metadata": {},
   "source": [
    "Fórmula do MSE:\n",
    "$$\n",
    "\\text{MSE} = \\frac{1}{n} \\sum_{i=1}^{n} (y_i - \\hat{y}_i)^2\n",
    "$$\n",
    "- $ y_i $: valor real\n",
    "- $ \\hat{y}_i $: valor previsto\n",
    "- Quanto menor o MSE, melhor o modelo se ajustou aos dados"
   ]
  },
  {
   "cell_type": "markdown",
   "id": "65a1c0c2",
   "metadata": {},
   "source": [
    "### **7. Interpretação dos Resultados**"
   ]
  },
  {
   "cell_type": "code",
   "execution_count": 59,
   "id": "d7df40c6",
   "metadata": {},
   "outputs": [
    {
     "name": "stdout",
     "output_type": "stream",
     "text": [
      "=== Regressão Linear ===\n"
     ]
    },
    {
     "ename": "AttributeError",
     "evalue": "'LinearRegression' object has no attribute 'coef_'",
     "output_type": "error",
     "traceback": [
      "\u001b[1;31m---------------------------------------------------------------------------\u001b[0m",
      "\u001b[1;31mAttributeError\u001b[0m                            Traceback (most recent call last)",
      "Cell \u001b[1;32mIn[59], line 2\u001b[0m\n\u001b[0;32m      1\u001b[0m \u001b[38;5;28mprint\u001b[39m(\u001b[38;5;124m\"\u001b[39m\u001b[38;5;124m=== Regressão Linear ===\u001b[39m\u001b[38;5;124m\"\u001b[39m)\n\u001b[1;32m----> 2\u001b[0m \u001b[38;5;28mprint\u001b[39m(\u001b[38;5;124m\"\u001b[39m\u001b[38;5;124mCoeficiente:\u001b[39m\u001b[38;5;124m\"\u001b[39m, \u001b[43mmodel_reg\u001b[49m\u001b[38;5;241;43m.\u001b[39;49m\u001b[43mcoef_\u001b[49m, \u001b[38;5;124m\"\u001b[39m\u001b[38;5;124mIntercepto:\u001b[39m\u001b[38;5;124m\"\u001b[39m, model_reg\u001b[38;5;241m.\u001b[39mintercept_)\n\u001b[0;32m      3\u001b[0m \u001b[38;5;28mprint\u001b[39m(\u001b[38;5;124m\"\u001b[39m\u001b[38;5;124mPrevisões teste:\u001b[39m\u001b[38;5;124m\"\u001b[39m, pred_reg)\n\u001b[0;32m      4\u001b[0m \u001b[38;5;28mprint\u001b[39m(\u001b[38;5;124m\"\u001b[39m\u001b[38;5;124mMSE (teste):\u001b[39m\u001b[38;5;124m\"\u001b[39m, mse)\n",
      "\u001b[1;31mAttributeError\u001b[0m: 'LinearRegression' object has no attribute 'coef_'"
     ]
    }
   ],
   "source": [
    "print(\"=== Regressão Linear ===\")\n",
    "print(\"Coeficiente:\", model_reg.coef_, \"Intercepto:\", model_reg.intercept_)\n",
    "print(\"Previsões teste:\", pred_reg)\n",
    "print(\"MSE (teste):\", mse)"
   ]
  },
  {
   "cell_type": "markdown",
   "id": "01c15641",
   "metadata": {},
   "source": [
    "**Exemplo de saída esperada:**\n",
    "```\n",
    "=== Regressão Linear ===\n",
    "Coeficiente: [2.] Intercepto: 1.0\n",
    "Previsões teste: [ 7.  9. 15.]\n",
    "MSE (teste): 0.0\n",
    "```\n",
    "\n",
    "**Análise**:\n",
    "- O modelo identificou corretamente a relação entre X e Y: **$ y = 2x + 1 $**\n",
    "- Como os dados são perfeitamente lineares, o erro (MSE) foi zero\n",
    "- Isso demonstra como a regressão linear funciona bem quando a relação é linear\n"
   ]
  },
  {
   "cell_type": "markdown",
   "id": "977d6269",
   "metadata": {},
   "source": [
    "### **8. Visualizando os dados**"
   ]
  },
  {
   "cell_type": "markdown",
   "id": "b9e8127e",
   "metadata": {},
   "source": [
    "- Podemos utilizar o `matplotlib` para plotar os pontos reais e as previsões do modelo."
   ]
  },
  {
   "cell_type": "code",
   "execution_count": 60,
   "id": "75e1b348",
   "metadata": {},
   "outputs": [
    {
     "ename": "NotFittedError",
     "evalue": "This LinearRegression instance is not fitted yet. Call 'fit' with appropriate arguments before using this estimator.",
     "output_type": "error",
     "traceback": [
      "\u001b[1;31m---------------------------------------------------------------------------\u001b[0m",
      "\u001b[1;31mNotFittedError\u001b[0m                            Traceback (most recent call last)",
      "Cell \u001b[1;32mIn[60], line 3\u001b[0m\n\u001b[0;32m      1\u001b[0m \u001b[38;5;66;03m# Gerar previsões no conjunto completo para plotar a linha da regressão\u001b[39;00m\n\u001b[0;32m      2\u001b[0m X_all \u001b[38;5;241m=\u001b[39m np\u001b[38;5;241m.\u001b[39marray([[i] \u001b[38;5;28;01mfor\u001b[39;00m i \u001b[38;5;129;01min\u001b[39;00m \u001b[38;5;28mrange\u001b[39m(\u001b[38;5;241m1\u001b[39m, \u001b[38;5;241m121\u001b[39m)])\n\u001b[1;32m----> 3\u001b[0m y_pred_all \u001b[38;5;241m=\u001b[39m \u001b[43mmodel_reg\u001b[49m\u001b[38;5;241;43m.\u001b[39;49m\u001b[43mpredict\u001b[49m\u001b[43m(\u001b[49m\u001b[43mX_all\u001b[49m\u001b[43m)\u001b[49m\n\u001b[0;32m      5\u001b[0m \u001b[38;5;66;03m# Plotar resultados\u001b[39;00m\n\u001b[0;32m      6\u001b[0m plt\u001b[38;5;241m.\u001b[39mfigure(figsize\u001b[38;5;241m=\u001b[39m(\u001b[38;5;241m10\u001b[39m, \u001b[38;5;241m6\u001b[39m))\n",
      "File \u001b[1;32mC:\\Analise_Dados_Python\\_m1Uc1\\m1Env\\lib\\site-packages\\sklearn\\linear_model\\_base.py:298\u001b[0m, in \u001b[0;36mLinearModel.predict\u001b[1;34m(self, X)\u001b[0m\n\u001b[0;32m    284\u001b[0m \u001b[38;5;28;01mdef\u001b[39;00m\u001b[38;5;250m \u001b[39m\u001b[38;5;21mpredict\u001b[39m(\u001b[38;5;28mself\u001b[39m, X):\n\u001b[0;32m    285\u001b[0m \u001b[38;5;250m    \u001b[39m\u001b[38;5;124;03m\"\"\"\u001b[39;00m\n\u001b[0;32m    286\u001b[0m \u001b[38;5;124;03m    Predict using the linear model.\u001b[39;00m\n\u001b[0;32m    287\u001b[0m \n\u001b[1;32m   (...)\u001b[0m\n\u001b[0;32m    296\u001b[0m \u001b[38;5;124;03m        Returns predicted values.\u001b[39;00m\n\u001b[0;32m    297\u001b[0m \u001b[38;5;124;03m    \"\"\"\u001b[39;00m\n\u001b[1;32m--> 298\u001b[0m     \u001b[38;5;28;01mreturn\u001b[39;00m \u001b[38;5;28;43mself\u001b[39;49m\u001b[38;5;241;43m.\u001b[39;49m\u001b[43m_decision_function\u001b[49m\u001b[43m(\u001b[49m\u001b[43mX\u001b[49m\u001b[43m)\u001b[49m\n",
      "File \u001b[1;32mC:\\Analise_Dados_Python\\_m1Uc1\\m1Env\\lib\\site-packages\\sklearn\\linear_model\\_base.py:275\u001b[0m, in \u001b[0;36mLinearModel._decision_function\u001b[1;34m(self, X)\u001b[0m\n\u001b[0;32m    274\u001b[0m \u001b[38;5;28;01mdef\u001b[39;00m\u001b[38;5;250m \u001b[39m\u001b[38;5;21m_decision_function\u001b[39m(\u001b[38;5;28mself\u001b[39m, X):\n\u001b[1;32m--> 275\u001b[0m     \u001b[43mcheck_is_fitted\u001b[49m\u001b[43m(\u001b[49m\u001b[38;5;28;43mself\u001b[39;49m\u001b[43m)\u001b[49m\n\u001b[0;32m    277\u001b[0m     X \u001b[38;5;241m=\u001b[39m validate_data(\u001b[38;5;28mself\u001b[39m, X, accept_sparse\u001b[38;5;241m=\u001b[39m[\u001b[38;5;124m\"\u001b[39m\u001b[38;5;124mcsr\u001b[39m\u001b[38;5;124m\"\u001b[39m, \u001b[38;5;124m\"\u001b[39m\u001b[38;5;124mcsc\u001b[39m\u001b[38;5;124m\"\u001b[39m, \u001b[38;5;124m\"\u001b[39m\u001b[38;5;124mcoo\u001b[39m\u001b[38;5;124m\"\u001b[39m], reset\u001b[38;5;241m=\u001b[39m\u001b[38;5;28;01mFalse\u001b[39;00m)\n\u001b[0;32m    278\u001b[0m     coef_ \u001b[38;5;241m=\u001b[39m \u001b[38;5;28mself\u001b[39m\u001b[38;5;241m.\u001b[39mcoef_\n",
      "File \u001b[1;32mC:\\Analise_Dados_Python\\_m1Uc1\\m1Env\\lib\\site-packages\\sklearn\\utils\\validation.py:1754\u001b[0m, in \u001b[0;36mcheck_is_fitted\u001b[1;34m(estimator, attributes, msg, all_or_any)\u001b[0m\n\u001b[0;32m   1751\u001b[0m     \u001b[38;5;28;01mreturn\u001b[39;00m\n\u001b[0;32m   1753\u001b[0m \u001b[38;5;28;01mif\u001b[39;00m \u001b[38;5;129;01mnot\u001b[39;00m _is_fitted(estimator, attributes, all_or_any):\n\u001b[1;32m-> 1754\u001b[0m     \u001b[38;5;28;01mraise\u001b[39;00m NotFittedError(msg \u001b[38;5;241m%\u001b[39m {\u001b[38;5;124m\"\u001b[39m\u001b[38;5;124mname\u001b[39m\u001b[38;5;124m\"\u001b[39m: \u001b[38;5;28mtype\u001b[39m(estimator)\u001b[38;5;241m.\u001b[39m\u001b[38;5;18m__name__\u001b[39m})\n",
      "\u001b[1;31mNotFittedError\u001b[0m: This LinearRegression instance is not fitted yet. Call 'fit' with appropriate arguments before using this estimator."
     ]
    }
   ],
   "source": [
    "# Gerar previsões no conjunto completo para plotar a linha da regressão\n",
    "X_all = np.array([[i] for i in range(1, 121)])\n",
    "y_pred_all = model_reg.predict(X_all)\n",
    "\n",
    "# Plotar resultados\n",
    "plt.figure(figsize=(10, 6))\n",
    "\n",
    "# Dados de treino\n",
    "plt.scatter(X_train, y_train, color='blue', label='Dados de Treino')\n",
    "\n",
    "# Dados de teste\n",
    "plt.scatter(X_test, y_test, color='orange', label='Dados de Teste')\n",
    "\n",
    "# Previsões nos dados de teste\n",
    "plt.scatter(X_test, pred_reg, color='red', marker='x', label='Previsões (Teste)')\n",
    "\n",
    "# Linha de regressão completa\n",
    "plt.plot(X_all, y_pred_all, color='green', label='Linha de Regressão')\n",
    "\n",
    "plt.title('Regressão Linear: Treino, Teste e Previsões')\n",
    "plt.xlabel('X')\n",
    "plt.ylabel('y')\n",
    "plt.legend()\n",
    "plt.grid(True)\n",
    "plt.tight_layout()\n",
    "plt.show()"
   ]
  },
  {
   "cell_type": "markdown",
   "id": "ae9b8ab1",
   "metadata": {},
   "source": [
    "**Nesta visualziação são apresentados**:\n",
    "- Pontos de **treinamento** (usados para treinar o modelo),\n",
    "- Pontos de **teste** (usados para avaliar),\n",
    "- A linha da **regressão linear** prevista pelo modelo.\n",
    "\n",
    "📊 **O que este gráfico mostra:**\n",
    "- **Pontos azuis**: Dados usados para **treinamento**.\n",
    "- **Pontos laranjas**: Dados usados para **teste**.\n",
    "- **Cruz vermelhas (x)**: As **previsões do modelo** sobre os dados de teste.\n",
    "- **Linha verde**: A reta ajustada pelo modelo (`y = a*x + b`) aplicada ao conjunto completo.\n",
    "\n",
    "✅ **Benefícios dessa visualização**:\n",
    "- Permite ver como o modelo se ajustou aos dados de treino,\n",
    "- Mostra como ele generalizou para os dados de teste,\n",
    "- E exibe graficamente a qualidade da regressão linear."
   ]
  },
  {
   "cell_type": "markdown",
   "id": "b518bb53",
   "metadata": {},
   "source": [
    "## **Resumo Final**"
   ]
  },
  {
   "cell_type": "markdown",
   "id": "185cd1f4",
   "metadata": {},
   "source": [
    "| Etapa | Descrição |\n",
    "|-------|-----------|\n",
    "| Dados | Criamos dados sintéticos com relação linear |\n",
    "| Divisão | Separamos os dados em treino (70%) e teste (30%) |\n",
    "| Modelo | Usamos `LinearRegression()` para criar o modelo |\n",
    "| Treino | Ajustamos o modelo aos dados de treino |\n",
    "| Previsão | Prevemos os valores de Y com base em X_test |\n",
    "| Avaliação | Medimos o erro com `mean_squared_error()` |\n",
    "| Resultado | O modelo aprendeu perfeitamente a relação linear |"
   ]
  },
  {
   "cell_type": "markdown",
   "id": "4401af18",
   "metadata": {},
   "source": [
    "## **Atividades Sugeridas**\n",
    "\n",
    "1. **Modifique os dados sintéticos**: Altere a fórmula para $ y = 3x + 2 $ e veja se o modelo consegue aprender a nova relação.\n",
    "2. **Adicione ruído aos dados**: Adicione valores aleatórios aos dados e observe como isso afeta o MSE.\n"
   ]
  }
 ],
 "metadata": {
  "kernelspec": {
   "display_name": "Python ML (venv)",
   "language": "python",
   "name": "machine_learning"
  },
  "language_info": {
   "codemirror_mode": {
    "name": "ipython",
    "version": 3
   },
   "file_extension": ".py",
   "mimetype": "text/x-python",
   "name": "python",
   "nbconvert_exporter": "python",
   "pygments_lexer": "ipython3",
   "version": "3.10.5"
  }
 },
 "nbformat": 4,
 "nbformat_minor": 5
}
