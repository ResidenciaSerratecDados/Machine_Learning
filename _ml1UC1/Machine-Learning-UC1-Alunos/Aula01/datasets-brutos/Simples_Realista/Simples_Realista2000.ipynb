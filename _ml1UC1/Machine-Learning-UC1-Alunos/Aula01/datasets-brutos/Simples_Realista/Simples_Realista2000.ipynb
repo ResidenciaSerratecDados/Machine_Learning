{
 "cells": [
  {
   "cell_type": "code",
   "execution_count": 1,
   "id": "d1e26e94-5128-4b57-b0a8-5ca0e0a69c48",
   "metadata": {},
   "outputs": [],
   "source": [
    "#importações das bibliotecas\n",
    "import pandas as pd\n",
    "import numpy as np\n",
    "import matplotlib.pyplot as plt\n",
    "from sklearn.preprocessing import StandardScaler\n",
    "from sklearn.impute import SimpleImputer\n",
    "from sklearn.ensemble import RandomForestRegressor\n",
    "from scipy import stats\n",
    "import json"
   ]
  },
  {
   "cell_type": "code",
   "execution_count": 2,
   "id": "a186968c-844b-46c5-b63e-d19bc05cf447",
   "metadata": {},
   "outputs": [],
   "source": [
    "#importação das planilhas csv para serem dataframes\n",
    "df2000 = pd.read_csv(\"dataset_sudeste_simples_realista_outliers-2K.csv\")"
   ]
  },
  {
   "cell_type": "code",
   "execution_count": 3,
   "id": "6c81361e-c0e6-4112-94e0-5149e337ae9e",
   "metadata": {},
   "outputs": [
    {
     "data": {
      "text/plain": [
       "['id', 'idade', 'renda', 'cidade', 'categoria', 'nota', 'feedback']"
      ]
     },
     "execution_count": 3,
     "metadata": {},
     "output_type": "execute_result"
    }
   ],
   "source": [
    "df2000.columns.tolist() #listar colunas de tabela de 2000 linhas"
   ]
  },
  {
   "cell_type": "code",
   "execution_count": 4,
   "id": "704fead7-6833-449f-9cf1-7e2edf1a3d53",
   "metadata": {},
   "outputs": [],
   "source": [
    "# Tratamento de NaN(nulos) - converter para 0 - tabela de 2000 linhas\n",
    "df2000['idade'] = df2000['idade'].fillna(0)\n",
    "df2000['renda'] = df2000['renda'].fillna(0)\n",
    "df2000['cidade'] = df2000['cidade'].fillna(0)\n",
    "df2000['categoria'] = df2000['categoria'].fillna(0)\n",
    "df2000['nota'] = df2000['nota'].fillna(0)\n",
    "df2000['feedback'] = df2000['feedback'].fillna(0)"
   ]
  },
  {
   "cell_type": "code",
   "execution_count": 5,
   "id": "61bfa068-5cf0-452d-9fea-899a79a29f60",
   "metadata": {},
   "outputs": [
    {
     "data": {
      "text/html": [
       "<div>\n",
       "<style scoped>\n",
       "    .dataframe tbody tr th:only-of-type {\n",
       "        vertical-align: middle;\n",
       "    }\n",
       "\n",
       "    .dataframe tbody tr th {\n",
       "        vertical-align: top;\n",
       "    }\n",
       "\n",
       "    .dataframe thead th {\n",
       "        text-align: right;\n",
       "    }\n",
       "</style>\n",
       "<table border=\"1\" class=\"dataframe\">\n",
       "  <thead>\n",
       "    <tr style=\"text-align: right;\">\n",
       "      <th></th>\n",
       "      <th>id</th>\n",
       "      <th>idade</th>\n",
       "      <th>renda</th>\n",
       "      <th>cidade</th>\n",
       "      <th>categoria</th>\n",
       "      <th>nota</th>\n",
       "      <th>feedback</th>\n",
       "    </tr>\n",
       "  </thead>\n",
       "  <tbody>\n",
       "    <tr>\n",
       "      <th>0</th>\n",
       "      <td>1</td>\n",
       "      <td>25.0</td>\n",
       "      <td>8861.10</td>\n",
       "      <td>São Paulo</td>\n",
       "      <td>A</td>\n",
       "      <td>5.5</td>\n",
       "      <td>Regular</td>\n",
       "    </tr>\n",
       "    <tr>\n",
       "      <th>1</th>\n",
       "      <td>2</td>\n",
       "      <td>31.0</td>\n",
       "      <td>4553.40</td>\n",
       "      <td>Belo Horizonte</td>\n",
       "      <td>B</td>\n",
       "      <td>8.4</td>\n",
       "      <td>Regular</td>\n",
       "    </tr>\n",
       "    <tr>\n",
       "      <th>2</th>\n",
       "      <td>3</td>\n",
       "      <td>48.0</td>\n",
       "      <td>8259.38</td>\n",
       "      <td>Rio de Janeiro</td>\n",
       "      <td>B</td>\n",
       "      <td>6.9</td>\n",
       "      <td>Regular</td>\n",
       "    </tr>\n",
       "    <tr>\n",
       "      <th>3</th>\n",
       "      <td>4</td>\n",
       "      <td>37.0</td>\n",
       "      <td>10690.56</td>\n",
       "      <td>Rio de Janeiro</td>\n",
       "      <td>A</td>\n",
       "      <td>5.7</td>\n",
       "      <td>Bom</td>\n",
       "    </tr>\n",
       "    <tr>\n",
       "      <th>4</th>\n",
       "      <td>5</td>\n",
       "      <td>48.0</td>\n",
       "      <td>9732.75</td>\n",
       "      <td>Rio de Janeiro</td>\n",
       "      <td>A</td>\n",
       "      <td>9.2</td>\n",
       "      <td>Bom</td>\n",
       "    </tr>\n",
       "    <tr>\n",
       "      <th>...</th>\n",
       "      <td>...</td>\n",
       "      <td>...</td>\n",
       "      <td>...</td>\n",
       "      <td>...</td>\n",
       "      <td>...</td>\n",
       "      <td>...</td>\n",
       "      <td>...</td>\n",
       "    </tr>\n",
       "    <tr>\n",
       "      <th>1995</th>\n",
       "      <td>1996</td>\n",
       "      <td>58.0</td>\n",
       "      <td>10338.47</td>\n",
       "      <td>Vitória</td>\n",
       "      <td>B</td>\n",
       "      <td>7.5</td>\n",
       "      <td>Bom</td>\n",
       "    </tr>\n",
       "    <tr>\n",
       "      <th>1996</th>\n",
       "      <td>1997</td>\n",
       "      <td>24.0</td>\n",
       "      <td>6455.35</td>\n",
       "      <td>Rio de Janeiro</td>\n",
       "      <td>B</td>\n",
       "      <td>1.4</td>\n",
       "      <td>Ruim</td>\n",
       "    </tr>\n",
       "    <tr>\n",
       "      <th>1997</th>\n",
       "      <td>1998</td>\n",
       "      <td>25.0</td>\n",
       "      <td>9565.07</td>\n",
       "      <td>Vitória</td>\n",
       "      <td>B</td>\n",
       "      <td>0.8</td>\n",
       "      <td>Bom</td>\n",
       "    </tr>\n",
       "    <tr>\n",
       "      <th>1998</th>\n",
       "      <td>1999</td>\n",
       "      <td>67.0</td>\n",
       "      <td>12117.89</td>\n",
       "      <td>Belo Horizonte</td>\n",
       "      <td>B</td>\n",
       "      <td>4.2</td>\n",
       "      <td>Bom</td>\n",
       "    </tr>\n",
       "    <tr>\n",
       "      <th>1999</th>\n",
       "      <td>2000</td>\n",
       "      <td>41.0</td>\n",
       "      <td>3538.89</td>\n",
       "      <td>Rio de Janeiro</td>\n",
       "      <td>A</td>\n",
       "      <td>8.0</td>\n",
       "      <td>Bom</td>\n",
       "    </tr>\n",
       "  </tbody>\n",
       "</table>\n",
       "<p>2000 rows × 7 columns</p>\n",
       "</div>"
      ],
      "text/plain": [
       "        id  idade     renda          cidade categoria  nota feedback\n",
       "0        1   25.0   8861.10       São Paulo         A   5.5  Regular\n",
       "1        2   31.0   4553.40  Belo Horizonte         B   8.4  Regular\n",
       "2        3   48.0   8259.38  Rio de Janeiro         B   6.9  Regular\n",
       "3        4   37.0  10690.56  Rio de Janeiro         A   5.7      Bom\n",
       "4        5   48.0   9732.75  Rio de Janeiro         A   9.2      Bom\n",
       "...    ...    ...       ...             ...       ...   ...      ...\n",
       "1995  1996   58.0  10338.47         Vitória         B   7.5      Bom\n",
       "1996  1997   24.0   6455.35  Rio de Janeiro         B   1.4     Ruim\n",
       "1997  1998   25.0   9565.07         Vitória         B   0.8      Bom\n",
       "1998  1999   67.0  12117.89  Belo Horizonte         B   4.2      Bom\n",
       "1999  2000   41.0   3538.89  Rio de Janeiro         A   8.0      Bom\n",
       "\n",
       "[2000 rows x 7 columns]"
      ]
     },
     "metadata": {},
     "output_type": "display_data"
    }
   ],
   "source": [
    "#feedbackisualização de tabela tratada de 2000 linhas\n",
    "display(df2000.head(2000))"
   ]
  },
  {
   "cell_type": "code",
   "execution_count": 6,
   "id": "6022f6be-baf4-4f3f-b55f-01f4bf25239a",
   "metadata": {},
   "outputs": [
    {
     "name": "stdout",
     "output_type": "stream",
     "text": [
      "\n",
      "### Descrição Estatística 2000###\n",
      "                id        idade         renda         nota\n",
      "count  2000.000000  2000.000000   2000.000000  2000.000000\n",
      "mean   1000.500000    43.079500   7152.859195     4.953450\n",
      "std     577.494589    17.469767   4286.642313     3.048064\n",
      "min       1.000000     0.000000      0.000000    -4.900000\n",
      "25%     500.750000    29.000000   3867.222500     2.400000\n",
      "50%    1000.500000    43.000000   7080.260000     5.000000\n",
      "75%    1500.250000    58.000000  10220.972500     7.400000\n",
      "max    2000.000000   120.000000  48514.760000    14.900000\n"
     ]
    }
   ],
   "source": [
    "# Média, mínimo, máximo, quartis, margem de erro, contagem\n",
    "print(\"\\n### Descrição Estatística 2000###\")\n",
    "print(df2000.describe())"
   ]
  },
  {
   "cell_type": "code",
   "execution_count": 7,
   "id": "b05672b4-388a-4378-94be-351604ead0ed",
   "metadata": {},
   "outputs": [
    {
     "name": "stdout",
     "output_type": "stream",
     "text": [
      "Média de Idade - 2000 Elementos: 43.0\n",
      "Mediana de Idade - 2000 Elementos: 43.0\n",
      "Desvio Padrão de Idade - 2000 Elementos: 17.0\n",
      "Maior Valor de Idade - 2000 Elementos: 120.0\n",
      "Menor Valor de Idade - 2000 Elementos: 0.0\n"
     ]
    }
   ],
   "source": [
    "# Cálculos Estatísticos de idade\n",
    "media_idade2000 = sum(df2000['idade'])/len(df2000['idade'])\n",
    "mediana_idade2000 = df2000['idade'].median()\n",
    "desvio_padrao_idade2000 = df2000['idade'].std()\n",
    "maximo_idade2000 = df2000['idade'].max()\n",
    "minimo_idade2000 = df2000['idade'].min()\n",
    "\n",
    "print('Média de Idade - 2000 Elementos:',round(media_idade2000,0))\n",
    "print('Mediana de Idade - 2000 Elementos:',round(mediana_idade2000,0))\n",
    "print('Desvio Padrão de Idade - 2000 Elementos:',round(desvio_padrao_idade2000,0))\n",
    "print('Maior Valor de Idade - 2000 Elementos:',round(maximo_idade2000,0))\n",
    "print('Menor Valor de Idade - 2000 Elementos:',round(minimo_idade2000,0))"
   ]
  },
  {
   "cell_type": "code",
   "execution_count": 8,
   "id": "41d54cb7-7ca2-4328-afdb-31b47d095ab5",
   "metadata": {},
   "outputs": [
    {
     "name": "stdout",
     "output_type": "stream",
     "text": [
      "Média de Renda - 2000 Elementos: 7152.86\n",
      "Mediana de Renda - 2000 Elementos: 7080.26\n",
      "Desvio Padrão de Renda - 2000 Elementos: 4286.64\n",
      "Maior Valor de Renda - 2000 Elementos: 48514.76\n",
      "Menor Valor de Renda - 2000 Elementos: 0.0\n"
     ]
    }
   ],
   "source": [
    "# Cálculos Estatísticos de renda\n",
    "media_renda2000 = sum(df2000['renda'])/len(df2000['renda'])\n",
    "mediana_renda2000 = df2000['renda'].median()\n",
    "desvio_padrao_renda2000 = df2000['renda'].std()\n",
    "maximo_renda2000 = df2000['renda'].max()\n",
    "minimo_renda2000 = df2000['renda'].min()\n",
    "\n",
    "print('Média de Renda - 2000 Elementos:',round(media_renda2000,2))\n",
    "print('Mediana de Renda - 2000 Elementos:',round(mediana_renda2000,2))\n",
    "print('Desvio Padrão de Renda - 2000 Elementos:',round(desvio_padrao_renda2000,2))\n",
    "print('Maior Valor de Renda - 2000 Elementos:',round(maximo_renda2000,2))\n",
    "print('Menor Valor de Renda - 2000 Elementos:',round(minimo_renda2000,2))"
   ]
  },
  {
   "cell_type": "code",
   "execution_count": 9,
   "id": "0f54a190-9682-46a4-b783-1a403370548d",
   "metadata": {},
   "outputs": [
    {
     "name": "stdout",
     "output_type": "stream",
     "text": [
      "Média de Nota - 2000 Elementos: 4.95\n",
      "Mediana de Nota - 2000 Elementos: 5.0\n",
      "Desvio Padrão de Nota - 2000 Elementos: 3.05\n",
      "Maior Valor de Nota - 2000 Elementos: 14.9\n",
      "Menor Valor de Nota - 2000 Elementos: -4.9\n"
     ]
    }
   ],
   "source": [
    "# Cálculos Estatísticos de nota\n",
    "media_nota2000 = sum(df2000['nota'])/len(df2000['nota'])\n",
    "mediana_nota2000 = df2000['nota'].median()\n",
    "desvio_padrao_nota2000 = df2000['nota'].std()\n",
    "maximo_nota2000 = df2000['nota'].max()\n",
    "minimo_nota2000 = df2000['nota'].min()\n",
    "\n",
    "print('Média de Nota - 2000 Elementos:',round(media_nota2000,2))\n",
    "print('Mediana de Nota - 2000 Elementos:',round(mediana_nota2000,2))\n",
    "print('Desvio Padrão de Nota - 2000 Elementos:',round(desvio_padrao_nota2000,2))\n",
    "print('Maior Valor de Nota - 2000 Elementos:',round(maximo_nota2000,2))\n",
    "print('Menor Valor de Nota - 2000 Elementos:',round(minimo_nota2000,2))"
   ]
  },
  {
   "cell_type": "code",
   "execution_count": 10,
   "id": "79236da5-ee74-4d7b-868e-f9fd86bd06df",
   "metadata": {},
   "outputs": [
    {
     "name": "stdout",
     "output_type": "stream",
     "text": [
      "\n",
      "\n",
      "\t IQR - Campo Renda - 2000\n",
      "\n",
      "\n",
      "Quartis -> Q1:  3867.22  ->  Q3: 10220.97\n",
      "IQR ----- 6353.75\n",
      "Limites - Inf: -5663.40  -> Sup: 19751.60\n"
     ]
    }
   ],
   "source": [
    "#Calculando o IQR e identificando os limites - Renda\n",
    "Q1_renda2000 = df2000['renda'].quantile(0.25)\n",
    "Q3_renda2000 = df2000['renda'].quantile(0.75)\n",
    "IQR_renda2000 = Q3_renda2000 - Q1_renda2000\n",
    "limite_inferior_renda2000 = Q1_renda2000 - 1.5 * IQR_renda2000\n",
    "limite_superior_renda2000 = Q3_renda2000 + 1.5 * IQR_renda2000\n",
    "\n",
    "print (f\"\\n\\n\\t IQR - Campo Renda - 2000\\n\\n\")\n",
    "print(f\"Quartis -> Q1: {Q1_renda2000:-8.2f}  ->  Q3: {Q3_renda2000:-8.2f}\")\n",
    "print(f\"IQR ----- {IQR_renda2000}\")\n",
    "print(f\"Limites - Inf: {limite_inferior_renda2000:-8.2f}  -> Sup: {limite_superior_renda2000:-8.2f}\")"
   ]
  },
  {
   "cell_type": "code",
   "execution_count": 11,
   "id": "592036fe-d6f6-4c72-be87-95bdf23696a9",
   "metadata": {},
   "outputs": [
    {
     "name": "stdout",
     "output_type": "stream",
     "text": [
      "\n",
      "\n",
      "\t IQR - Campo Idade - 2000\n",
      "\n",
      "\n",
      "Quartis -> Q1:    29.00  ->  Q3:    58.00\n",
      "IQR ----- 29.0\n",
      "Limites - Inf:   -14.50  -> Sup:   101.50\n"
     ]
    }
   ],
   "source": [
    "#Calculando o IQR e identificando os limites - Idade\n",
    "Q1_idade2000 = df2000['idade'].quantile(0.25)\n",
    "Q3_idade2000 = df2000['idade'].quantile(0.75)\n",
    "IQR_idade2000 = Q3_idade2000 - Q1_idade2000\n",
    "limite_inferior_idade2000 = Q1_idade2000 - 1.5 * IQR_idade2000\n",
    "limite_superior_idade2000 = Q3_idade2000 + 1.5 * IQR_idade2000\n",
    "\n",
    "print (f\"\\n\\n\\t IQR - Campo Idade - 2000\\n\\n\")\n",
    "print(f\"Quartis -> Q1: {Q1_idade2000:-8.2f}  ->  Q3: {Q3_idade2000:-8.2f}\")\n",
    "print(f\"IQR ----- {IQR_idade2000}\")\n",
    "print(f\"Limites - Inf: {limite_inferior_idade2000:-8.2f}  -> Sup: {limite_superior_idade2000:-8.2f}\")"
   ]
  },
  {
   "cell_type": "code",
   "execution_count": 12,
   "id": "f9debfeb-baca-4b0a-9a7a-5b5674a9c4eb",
   "metadata": {},
   "outputs": [
    {
     "name": "stdout",
     "output_type": "stream",
     "text": [
      "\n",
      "\n",
      "\t IQR - Campo Nota - 2000\n",
      "\n",
      "\n",
      "Quartis -> Q1:     2.40  ->  Q3:     7.40\n",
      "IQR ----- 5.0\n",
      "Limites - Inf:    -5.10  -> Sup:    14.90\n"
     ]
    }
   ],
   "source": [
    "#Calculando o IQR e identificando os limites - Nota\n",
    "Q1_nota2000 = df2000['nota'].quantile(0.25)\n",
    "Q3_nota2000 = df2000['nota'].quantile(0.75)\n",
    "IQR_nota2000 = Q3_nota2000 - Q1_nota2000\n",
    "limite_inferior_nota2000 = Q1_nota2000 - 1.5 * IQR_nota2000\n",
    "limite_superior_nota2000 = Q3_nota2000 + 1.5 * IQR_nota2000\n",
    "\n",
    "print (f\"\\n\\n\\t IQR - Campo Nota - 2000\\n\\n\")\n",
    "print(f\"Quartis -> Q1: {Q1_nota2000:-8.2f}  ->  Q3: {Q3_nota2000:-8.2f}\")\n",
    "print(f\"IQR ----- {IQR_nota2000}\")\n",
    "print(f\"Limites - Inf: {limite_inferior_nota2000:-8.2f}  -> Sup: {limite_superior_nota2000:-8.2f}\")"
   ]
  },
  {
   "cell_type": "code",
   "execution_count": 13,
   "id": "ff3dfa42-08da-4f6b-ad0d-51a0cb5ed2d9",
   "metadata": {},
   "outputs": [
    {
     "name": "stdout",
     "output_type": "stream",
     "text": [
      "\n",
      "### Possíveis Outliers em 'renda' - 2000 Elementos###\n",
      "\n",
      "        id  idade     renda          cidade categoria  nota feedback\n",
      "172    173  105.0  27857.71       São Paulo         A  -2.3     Ruim\n",
      "820    821    9.0  22241.86  Rio de Janeiro         B  -1.4     Ruim\n",
      "862    863   10.0  48514.76               0         A  13.8      Bom\n",
      "1351  1352    1.0  46988.03  Belo Horizonte         B  -4.0      Bom\n",
      "1459  1460    4.0  48081.63       São Paulo         A  -3.9      Bom\n",
      "1513  1514   97.0  22326.64  Belo Horizonte         B  13.6  Regular\n",
      "1811  1812   72.0  47162.76       São Paulo         B  14.9     Ruim\n",
      "1881  1882    9.0  32036.19  Rio de Janeiro         A  -4.9     Ruim\n",
      "1920  1921    7.0  32574.80  Rio de Janeiro         B  -3.5      Bom\n",
      "1932  1933    2.0  43487.79       São Paulo         B  -3.7     Ruim\n",
      "1991  1992    0.0  43164.18       São Paulo         A  -3.5     Ruim\n",
      "\n",
      "\n",
      "\n"
     ]
    }
   ],
   "source": [
    "#Outliers Renda\n",
    "outliers_renda2000 = df2000[(df2000['renda'] < limite_inferior_renda2000) | (df2000['renda'] > limite_superior_renda2000)]\n",
    "print(f\"\\n### Possíveis Outliers em 'renda' - 2000 Elementos###\\n\\n{outliers_renda2000}\\n\\n\\n\")"
   ]
  },
  {
   "cell_type": "code",
   "execution_count": 14,
   "id": "68c782be-0db5-4c1d-9689-9a3656e49a83",
   "metadata": {},
   "outputs": [
    {
     "name": "stdout",
     "output_type": "stream",
     "text": [
      "\n",
      "### Possíveis Outliers em 'idade' - 2000 Elementos###\n",
      "\n",
      "        id  idade     renda          cidade categoria  nota feedback\n",
      "172    173  105.0  27857.71       São Paulo         A  -2.3     Ruim\n",
      "214    215  120.0   1095.33  Rio de Janeiro         A  12.0  Regular\n",
      "469    470  115.0    975.36         Vitória         A  13.1     Ruim\n",
      "882    883  118.0   1018.34  Rio de Janeiro         B  -2.6     Ruim\n",
      "1053  1054  119.0    485.22       São Paulo         B  -2.3  Regular\n",
      "1959  1960  108.0  14069.93         Vitória         A  12.8  Regular\n",
      "\n",
      "\n",
      "\n"
     ]
    }
   ],
   "source": [
    "#Outliers Idade\n",
    "outliers_idade2000 = df2000[(df2000['idade'] < limite_inferior_idade2000) | (df2000['idade'] > limite_superior_idade2000)]\n",
    "print(f\"\\n### Possíveis Outliers em 'idade' - 2000 Elementos###\\n\\n{outliers_idade2000}\\n\\n\\n\")"
   ]
  },
  {
   "cell_type": "code",
   "execution_count": 15,
   "id": "35e9675a-fa8b-408f-88f3-cb946659a174",
   "metadata": {},
   "outputs": [
    {
     "name": "stdout",
     "output_type": "stream",
     "text": [
      "\n",
      "### Possíveis Outliers em 'nota' - 2000 Elementos###\n",
      "\n",
      "Empty DataFrame\n",
      "Columns: [id, idade, renda, cidade, categoria, nota, feedback]\n",
      "Index: []\n",
      "\n",
      "\n",
      "\n"
     ]
    }
   ],
   "source": [
    "#Outliers Nota\n",
    "outliers_nota2000 = df2000[(df2000['nota'] < limite_inferior_nota2000) | (df2000['nota'] > limite_superior_nota2000)]\n",
    "print(f\"\\n### Possíveis Outliers em 'nota' - 2000 Elementos###\\n\\n{outliers_nota2000}\\n\\n\\n\")"
   ]
  },
  {
   "cell_type": "code",
   "execution_count": 16,
   "id": "2faefb67-ed6c-4d03-aa5a-d5f07c8a4b56",
   "metadata": {},
   "outputs": [],
   "source": [
    "#Conversão da planilha tratada para csv\n",
    "df2000.to_csv('Simples_Realista_2000_Tratado.csv', index=False)"
   ]
  },
  {
   "cell_type": "code",
   "execution_count": 17,
   "id": "fde0ca15-5242-4022-80f6-67b706cc6bea",
   "metadata": {},
   "outputs": [
    {
     "name": "stdout",
     "output_type": "stream",
     "text": [
      "Arquivo salvo com sucesso para importação no MongoDB Atlas - 2000 linhas!\n"
     ]
    }
   ],
   "source": [
    "# Converter para lista de dicionários (documentos MongoDB)\n",
    "dados_mongo2000 = df2000.to_dict(orient='records')\n",
    "\n",
    "# Salvar como JSON\n",
    "with open('dados_mongo_Simples_Realista_2000.json', 'w', encoding='utf-8') as f:\n",
    "    json.dump(dados_mongo2000, f, ensure_ascii=False, indent=2)\n",
    "\n",
    "print(\"Arquivo salvo com sucesso para importação no MongoDB Atlas - 2000 linhas!\")"
   ]
  },
  {
   "cell_type": "code",
   "execution_count": 18,
   "id": "ea27bf52-88c9-4b3d-a596-e2588f2f85a9",
   "metadata": {},
   "outputs": [
    {
     "data": {
      "image/png": "[encoded data removed]",
      "text/plain": [
       "<Figure size 640x480 with 1 Axes>"
      ]
     },
     "metadata": {},
     "output_type": "display_data"
    }
   ],
   "source": [
    "#Geração Gráfico - Idade - 2000 linhas\n",
    "plt.boxplot(df2000['idade'])\n",
    "plt.title(\"Boxplot - Idade - 2000 Elementos\")\n",
    "plt.show()"
   ]
  },
  {
   "cell_type": "code",
   "execution_count": 19,
   "id": "e0b3f1aa-9677-433b-9be0-7c4b4da7306b",
   "metadata": {},
   "outputs": [
    {
     "data": {
      "image/png": "[encoded data removed]",
      "text/plain": [
       "<Figure size 640x480 with 1 Axes>"
      ]
     },
     "metadata": {},
     "output_type": "display_data"
    }
   ],
   "source": [
    "#Geração Gráfico - Renda - 2000 linhas\n",
    "plt.boxplot(df2000['renda'])\n",
    "plt.title(\"Boxplot - Renda - 2000 Elementos\")\n",
    "plt.show()"
   ]
  },
  {
   "cell_type": "code",
   "execution_count": 20,
   "id": "8774d8c1-b2d0-489a-a8dd-b976ab4c72e6",
   "metadata": {},
   "outputs": [
    {
     "data": {
      "image/png": "[encoded data removed]",
      "text/plain": [
       "<Figure size 640x480 with 1 Axes>"
      ]
     },
     "metadata": {},
     "output_type": "display_data"
    }
   ],
   "source": [
    "#Geração Gráfico - Nota - 2000 linhas\n",
    "plt.boxplot(df2000['nota'])\n",
    "plt.title(\"Boxplot - Nota - 2000 Elementos\")\n",
    "plt.show()"
   ]
  }
 ],
 "metadata": {
  "kernelspec": {
   "display_name": "Python ML (venv)",
   "language": "python",
   "name": "machine_learning"
  },
  "language_info": {
   "codemirror_mode": {
    "name": "ipython",
    "version": 3
   },
   "file_extension": ".py",
   "mimetype": "text/x-python",
   "name": "python",
   "nbconvert_exporter": "python",
   "pygments_lexer": "ipython3",
   "version": "3.10.5"
  }
 },
 "nbformat": 4,
 "nbformat_minor": 5
}
